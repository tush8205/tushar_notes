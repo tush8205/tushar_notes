{
 "cells": [
  {
   "cell_type": "code",
   "execution_count": 10,
   "id": "618a474a-011c-458b-a2b5-5fee0d99da1c",
   "metadata": {},
   "outputs": [],
   "source": [
    "\"https://www.flipkart.comimport requests\n",
    "from bs4 import BeautifulSoup as bs\n",
    "from urllib.request import urlopen \n",
    "import logging"
   ]
  },
  {
   "cell_type": "code",
   "execution_count": 11,
   "id": "c3ece328-bfbe-47bf-bebd-8ea7519fda8f",
   "metadata": {},
   "outputs": [],
   "source": [
    "flipcard_url=\"https://www.flipkart.com/search?q=\" + \"oneplusnord\""
   ]
  },
  {
   "cell_type": "code",
   "execution_count": 12,
   "id": "a7c05ddf-c2fd-439c-a8ef-e2ee431aecf3",
   "metadata": {},
   "outputs": [
    {
     "data": {
      "text/plain": [
       "'https://www.flipkart.com/search?q=oneplusnord'"
      ]
     },
     "execution_count": 12,
     "metadata": {},
     "output_type": "execute_result"
    }
   ],
   "source": [
    "flipcard_url"
   ]
  },
  {
   "cell_type": "code",
   "execution_count": 19,
   "id": "b57e3850-969b-4c22-86cf-c72a4ddc2e22",
   "metadata": {},
   "outputs": [],
   "source": [
    "urlclient=urlopen(flipcard_url)"
   ]
  },
  {
   "cell_type": "code",
   "execution_count": 20,
   "id": "578f4e7d-27b6-4435-98ec-3bf27bd4b980",
   "metadata": {},
   "outputs": [
    {
     "data": {
      "text/plain": [
       "<http.client.HTTPResponse at 0x7f207cb27af0>"
      ]
     },
     "execution_count": 20,
     "metadata": {},
     "output_type": "execute_result"
    }
   ],
   "source": [
    "urlclient\n"
   ]
  },
  {
   "cell_type": "code",
   "execution_count": 21,
   "id": "f3d131e9-6c43-458c-b561-4a54c2d2a73d",
   "metadata": {},
   "outputs": [],
   "source": [
    "flipcard_page=urlclient.read()"
   ]
  },
  {
   "cell_type": "code",
   "execution_count": 23,
   "id": "502302fa-524d-4eea-b301-a5895f6ae050",
   "metadata": {},
   "outputs": [],
   "source": [
    "flipcard_html=bs(flipcard_page,'html.parser')"
   ]
  },
  {
   "cell_type": "code",
   "execution_count": 29,
   "id": "9c06b83f-1e4f-4846-9f03-365491b603a1",
   "metadata": {},
   "outputs": [
    {
     "data": {
      "text/plain": [
       "'https://www.flipkart.com/oneplus-nord-ce-2-lite-5g-blue-tide-128-gb/p/itmb0f72d6334a47?pid=MOBGHBZHPYDVQ9FS&lid=LSTMOBGHBZHPYDVQ9FSIDCWDS&marketplace=FLIPKART&q=oneplusnord&store=tyy%2F4io&srno=s_1_1&otracker=search&iid=07c95545-4cba-468f-a2a8-247c8e129a5e.MOBGHBZHPYDVQ9FS.SEARCH&ssid=ct46r2l6z40000001677667222472&qH=5cd00de1916d663a'"
      ]
     },
     "execution_count": 29,
     "metadata": {},
     "output_type": "execute_result"
    }
   ],
   "source": [
    " \"https://www.flipkart.com/\" + \"oneplus-nord-ce-2-lite-5g-blue-tide-128-gb/p/itmb0f72d6334a47?pid=MOBGHBZHPYDVQ9FS&lid=LSTMOBGHBZHPYDVQ9FSIDCWDS&marketplace=FLIPKART&q=oneplusnord&store=tyy%2F4io&srno=s_1_1&otracker=search&iid=07c95545-4cba-468f-a2a8-247c8e129a5e.MOBGHBZHPYDVQ9FS.SEARCH&ssid=ct46r2l6z40000001677667222472&qH=5cd00de1916d663a\""
   ]
  },
  {
   "cell_type": "code",
   "execution_count": 35,
   "id": "02ae2f02-a579-4ad9-9f25-124d11c8a7f9",
   "metadata": {},
   "outputs": [],
   "source": [
    "big_box=flipcard_html.findAll(\"div\",{\"class\":\"_1AtVbE col-12-12\"})"
   ]
  },
  {
   "cell_type": "code",
   "execution_count": 36,
   "id": "8ee427cf-2fd6-46de-962b-5317c4e59ab5",
   "metadata": {},
   "outputs": [
    {
     "data": {
      "text/plain": [
       "30"
      ]
     },
     "execution_count": 36,
     "metadata": {},
     "output_type": "execute_result"
    }
   ],
   "source": [
    "len(big_box)"
   ]
  },
  {
   "cell_type": "code",
   "execution_count": 44,
   "id": "1734039c-2eac-416b-8a3a-e8a6b1cf2871",
   "metadata": {},
   "outputs": [],
   "source": [
    "del big_box[0:4]"
   ]
  },
  {
   "cell_type": "code",
   "execution_count": 39,
   "id": "61d3ab5d-a0a9-42ce-8dfd-48ba7ed4a92e",
   "metadata": {},
   "outputs": [
    {
     "data": {
      "text/plain": [
       "'/oneplus-nord-ce-2-lite-5g-blue-tide-128-gb/p/itm7acae55b999e6?pid=MOBGJMUHHJE55ARU&lid=LSTMOBGJMUHHJE55ARU9ZCDWW&marketplace=FLIPKART&q=oneplusnord&store=tyy%2F4io&srno=s_1_3&otracker=search&fm=organic&iid=8708abba-5dd1-4b0b-9208-e9c83290a19f.MOBGJMUHHJE55ARU.SEARCH&ppt=None&ppn=None&ssid=vc62o5qf5s0000001677667609682&qH=5cd00de1916d663a'"
      ]
     },
     "execution_count": 39,
     "metadata": {},
     "output_type": "execute_result"
    }
   ],
   "source": [
    "big_box[4].div.div.div.a['href']"
   ]
  },
  {
   "cell_type": "code",
   "execution_count": 46,
   "id": "389215fc-ac72-457c-ad12-5443670b3e71",
   "metadata": {},
   "outputs": [],
   "source": [
    "product_link=\"https://www.flipkart.com\"+big_box[4].div.div.div.a['href']"
   ]
  },
  {
   "cell_type": "code",
   "execution_count": 48,
   "id": "50407bb7-fe37-4298-afeb-ac9ffdda1416",
   "metadata": {},
   "outputs": [
    {
     "name": "stdout",
     "output_type": "stream",
     "text": [
      "https://www.flipkart.com/oneplus-nord-ce-2-lite-5g-blue-tide-128-gb/p/itm1ae3985883ae1?pid=MOBGMUBH6ZBCBQYU&lid=LSTMOBGMUBH6ZBCBQYULCNE6U&marketplace=FLIPKART&q=oneplusnord&store=tyy%2F4io&srno=s_1_7&otracker=search&fm=organic&iid=8708abba-5dd1-4b0b-9208-e9c83290a19f.MOBGMUBH6ZBCBQYU.SEARCH&ppt=None&ppn=None&ssid=vc62o5qf5s0000001677667609682&qH=5cd00de1916d663a\n",
      "https://www.flipkart.com/oneplus-nord-ce-2-lite-5g-blue-tide-128-gb/p/itm1ae3985883ae1?pid=MOBGMUBH6ZBCBQYU&lid=LSTMOBGMUBH6ZBCBQYULCNE6U&marketplace=FLIPKART&q=oneplusnord&store=tyy%2F4io&srno=s_1_7&otracker=search&fm=organic&iid=8708abba-5dd1-4b0b-9208-e9c83290a19f.MOBGMUBH6ZBCBQYU.SEARCH&ppt=None&ppn=None&ssid=vc62o5qf5s0000001677667609682&qH=5cd00de1916d663a\n",
      "https://www.flipkart.com/oneplus-nord-ce-2-lite-5g-blue-tide-128-gb/p/itm1ae3985883ae1?pid=MOBGMUBH6ZBCBQYU&lid=LSTMOBGMUBH6ZBCBQYULCNE6U&marketplace=FLIPKART&q=oneplusnord&store=tyy%2F4io&srno=s_1_7&otracker=search&fm=organic&iid=8708abba-5dd1-4b0b-9208-e9c83290a19f.MOBGMUBH6ZBCBQYU.SEARCH&ppt=None&ppn=None&ssid=vc62o5qf5s0000001677667609682&qH=5cd00de1916d663a\n",
      "https://www.flipkart.com/oneplus-nord-ce-2-lite-5g-blue-tide-128-gb/p/itm1ae3985883ae1?pid=MOBGMUBH6ZBCBQYU&lid=LSTMOBGMUBH6ZBCBQYULCNE6U&marketplace=FLIPKART&q=oneplusnord&store=tyy%2F4io&srno=s_1_7&otracker=search&fm=organic&iid=8708abba-5dd1-4b0b-9208-e9c83290a19f.MOBGMUBH6ZBCBQYU.SEARCH&ppt=None&ppn=None&ssid=vc62o5qf5s0000001677667609682&qH=5cd00de1916d663a\n",
      "https://www.flipkart.com/oneplus-nord-ce-2-lite-5g-blue-tide-128-gb/p/itm1ae3985883ae1?pid=MOBGMUBH6ZBCBQYU&lid=LSTMOBGMUBH6ZBCBQYULCNE6U&marketplace=FLIPKART&q=oneplusnord&store=tyy%2F4io&srno=s_1_7&otracker=search&fm=organic&iid=8708abba-5dd1-4b0b-9208-e9c83290a19f.MOBGMUBH6ZBCBQYU.SEARCH&ppt=None&ppn=None&ssid=vc62o5qf5s0000001677667609682&qH=5cd00de1916d663a\n",
      "https://www.flipkart.com/oneplus-nord-ce-2-lite-5g-blue-tide-128-gb/p/itm1ae3985883ae1?pid=MOBGMUBH6ZBCBQYU&lid=LSTMOBGMUBH6ZBCBQYULCNE6U&marketplace=FLIPKART&q=oneplusnord&store=tyy%2F4io&srno=s_1_7&otracker=search&fm=organic&iid=8708abba-5dd1-4b0b-9208-e9c83290a19f.MOBGMUBH6ZBCBQYU.SEARCH&ppt=None&ppn=None&ssid=vc62o5qf5s0000001677667609682&qH=5cd00de1916d663a\n",
      "https://www.flipkart.com/oneplus-nord-ce-2-lite-5g-blue-tide-128-gb/p/itm1ae3985883ae1?pid=MOBGMUBH6ZBCBQYU&lid=LSTMOBGMUBH6ZBCBQYULCNE6U&marketplace=FLIPKART&q=oneplusnord&store=tyy%2F4io&srno=s_1_7&otracker=search&fm=organic&iid=8708abba-5dd1-4b0b-9208-e9c83290a19f.MOBGMUBH6ZBCBQYU.SEARCH&ppt=None&ppn=None&ssid=vc62o5qf5s0000001677667609682&qH=5cd00de1916d663a\n",
      "https://www.flipkart.com/oneplus-nord-ce-2-lite-5g-blue-tide-128-gb/p/itm1ae3985883ae1?pid=MOBGMUBH6ZBCBQYU&lid=LSTMOBGMUBH6ZBCBQYULCNE6U&marketplace=FLIPKART&q=oneplusnord&store=tyy%2F4io&srno=s_1_7&otracker=search&fm=organic&iid=8708abba-5dd1-4b0b-9208-e9c83290a19f.MOBGMUBH6ZBCBQYU.SEARCH&ppt=None&ppn=None&ssid=vc62o5qf5s0000001677667609682&qH=5cd00de1916d663a\n",
      "https://www.flipkart.com/oneplus-nord-ce-2-lite-5g-blue-tide-128-gb/p/itm1ae3985883ae1?pid=MOBGMUBH6ZBCBQYU&lid=LSTMOBGMUBH6ZBCBQYULCNE6U&marketplace=FLIPKART&q=oneplusnord&store=tyy%2F4io&srno=s_1_7&otracker=search&fm=organic&iid=8708abba-5dd1-4b0b-9208-e9c83290a19f.MOBGMUBH6ZBCBQYU.SEARCH&ppt=None&ppn=None&ssid=vc62o5qf5s0000001677667609682&qH=5cd00de1916d663a\n",
      "https://www.flipkart.com/oneplus-nord-ce-2-lite-5g-blue-tide-128-gb/p/itm1ae3985883ae1?pid=MOBGMUBH6ZBCBQYU&lid=LSTMOBGMUBH6ZBCBQYULCNE6U&marketplace=FLIPKART&q=oneplusnord&store=tyy%2F4io&srno=s_1_7&otracker=search&fm=organic&iid=8708abba-5dd1-4b0b-9208-e9c83290a19f.MOBGMUBH6ZBCBQYU.SEARCH&ppt=None&ppn=None&ssid=vc62o5qf5s0000001677667609682&qH=5cd00de1916d663a\n",
      "https://www.flipkart.com/oneplus-nord-ce-2-lite-5g-blue-tide-128-gb/p/itm1ae3985883ae1?pid=MOBGMUBH6ZBCBQYU&lid=LSTMOBGMUBH6ZBCBQYULCNE6U&marketplace=FLIPKART&q=oneplusnord&store=tyy%2F4io&srno=s_1_7&otracker=search&fm=organic&iid=8708abba-5dd1-4b0b-9208-e9c83290a19f.MOBGMUBH6ZBCBQYU.SEARCH&ppt=None&ppn=None&ssid=vc62o5qf5s0000001677667609682&qH=5cd00de1916d663a\n",
      "https://www.flipkart.com/oneplus-nord-ce-2-lite-5g-blue-tide-128-gb/p/itm1ae3985883ae1?pid=MOBGMUBH6ZBCBQYU&lid=LSTMOBGMUBH6ZBCBQYULCNE6U&marketplace=FLIPKART&q=oneplusnord&store=tyy%2F4io&srno=s_1_7&otracker=search&fm=organic&iid=8708abba-5dd1-4b0b-9208-e9c83290a19f.MOBGMUBH6ZBCBQYU.SEARCH&ppt=None&ppn=None&ssid=vc62o5qf5s0000001677667609682&qH=5cd00de1916d663a\n",
      "https://www.flipkart.com/oneplus-nord-ce-2-lite-5g-blue-tide-128-gb/p/itm1ae3985883ae1?pid=MOBGMUBH6ZBCBQYU&lid=LSTMOBGMUBH6ZBCBQYULCNE6U&marketplace=FLIPKART&q=oneplusnord&store=tyy%2F4io&srno=s_1_7&otracker=search&fm=organic&iid=8708abba-5dd1-4b0b-9208-e9c83290a19f.MOBGMUBH6ZBCBQYU.SEARCH&ppt=None&ppn=None&ssid=vc62o5qf5s0000001677667609682&qH=5cd00de1916d663a\n",
      "https://www.flipkart.com/oneplus-nord-ce-2-lite-5g-blue-tide-128-gb/p/itm1ae3985883ae1?pid=MOBGMUBH6ZBCBQYU&lid=LSTMOBGMUBH6ZBCBQYULCNE6U&marketplace=FLIPKART&q=oneplusnord&store=tyy%2F4io&srno=s_1_7&otracker=search&fm=organic&iid=8708abba-5dd1-4b0b-9208-e9c83290a19f.MOBGMUBH6ZBCBQYU.SEARCH&ppt=None&ppn=None&ssid=vc62o5qf5s0000001677667609682&qH=5cd00de1916d663a\n",
      "https://www.flipkart.com/oneplus-nord-ce-2-lite-5g-blue-tide-128-gb/p/itm1ae3985883ae1?pid=MOBGMUBH6ZBCBQYU&lid=LSTMOBGMUBH6ZBCBQYULCNE6U&marketplace=FLIPKART&q=oneplusnord&store=tyy%2F4io&srno=s_1_7&otracker=search&fm=organic&iid=8708abba-5dd1-4b0b-9208-e9c83290a19f.MOBGMUBH6ZBCBQYU.SEARCH&ppt=None&ppn=None&ssid=vc62o5qf5s0000001677667609682&qH=5cd00de1916d663a\n",
      "https://www.flipkart.com/oneplus-nord-ce-2-lite-5g-blue-tide-128-gb/p/itm1ae3985883ae1?pid=MOBGMUBH6ZBCBQYU&lid=LSTMOBGMUBH6ZBCBQYULCNE6U&marketplace=FLIPKART&q=oneplusnord&store=tyy%2F4io&srno=s_1_7&otracker=search&fm=organic&iid=8708abba-5dd1-4b0b-9208-e9c83290a19f.MOBGMUBH6ZBCBQYU.SEARCH&ppt=None&ppn=None&ssid=vc62o5qf5s0000001677667609682&qH=5cd00de1916d663a\n",
      "https://www.flipkart.com/oneplus-nord-ce-2-lite-5g-blue-tide-128-gb/p/itm1ae3985883ae1?pid=MOBGMUBH6ZBCBQYU&lid=LSTMOBGMUBH6ZBCBQYULCNE6U&marketplace=FLIPKART&q=oneplusnord&store=tyy%2F4io&srno=s_1_7&otracker=search&fm=organic&iid=8708abba-5dd1-4b0b-9208-e9c83290a19f.MOBGMUBH6ZBCBQYU.SEARCH&ppt=None&ppn=None&ssid=vc62o5qf5s0000001677667609682&qH=5cd00de1916d663a\n",
      "https://www.flipkart.com/oneplus-nord-ce-2-lite-5g-blue-tide-128-gb/p/itm1ae3985883ae1?pid=MOBGMUBH6ZBCBQYU&lid=LSTMOBGMUBH6ZBCBQYULCNE6U&marketplace=FLIPKART&q=oneplusnord&store=tyy%2F4io&srno=s_1_7&otracker=search&fm=organic&iid=8708abba-5dd1-4b0b-9208-e9c83290a19f.MOBGMUBH6ZBCBQYU.SEARCH&ppt=None&ppn=None&ssid=vc62o5qf5s0000001677667609682&qH=5cd00de1916d663a\n",
      "https://www.flipkart.com/oneplus-nord-ce-2-lite-5g-blue-tide-128-gb/p/itm1ae3985883ae1?pid=MOBGMUBH6ZBCBQYU&lid=LSTMOBGMUBH6ZBCBQYULCNE6U&marketplace=FLIPKART&q=oneplusnord&store=tyy%2F4io&srno=s_1_7&otracker=search&fm=organic&iid=8708abba-5dd1-4b0b-9208-e9c83290a19f.MOBGMUBH6ZBCBQYU.SEARCH&ppt=None&ppn=None&ssid=vc62o5qf5s0000001677667609682&qH=5cd00de1916d663a\n",
      "https://www.flipkart.com/oneplus-nord-ce-2-lite-5g-blue-tide-128-gb/p/itm1ae3985883ae1?pid=MOBGMUBH6ZBCBQYU&lid=LSTMOBGMUBH6ZBCBQYULCNE6U&marketplace=FLIPKART&q=oneplusnord&store=tyy%2F4io&srno=s_1_7&otracker=search&fm=organic&iid=8708abba-5dd1-4b0b-9208-e9c83290a19f.MOBGMUBH6ZBCBQYU.SEARCH&ppt=None&ppn=None&ssid=vc62o5qf5s0000001677667609682&qH=5cd00de1916d663a\n",
      "https://www.flipkart.com/oneplus-nord-ce-2-lite-5g-blue-tide-128-gb/p/itm1ae3985883ae1?pid=MOBGMUBH6ZBCBQYU&lid=LSTMOBGMUBH6ZBCBQYULCNE6U&marketplace=FLIPKART&q=oneplusnord&store=tyy%2F4io&srno=s_1_7&otracker=search&fm=organic&iid=8708abba-5dd1-4b0b-9208-e9c83290a19f.MOBGMUBH6ZBCBQYU.SEARCH&ppt=None&ppn=None&ssid=vc62o5qf5s0000001677667609682&qH=5cd00de1916d663a\n",
      "https://www.flipkart.com/oneplus-nord-ce-2-lite-5g-blue-tide-128-gb/p/itm1ae3985883ae1?pid=MOBGMUBH6ZBCBQYU&lid=LSTMOBGMUBH6ZBCBQYULCNE6U&marketplace=FLIPKART&q=oneplusnord&store=tyy%2F4io&srno=s_1_7&otracker=search&fm=organic&iid=8708abba-5dd1-4b0b-9208-e9c83290a19f.MOBGMUBH6ZBCBQYU.SEARCH&ppt=None&ppn=None&ssid=vc62o5qf5s0000001677667609682&qH=5cd00de1916d663a\n",
      "https://www.flipkart.com/oneplus-nord-ce-2-lite-5g-blue-tide-128-gb/p/itm1ae3985883ae1?pid=MOBGMUBH6ZBCBQYU&lid=LSTMOBGMUBH6ZBCBQYULCNE6U&marketplace=FLIPKART&q=oneplusnord&store=tyy%2F4io&srno=s_1_7&otracker=search&fm=organic&iid=8708abba-5dd1-4b0b-9208-e9c83290a19f.MOBGMUBH6ZBCBQYU.SEARCH&ppt=None&ppn=None&ssid=vc62o5qf5s0000001677667609682&qH=5cd00de1916d663a\n",
      "https://www.flipkart.com/oneplus-nord-ce-2-lite-5g-blue-tide-128-gb/p/itm1ae3985883ae1?pid=MOBGMUBH6ZBCBQYU&lid=LSTMOBGMUBH6ZBCBQYULCNE6U&marketplace=FLIPKART&q=oneplusnord&store=tyy%2F4io&srno=s_1_7&otracker=search&fm=organic&iid=8708abba-5dd1-4b0b-9208-e9c83290a19f.MOBGMUBH6ZBCBQYU.SEARCH&ppt=None&ppn=None&ssid=vc62o5qf5s0000001677667609682&qH=5cd00de1916d663a\n",
      "https://www.flipkart.com/oneplus-nord-ce-2-lite-5g-blue-tide-128-gb/p/itm1ae3985883ae1?pid=MOBGMUBH6ZBCBQYU&lid=LSTMOBGMUBH6ZBCBQYULCNE6U&marketplace=FLIPKART&q=oneplusnord&store=tyy%2F4io&srno=s_1_7&otracker=search&fm=organic&iid=8708abba-5dd1-4b0b-9208-e9c83290a19f.MOBGMUBH6ZBCBQYU.SEARCH&ppt=None&ppn=None&ssid=vc62o5qf5s0000001677667609682&qH=5cd00de1916d663a\n",
      "https://www.flipkart.com/oneplus-nord-ce-2-lite-5g-blue-tide-128-gb/p/itm1ae3985883ae1?pid=MOBGMUBH6ZBCBQYU&lid=LSTMOBGMUBH6ZBCBQYULCNE6U&marketplace=FLIPKART&q=oneplusnord&store=tyy%2F4io&srno=s_1_7&otracker=search&fm=organic&iid=8708abba-5dd1-4b0b-9208-e9c83290a19f.MOBGMUBH6ZBCBQYU.SEARCH&ppt=None&ppn=None&ssid=vc62o5qf5s0000001677667609682&qH=5cd00de1916d663a\n"
     ]
    }
   ],
   "source": [
    "for i in big_box:\n",
    "    print(product_link)"
   ]
  },
  {
   "cell_type": "code",
   "execution_count": 49,
   "id": "8ba0116c-3ab7-4d68-9809-26d59ee97a13",
   "metadata": {},
   "outputs": [
    {
     "data": {
      "text/plain": [
       "'https://www.flipkart.com/oneplus-nord-ce-2-lite-5g-blue-tide-128-gb/p/itm1ae3985883ae1?pid=MOBGMUBH6ZBCBQYU&lid=LSTMOBGMUBH6ZBCBQYULCNE6U&marketplace=FLIPKART&q=oneplusnord&store=tyy%2F4io&srno=s_1_7&otracker=search&fm=organic&iid=8708abba-5dd1-4b0b-9208-e9c83290a19f.MOBGMUBH6ZBCBQYU.SEARCH&ppt=None&ppn=None&ssid=vc62o5qf5s0000001677667609682&qH=5cd00de1916d663a'"
      ]
     },
     "execution_count": 49,
     "metadata": {},
     "output_type": "execute_result"
    }
   ],
   "source": [
    "product_link\n"
   ]
  },
  {
   "cell_type": "code",
   "execution_count": 50,
   "id": "8b6fe4d4-3a57-4c1b-8a68-0a9d87075a76",
   "metadata": {},
   "outputs": [],
   "source": [
    "product_req=requests.get(product_link)"
   ]
  },
  {
   "cell_type": "code",
   "execution_count": 51,
   "id": "68e06674-47bf-4387-a161-f456627ba75d",
   "metadata": {},
   "outputs": [
    {
     "data": {
      "text/plain": [
       "<Response [200]>"
      ]
     },
     "execution_count": 51,
     "metadata": {},
     "output_type": "execute_result"
    }
   ],
   "source": [
    "product_req"
   ]
  },
  {
   "cell_type": "code",
   "execution_count": 55,
   "id": "3bfe47f3-cb08-4b1d-8f71-d86b763e296a",
   "metadata": {},
   "outputs": [],
   "source": [
    "product_html=bs(product_req.text,'html.parser')"
   ]
  },
  {
   "cell_type": "code",
   "execution_count": 57,
   "id": "3bf86af1-b86e-4934-9cb5-34f125607ba9",
   "metadata": {},
   "outputs": [],
   "source": [
    "comment_box=product_html.findAll(\"div\",{\"class\":\"_16PBlm\"})"
   ]
  },
  {
   "cell_type": "code",
   "execution_count": 58,
   "id": "ca037799-a1d5-4c9e-b550-200d34103945",
   "metadata": {},
   "outputs": [
    {
     "data": {
      "text/plain": [
       "11"
      ]
     },
     "execution_count": 58,
     "metadata": {},
     "output_type": "execute_result"
    }
   ],
   "source": [
    "len(comment_box)"
   ]
  },
  {
   "cell_type": "code",
   "execution_count": 63,
   "id": "70d1b7a9-9fcd-42e1-8f8f-4d7dd2ccee89",
   "metadata": {},
   "outputs": [
    {
     "data": {
      "text/plain": [
       "'Must buy!'"
      ]
     },
     "execution_count": 63,
     "metadata": {},
     "output_type": "execute_result"
    }
   ],
   "source": [
    "comment_box[0].div.div.find_all(\"p\",{\"class\":\"_2-N8zT\"})[0].text"
   ]
  },
  {
   "cell_type": "code",
   "execution_count": 66,
   "id": "35ec044c-ce18-4362-ab17-2bf964f3b58a",
   "metadata": {},
   "outputs": [
    {
     "name": "stdout",
     "output_type": "stream",
     "text": [
      "Must buy!\n",
      "Delightful\n",
      "Nice product\n",
      "Nice product\n",
      "Best in the market!\n",
      "Decent product\n",
      "Very Good\n",
      "Value-for-money\n",
      "Worthless\n",
      "Wonderful\n"
     ]
    },
    {
     "ename": "AttributeError",
     "evalue": "'NoneType' object has no attribute 'div'",
     "output_type": "error",
     "traceback": [
      "\u001b[0;31m---------------------------------------------------------------------------\u001b[0m",
      "\u001b[0;31mAttributeError\u001b[0m                            Traceback (most recent call last)",
      "Cell \u001b[0;32mIn[66], line 2\u001b[0m\n\u001b[1;32m      1\u001b[0m \u001b[38;5;28;01mfor\u001b[39;00m i \u001b[38;5;129;01min\u001b[39;00m comment_box:\n\u001b[0;32m----> 2\u001b[0m     \u001b[38;5;28mprint\u001b[39m(\u001b[43mi\u001b[49m\u001b[38;5;241;43m.\u001b[39;49m\u001b[43mdiv\u001b[49m\u001b[38;5;241;43m.\u001b[39;49m\u001b[43mdiv\u001b[49m\u001b[38;5;241m.\u001b[39mfind_all(\u001b[38;5;124m\"\u001b[39m\u001b[38;5;124mp\u001b[39m\u001b[38;5;124m\"\u001b[39m,{\u001b[38;5;124m\"\u001b[39m\u001b[38;5;124mclass\u001b[39m\u001b[38;5;124m\"\u001b[39m:\u001b[38;5;124m\"\u001b[39m\u001b[38;5;124m_2-N8zT\u001b[39m\u001b[38;5;124m\"\u001b[39m})[\u001b[38;5;241m0\u001b[39m]\u001b[38;5;241m.\u001b[39mtext)\n",
      "\u001b[0;31mAttributeError\u001b[0m: 'NoneType' object has no attribute 'div'"
     ]
    }
   ],
   "source": [
    "for i in comment_box:\n",
    "    print(i.div.div.find_all(\"p\",{\"class\":\"_2-N8zT\"})[0].text)"
   ]
  },
  {
   "cell_type": "code",
   "execution_count": 72,
   "id": "421cf116-7a9a-4bc8-87be-0c6a39e00b61",
   "metadata": {},
   "outputs": [
    {
     "data": {
      "text/plain": [
       "'5'"
      ]
     },
     "execution_count": 72,
     "metadata": {},
     "output_type": "execute_result"
    }
   ],
   "source": [
    "comment_box[0].div.div.div.div.text"
   ]
  },
  {
   "cell_type": "code",
   "execution_count": 73,
   "id": "30aa7119-e76f-4f04-8a29-1a862a072a68",
   "metadata": {},
   "outputs": [
    {
     "name": "stdout",
     "output_type": "stream",
     "text": [
      "5\n",
      "4\n",
      "4\n",
      "4\n",
      "5\n",
      "3\n",
      "4\n",
      "4\n",
      "1\n",
      "4\n"
     ]
    },
    {
     "ename": "AttributeError",
     "evalue": "'NoneType' object has no attribute 'div'",
     "output_type": "error",
     "traceback": [
      "\u001b[0;31m---------------------------------------------------------------------------\u001b[0m",
      "\u001b[0;31mAttributeError\u001b[0m                            Traceback (most recent call last)",
      "Cell \u001b[0;32mIn[73], line 2\u001b[0m\n\u001b[1;32m      1\u001b[0m \u001b[38;5;28;01mfor\u001b[39;00m i \u001b[38;5;129;01min\u001b[39;00m comment_box:\n\u001b[0;32m----> 2\u001b[0m     \u001b[38;5;28mprint\u001b[39m(\u001b[43mi\u001b[49m\u001b[38;5;241;43m.\u001b[39;49m\u001b[43mdiv\u001b[49m\u001b[38;5;241;43m.\u001b[39;49m\u001b[43mdiv\u001b[49m\u001b[38;5;241m.\u001b[39mdiv\u001b[38;5;241m.\u001b[39mdiv\u001b[38;5;241m.\u001b[39mtext)\n",
      "\u001b[0;31mAttributeError\u001b[0m: 'NoneType' object has no attribute 'div'"
     ]
    }
   ],
   "source": [
    "for i in comment_box:\n",
    "    print(i.div.div.div.div.text)"
   ]
  },
  {
   "cell_type": "code",
   "execution_count": 78,
   "id": "479cd3af-30e8-46a8-b963-48d5614ce10f",
   "metadata": {},
   "outputs": [
    {
     "data": {
      "text/plain": [
       "'Must buy!'"
      ]
     },
     "execution_count": 78,
     "metadata": {},
     "output_type": "execute_result"
    }
   ],
   "source": [
    "comment_box[0].div.div.div.p.text\n"
   ]
  },
  {
   "cell_type": "code",
   "execution_count": 79,
   "id": "54a96a62-f679-42e6-9076-1b52c10f4132",
   "metadata": {},
   "outputs": [
    {
     "name": "stdout",
     "output_type": "stream",
     "text": [
      "Must buy!\n",
      "Delightful\n",
      "Nice product\n",
      "Nice product\n",
      "Best in the market!\n",
      "Decent product\n",
      "Very Good\n",
      "Value-for-money\n",
      "Worthless\n",
      "Wonderful\n"
     ]
    },
    {
     "ename": "AttributeError",
     "evalue": "'NoneType' object has no attribute 'div'",
     "output_type": "error",
     "traceback": [
      "\u001b[0;31m---------------------------------------------------------------------------\u001b[0m",
      "\u001b[0;31mAttributeError\u001b[0m                            Traceback (most recent call last)",
      "Cell \u001b[0;32mIn[79], line 2\u001b[0m\n\u001b[1;32m      1\u001b[0m \u001b[38;5;28;01mfor\u001b[39;00m i \u001b[38;5;129;01min\u001b[39;00m comment_box:\n\u001b[0;32m----> 2\u001b[0m     \u001b[38;5;28mprint\u001b[39m(\u001b[43mi\u001b[49m\u001b[38;5;241;43m.\u001b[39;49m\u001b[43mdiv\u001b[49m\u001b[38;5;241;43m.\u001b[39;49m\u001b[43mdiv\u001b[49m\u001b[38;5;241m.\u001b[39mdiv\u001b[38;5;241m.\u001b[39mp\u001b[38;5;241m.\u001b[39mtext)\n",
      "\u001b[0;31mAttributeError\u001b[0m: 'NoneType' object has no attribute 'div'"
     ]
    }
   ],
   "source": [
    "for i in comment_box:\n",
    "    print(i.div.div.div.p.text)"
   ]
  },
  {
   "cell_type": "code",
   "execution_count": 102,
   "id": "d002e307-64f7-4f09-84f5-33197245ff2f",
   "metadata": {},
   "outputs": [
    {
     "data": {
      "text/plain": [
       "\"Just now I received my phoneDesign & build quality is good according to price rangeCamera overall goodDisplay & performance is also good for normal usage (less heavy uses)Features are also very smooth It's my first day of usage so I'll edit my review after useThank you.\""
      ]
     },
     "execution_count": 102,
     "metadata": {},
     "output_type": "execute_result"
    }
   ],
   "source": [
    "comment_box[0].div.div.find_all(\"div\",{\"class\":\"\"})[0].div.text"
   ]
  },
  {
   "cell_type": "code",
   "execution_count": 103,
   "id": "676d0f8e-ae0f-46d0-933e-b5c0f4f611c2",
   "metadata": {},
   "outputs": [
    {
     "name": "stdout",
     "output_type": "stream",
     "text": [
      "Just now I received my phoneDesign & build quality is good according to price rangeCamera overall goodDisplay & performance is also good for normal usage (less heavy uses)Features are also very smooth It's my first day of usage so I'll edit my review after useThank you.\n",
      "A Midrange phone from OnePlus.Why I choose this phone is only because of the Brand value.We have more other options like Vivo T1 ,Realme 9,9pro , Oppo ,Motorola.But the OnePlus has their own premium feel The reason why I have given only 4 star:-1-The AMOLED display is not there.But it is not important.2- Wide angle lens is also not there.3- They have removed Alert slider.Other wise the phone is perfect. I am satisfied with this device 95%.You can go for it.The important thing is tha...\n",
      "Very good mobile good camera everything is good i love This  mobile phone❤️\n",
      "So I was sceptical about buying this budget phone of a premium brand as I guessed there would be obviously some shortfalls as compared to the normal range phones like oppo, realme etc. I have been using this phone since a week and I shall write my reviews based on my user experience. My previous phone was realme and have also used redmi note 10 pro, so I shall compare with them as well. I'm not a techie but as a common smart phone user let me jot down what I felt.Pros: Phone looks absolutel...\n",
      "Thanku so much Flipkart..best phone 📱 I am so happy 😊Super fast charging cable 🚠😊 Camera best phone 📱🤳Thanku .😊😊💜💜 Love u Flipkart\n",
      "Good phone but battery is not up to the mark. Battery drains faster when it's moderate usage. 33w charger is the only plus.Phone feels little heavier while comparing other phones at this price segment.OnePlus logo is not clearly visible at backside.Some features like \"Google Service for VR\" is not working in this model.Overall I can give 3 rating out of 5.\n",
      "Looking very nice, light weight 5g supported.I am using this band for the first time. But I want to say the phone does not have so many features. It's looking less features and just time passes. I love moto phones and I clearly say that the moto phone  15000 range has a gud camera, and so many features.\n",
      "Best performance battery 🔋 superb and I love oxygen OS build quality almost good go for it 😘\n",
      "Being a OnePlus user for more than 5 years, with the same expectations, I ordered this phone but was utterly disappointed.On the first day of use, I feel using my old  OnePlus 6t is best to use to date.Pros: good Battery back up, fast, no heating observed even playing game for more than 1 hour, fast face recognition and unlock.Cons: (strictly in my opinion) The display seems poor, the rear camera was not impressive, finger print sensor detection is too slow.Finally, It seems to me like O...\n",
      "Superb fantastic 😍 thank you Flipkart ❤️😇im so happy 😊\n"
     ]
    },
    {
     "ename": "AttributeError",
     "evalue": "'NoneType' object has no attribute 'div'",
     "output_type": "error",
     "traceback": [
      "\u001b[0;31m---------------------------------------------------------------------------\u001b[0m",
      "\u001b[0;31mAttributeError\u001b[0m                            Traceback (most recent call last)",
      "Cell \u001b[0;32mIn[103], line 2\u001b[0m\n\u001b[1;32m      1\u001b[0m \u001b[38;5;28;01mfor\u001b[39;00m i \u001b[38;5;129;01min\u001b[39;00m comment_box:\n\u001b[0;32m----> 2\u001b[0m     \u001b[38;5;28mprint\u001b[39m(\u001b[43mi\u001b[49m\u001b[38;5;241;43m.\u001b[39;49m\u001b[43mdiv\u001b[49m\u001b[38;5;241;43m.\u001b[39;49m\u001b[43mdiv\u001b[49m\u001b[38;5;241m.\u001b[39mfind_all(\u001b[38;5;124m\"\u001b[39m\u001b[38;5;124mdiv\u001b[39m\u001b[38;5;124m\"\u001b[39m,{\u001b[38;5;124m\"\u001b[39m\u001b[38;5;124mclass\u001b[39m\u001b[38;5;124m\"\u001b[39m:\u001b[38;5;124m\"\u001b[39m\u001b[38;5;124m\"\u001b[39m})[\u001b[38;5;241m0\u001b[39m]\u001b[38;5;241m.\u001b[39mdiv\u001b[38;5;241m.\u001b[39mtext)\n",
      "\u001b[0;31mAttributeError\u001b[0m: 'NoneType' object has no attribute 'div'"
     ]
    }
   ],
   "source": [
    "for i in comment_box:\n",
    "    print(i.div.div.find_all(\"div\",{\"class\":\"\"})[0].div.text)"
   ]
  },
  {
   "cell_type": "code",
   "execution_count": null,
   "id": "f4888b8e-c0ee-46e3-9ad6-ec2f91fedf6e",
   "metadata": {},
   "outputs": [],
   "source": []
  }
 ],
 "metadata": {
  "kernelspec": {
   "display_name": "Python 3 (ipykernel)",
   "language": "python",
   "name": "python3"
  },
  "language_info": {
   "codemirror_mode": {
    "name": "ipython",
    "version": 3
   },
   "file_extension": ".py",
   "mimetype": "text/x-python",
   "name": "python",
   "nbconvert_exporter": "python",
   "pygments_lexer": "ipython3",
   "version": "3.10.8"
  }
 },
 "nbformat": 4,
 "nbformat_minor": 5
}
