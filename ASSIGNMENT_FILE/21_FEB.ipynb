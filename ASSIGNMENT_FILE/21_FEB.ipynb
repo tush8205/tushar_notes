{
 "cells": [
  {
   "attachments": {},
   "cell_type": "markdown",
   "metadata": {},
   "source": [
    "Q1.What is Web Scraping? Why is it Used? Give three areas where Web Scraping is used to get data?\n",
    "ANS:Web Scrapping is an automatic method to obtain large amount of data  from websites.Most of this data is unstructured data in an HTML format which is then converted into structured data in a spreadsheet or a database so that it can be used in various applications.\n",
    "Web Scrapping is used in a variety of digital businesses that rely on data harvesting.Legitimate use cases include: Search engine bots crawling a site, analyzing its content and then ranking it .\n",
    "Areas where web scrapping is used are below:\n",
    "1.Analyzing social media web data\n",
    "2.Applying macine learning techniques\n",
    "3.Gathering web data automatically\n",
    "4.Researching new concepts in a field\n"
   ]
  },
  {
   "attachments": {},
   "cell_type": "markdown",
   "metadata": {},
   "source": [
    "Q2. What are the different methods used for Web Scraping?\n",
    "ANS:1.HTTP Programming\n",
    "    2.HTML Parsing\n",
    "    3.DOM Parsing\n",
    "    4.Vertical Aggregation\n",
    "    5.Semantic annotation recongnizing\n",
    "    6.Text pattern matching\n"
   ]
  },
  {
   "attachments": {},
   "cell_type": "markdown",
   "metadata": {},
   "source": [
    "Q3. What is Beautiful Soup? Why is it used?\n",
    "ANS:Beautifuk Soup is a python library that makes it easy to scrape  information  from web  pages . It sits a top an HTML ox XML parser and provide pythonic  idioms for iterating, searching and modifying the parse tree.\n",
    "It can handle imperfect HTML\n",
    "It can parse different types of data\n",
    "It has powerful seraching capabilities\n",
    "It is easy to use\n"
   ]
  },
  {
   "attachments": {},
   "cell_type": "markdown",
   "metadata": {},
   "source": [
    " Q4.Why is flask used in this Web Scraping project?\n",
    " ANS:Flask is a python web framework that is commanly use dto build application.\n",
    " some reasons why flask used in web scrapping.\n",
    " 1.Building a user interface:Flask provides a simple way to build a web interface for a web scraping tool.\n",
    " 2.Handling requests and responses:Flask includes built in suppport for handling HTTP requests and responses.\n",
    " 3.Integrating with other Python libraries:Flask can easily be intergrated with other python libraries that are commonly used for web scrapping.\n",
    " 4.Deploymenr:Flask can be easily deployed to a web server, making it easy to share the web scraping tool with othres."
   ]
  },
  {
   "attachments": {},
   "cell_type": "markdown",
   "metadata": {},
   "source": [
    "Q5.Write the names of AWS services used in this project. Also, explain the use of each service.\n",
    "ANS:\n",
    "1.EC2(Elastic Compute Cloud):It is a scalable and highlt customizable cloud computing service that allows userd to rent virtual machines to run their application.\n",
    "2.S3(Simple Storage Service):S3 is a highly scalable and secure object storage service that allows user to store and retrive data from anywhere on the web.\n",
    "3.Lambda:AWS Lambda is a serverless compute service that allows users to run code without provisionig or managing servers.\n",
    "4.CloudFront: CloudFront is a content delivery network(CDN) service that helps improve the performace of web applications by caching content closer to the end-user\n",
    "5.DynamoDB:DynamoDB is a fully managed NoSQL database service that provides fast and predicatable performance eith seamlesss scalability."
   ]
  }
 ],
 "metadata": {
  "kernelspec": {
   "display_name": "Python 3",
   "language": "python",
   "name": "python3"
  },
  "language_info": {
   "codemirror_mode": {
    "name": "ipython",
    "version": 3
   },
   "file_extension": ".py",
   "mimetype": "text/x-python",
   "name": "python",
   "nbconvert_exporter": "python",
   "pygments_lexer": "ipython3",
   "version": "3.11.2"
  },
  "orig_nbformat": 4
 },
 "nbformat": 4,
 "nbformat_minor": 2
}
