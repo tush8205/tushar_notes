{
 "cells": [
  {
   "cell_type": "code",
   "execution_count": 2,
   "metadata": {},
   "outputs": [
    {
     "data": {
      "text/html": [
       "<div>\n",
       "<style scoped>\n",
       "    .dataframe tbody tr th:only-of-type {\n",
       "        vertical-align: middle;\n",
       "    }\n",
       "\n",
       "    .dataframe tbody tr th {\n",
       "        vertical-align: top;\n",
       "    }\n",
       "\n",
       "    .dataframe thead th {\n",
       "        text-align: right;\n",
       "    }\n",
       "</style>\n",
       "<table border=\"1\" class=\"dataframe\">\n",
       "  <thead>\n",
       "    <tr style=\"text-align: right;\">\n",
       "      <th></th>\n",
       "      <th>course name</th>\n",
       "      <th>duration</th>\n",
       "    </tr>\n",
       "  </thead>\n",
       "  <tbody>\n",
       "    <tr>\n",
       "      <th>0</th>\n",
       "      <td>Data Science</td>\n",
       "      <td>2</td>\n",
       "    </tr>\n",
       "    <tr>\n",
       "      <th>1</th>\n",
       "      <td>Machine Learing</td>\n",
       "      <td>3</td>\n",
       "    </tr>\n",
       "    <tr>\n",
       "      <th>2</th>\n",
       "      <td>Big Data</td>\n",
       "      <td>6</td>\n",
       "    </tr>\n",
       "    <tr>\n",
       "      <th>3</th>\n",
       "      <td>Data Engineer</td>\n",
       "      <td>4</td>\n",
       "    </tr>\n",
       "  </tbody>\n",
       "</table>\n",
       "</div>"
      ],
      "text/plain": [
       "       course name  duration\n",
       "0     Data Science         2\n",
       "1  Machine Learing         3\n",
       "2         Big Data         6\n",
       "3    Data Engineer         4"
      ]
     },
     "execution_count": 2,
     "metadata": {},
     "output_type": "execute_result"
    }
   ],
   "source": [
    "import pandas as pd\n",
    "course_name=['Data Science','Machine Learing','Big Data','Data Engineer']\n",
    "duration=[2,3,6,4]\n",
    "df=pd.DataFrame(data={'course name':course_name,'duration':duration})\n",
    "df"
   ]
  },
  {
   "attachments": {},
   "cell_type": "markdown",
   "metadata": {},
   "source": [
    "Q1.Write a code to print the data present in the second row of the dataframe, df"
   ]
  },
  {
   "cell_type": "code",
   "execution_count": 6,
   "metadata": {},
   "outputs": [
    {
     "data": {
      "text/plain": [
       "course name    Machine Learing\n",
       "duration                     3\n",
       "Name: 1, dtype: object"
      ]
     },
     "execution_count": 6,
     "metadata": {},
     "output_type": "execute_result"
    }
   ],
   "source": [
    "df.iloc[1]"
   ]
  },
  {
   "attachments": {},
   "cell_type": "markdown",
   "metadata": {},
   "source": [
    "Q2.What is the difference between the functions loc and iloc in pandas.DataFrame?\n",
    "ANS:loc in pandas is a Lable based data selector & iloc is a index based data selector.\n",
    "In loc funtion,Indices should be numerical,else slicing cannot be done.In iloc function,Indices can be numerical or categorical."
   ]
  },
  {
   "attachments": {},
   "cell_type": "markdown",
   "metadata": {},
   "source": [
    "Q4.Write a code to find the following statistical measurements for the above dataframe df1:\n",
    "(i) mean of each and every column present in the dataframe.\n",
    "(ii) standard deviation of column, ‘column_2’\n",
    "\n",
    "\n"
   ]
  },
  {
   "cell_type": "code",
   "execution_count": 32,
   "metadata": {},
   "outputs": [
    {
     "data": {
      "text/html": [
       "<div>\n",
       "<style scoped>\n",
       "    .dataframe tbody tr th:only-of-type {\n",
       "        vertical-align: middle;\n",
       "    }\n",
       "\n",
       "    .dataframe tbody tr th {\n",
       "        vertical-align: top;\n",
       "    }\n",
       "\n",
       "    .dataframe thead th {\n",
       "        text-align: right;\n",
       "    }\n",
       "</style>\n",
       "<table border=\"1\" class=\"dataframe\">\n",
       "  <thead>\n",
       "    <tr style=\"text-align: right;\">\n",
       "      <th></th>\n",
       "      <th>column_1</th>\n",
       "      <th>column_2</th>\n",
       "      <th>column_3</th>\n",
       "      <th>column_4</th>\n",
       "      <th>column_5</th>\n",
       "      <th>column_6</th>\n",
       "    </tr>\n",
       "  </thead>\n",
       "  <tbody>\n",
       "    <tr>\n",
       "      <th>1</th>\n",
       "      <td>0.491466</td>\n",
       "      <td>0.529652</td>\n",
       "      <td>0.007883</td>\n",
       "      <td>0.088071</td>\n",
       "      <td>0.743231</td>\n",
       "      <td>0.480814</td>\n",
       "    </tr>\n",
       "    <tr>\n",
       "      <th>2</th>\n",
       "      <td>0.136671</td>\n",
       "      <td>0.504952</td>\n",
       "      <td>0.084082</td>\n",
       "      <td>0.310237</td>\n",
       "      <td>0.305437</td>\n",
       "      <td>0.415757</td>\n",
       "    </tr>\n",
       "    <tr>\n",
       "      <th>3</th>\n",
       "      <td>0.372387</td>\n",
       "      <td>0.514716</td>\n",
       "      <td>0.024158</td>\n",
       "      <td>0.565146</td>\n",
       "      <td>0.549984</td>\n",
       "      <td>0.397894</td>\n",
       "    </tr>\n",
       "    <tr>\n",
       "      <th>4</th>\n",
       "      <td>0.884811</td>\n",
       "      <td>0.902546</td>\n",
       "      <td>0.824024</td>\n",
       "      <td>0.269461</td>\n",
       "      <td>0.204456</td>\n",
       "      <td>0.587003</td>\n",
       "    </tr>\n",
       "    <tr>\n",
       "      <th>5</th>\n",
       "      <td>0.829125</td>\n",
       "      <td>0.119550</td>\n",
       "      <td>0.446560</td>\n",
       "      <td>0.075873</td>\n",
       "      <td>0.735199</td>\n",
       "      <td>0.395073</td>\n",
       "    </tr>\n",
       "    <tr>\n",
       "      <th>6</th>\n",
       "      <td>0.632357</td>\n",
       "      <td>0.120267</td>\n",
       "      <td>0.537417</td>\n",
       "      <td>0.191427</td>\n",
       "      <td>0.670600</td>\n",
       "      <td>0.042612</td>\n",
       "    </tr>\n",
       "  </tbody>\n",
       "</table>\n",
       "</div>"
      ],
      "text/plain": [
       "   column_1  column_2  column_3  column_4  column_5  column_6\n",
       "1  0.491466  0.529652  0.007883  0.088071  0.743231  0.480814\n",
       "2  0.136671  0.504952  0.084082  0.310237  0.305437  0.415757\n",
       "3  0.372387  0.514716  0.024158  0.565146  0.549984  0.397894\n",
       "4  0.884811  0.902546  0.824024  0.269461  0.204456  0.587003\n",
       "5  0.829125  0.119550  0.446560  0.075873  0.735199  0.395073\n",
       "6  0.632357  0.120267  0.537417  0.191427  0.670600  0.042612"
      ]
     },
     "execution_count": 32,
     "metadata": {},
     "output_type": "execute_result"
    }
   ],
   "source": [
    "import pandas as pd\n",
    "import numpy as np\n",
    "columns = ['column_1', 'column_2', 'column_3', 'column_4', 'column_5', 'column_6']\n",
    "indices = [1,2,3,4,5,6]\n",
    "#Creating a dataframe:\n",
    "df1 = pd.DataFrame(np.random.rand(6,6), columns = columns, index = indices)\n",
    "df1"
   ]
  },
  {
   "cell_type": "code",
   "execution_count": 33,
   "metadata": {},
   "outputs": [
    {
     "data": {
      "text/plain": [
       "column_1    0.557803\n",
       "column_2    0.448614\n",
       "column_3    0.320687\n",
       "column_4    0.250036\n",
       "column_5    0.534818\n",
       "column_6    0.386525\n",
       "dtype: float64"
      ]
     },
     "execution_count": 33,
     "metadata": {},
     "output_type": "execute_result"
    }
   ],
   "source": [
    "df1.mean()"
   ]
  },
  {
   "cell_type": "code",
   "execution_count": 34,
   "metadata": {},
   "outputs": [
    {
     "data": {
      "text/plain": [
       "0.29538444123690566"
      ]
     },
     "execution_count": 34,
     "metadata": {},
     "output_type": "execute_result"
    }
   ],
   "source": [
    "df1.std().column_2"
   ]
  },
  {
   "attachments": {},
   "cell_type": "markdown",
   "metadata": {},
   "source": [
    "Q7.Write a code to print only the current month and year at the time of answering this question?"
   ]
  },
  {
   "cell_type": "code",
   "execution_count": 80,
   "metadata": {},
   "outputs": [
    {
     "name": "stdout",
     "output_type": "stream",
     "text": [
      "Current time: 2023-03-31 12:58:27.096302\n",
      "Current_month: March\n",
      "Current_year: 2023\n"
     ]
    }
   ],
   "source": [
    "import pandas as pd\n",
    "current_time=pd.Timestamp.now()\n",
    "current_month = current_time.month_name()\n",
    "current_year=current_time.year\n",
    "\n",
    "print(\"Current time:\",current_time)\n",
    "print(\"Current_month:\",current_month)\n",
    "print(\"Current_year:\",current_year)"
   ]
  },
  {
   "attachments": {},
   "cell_type": "markdown",
   "metadata": {},
   "source": [
    "Q8.Write a Python program that takes in two dates as input (in the format YYYY-MM-DD) and calculates the difference between them in days, hours, and minutes using Pandas time delta. The\n",
    "program should prompt the user to enter the dates and display the result.\n"
   ]
  },
  {
   "cell_type": "code",
   "execution_count": 86,
   "metadata": {},
   "outputs": [
    {
     "name": "stdout",
     "output_type": "stream",
     "text": [
      "2023-05-20 00:00:00\n",
      "2023-05-25 00:00:00\n"
     ]
    }
   ],
   "source": [
    "import pandas as pd\n",
    "dt1=pd.to_datetime('2023-05-20')\n",
    "print(dt1)\n",
    "dt2=pd.to_datetime('2023-05-25')\n",
    "print(dt2)\n",
    "td=pd.Timedelta(days=1,hours=2,minutes=30)"
   ]
  },
  {
   "cell_type": "code",
   "execution_count": 87,
   "metadata": {},
   "outputs": [
    {
     "data": {
      "text/plain": [
       "Timestamp('2023-05-18 21:30:00')"
      ]
     },
     "execution_count": 87,
     "metadata": {},
     "output_type": "execute_result"
    }
   ],
   "source": [
    "dt1-td"
   ]
  },
  {
   "cell_type": "code",
   "execution_count": 88,
   "metadata": {},
   "outputs": [
    {
     "data": {
      "text/plain": [
       "Timestamp('2023-05-23 21:30:00')"
      ]
     },
     "execution_count": 88,
     "metadata": {},
     "output_type": "execute_result"
    }
   ],
   "source": [
    "dt2-td"
   ]
  },
  {
   "attachments": {},
   "cell_type": "markdown",
   "metadata": {},
   "source": [
    " Q6.What do you understand about the windows function in pandas and list the types of windows functions?\n",
    " ANS:The word window means the number of rows between the two boundaries by which we perform calculations including the boundary rows.\n",
    "\n",
    " types of windows functions:\n",
    " 1.Rolling window operations\n",
    " 2.Weighted window operations\n",
    " 3.Expanding window operation\n",
    " 4.Exponentially Weighted window\n"
   ]
  },
  {
   "cell_type": "code",
   "execution_count": null,
   "metadata": {},
   "outputs": [],
   "source": []
  }
 ],
 "metadata": {
  "kernelspec": {
   "display_name": "Python 3",
   "language": "python",
   "name": "python3"
  },
  "language_info": {
   "codemirror_mode": {
    "name": "ipython",
    "version": 3
   },
   "file_extension": ".py",
   "mimetype": "text/x-python",
   "name": "python",
   "nbconvert_exporter": "python",
   "pygments_lexer": "ipython3",
   "version": "3.11.2"
  },
  "orig_nbformat": 4
 },
 "nbformat": 4,
 "nbformat_minor": 2
}
