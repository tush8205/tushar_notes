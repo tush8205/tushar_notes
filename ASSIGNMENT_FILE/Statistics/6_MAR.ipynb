{
 "cells": [
  {
   "attachments": {},
   "cell_type": "markdown",
   "metadata": {},
   "source": [
    "Q1.What is Statistics?"
   ]
  },
  {
   "attachments": {},
   "cell_type": "markdown",
   "metadata": {},
   "source": [
    "Statistics is the science of collecting ,orgranizing and analyzing data."
   ]
  },
  {
   "attachments": {},
   "cell_type": "markdown",
   "metadata": {},
   "source": [
    "Q2.Define the different types of statistics and give an example of when each type might be used."
   ]
  },
  {
   "attachments": {},
   "cell_type": "markdown",
   "metadata": {},
   "source": [
    "Two types of Statistics \n",
    "1.Descriptive Statistics\n",
    "2.Inferncetial Statistics\n",
    "\n",
    "1.Descriptive Statistics:It consists of organizing and summarazing data .it is describes the properties of sample & population data.\n",
    "   graph ,charts histogram\n",
    "\n",
    "2.Inferncetial Statistics:It consists of using data ,mesesured to from conclusion.it's allows to test hypothesis or assess whether your data is generalizable to the broader population. \n",
    "   z test,t-test,Hypothesis testing "
   ]
  },
  {
   "attachments": {},
   "cell_type": "markdown",
   "metadata": {},
   "source": [
    "Q3.What are the different types of data and how do they differ from each other? Provide an example of\n",
    "each type of data."
   ]
  },
  {
   "attachments": {},
   "cell_type": "markdown",
   "metadata": {},
   "source": [
    "Data has to type :\n",
    "1.Quantitative\n",
    "2.Qualitative \n",
    "\n",
    "1.Quantitative Data: It is in numerical value  format data, making it countable and including statistical data analysis.ex:height or weight of person \n",
    "  it is divide into 2 types :\n",
    "\n",
    "    1.Discrete Data :data are countable and finite , they are whole numbers or integers. EX: number of days in a week \n",
    "\n",
    "    2.Continous Data:data are measurable , they are in form of fraction  or decimal.EX:Temperture of room\n",
    "\n",
    "2.Qualitative Data: It is a data that can't be measured or counted in the form of numbers.these types of data sorted by category,not by number. It is also know as Categorical Data. EX: gender of person \n",
    "\n",
    "  it is divide into 2 types :\n",
    "  1.Nominal Data: It is used to lable variable without any order  or quantative value.Ex: Colour of hair,Blood Group\n",
    "  \n",
    "  2.Ordinal Data:gives the some kind of sequential order by their position on the scale . data based on rank based.EX: education level , customer feedback\n",
    "\n",
    "\n"
   ]
  },
  {
   "attachments": {},
   "cell_type": "markdown",
   "metadata": {},
   "source": [
    "Q4. Categorise the following datasets with respect to quantitative and qualitative data types:\n",
    "(i) Grading in exam: A+, A, B+, B, C+, C, D, E\n",
    "(ii) Colour of mangoes: yellow, green, orange, red\n",
    "(iii) Height data of a class: [178.9, 179, 179.5, 176, 177.2, 178.3, 175.8,...]\n",
    "(iv) Number of mangoes exported by a farm: [500, 600, 478, 672, ...]"
   ]
  },
  {
   "attachments": {},
   "cell_type": "markdown",
   "metadata": {},
   "source": [
    "Ans: i) Ordinal Data \n",
    "      ii)Nominal Data\n",
    "      iii)Continous Data\n",
    "      iv)Discrete Data"
   ]
  },
  {
   "cell_type": "markdown",
   "metadata": {},
   "source": []
  },
  {
   "attachments": {},
   "cell_type": "markdown",
   "metadata": {},
   "source": [
    "Q5.Explain the concept of levels of measurement and give an example of a variable for each level."
   ]
  },
  {
   "attachments": {},
   "cell_type": "markdown",
   "metadata": {},
   "source": [
    "It is Classification  that relates the values that are assigned to variables with each other.It is used to describe information within the values.\n",
    "There are 4 level of measurement which can be ranked low to high.\n",
    "\n",
    "1.Nominal Level: In this level the numbers in the variable are used only classify the data.\n",
    "  words ,letters and alpha-numeric symbols can be used.\n",
    "2.Ordinal Level : Data can be categorized and ranked \n",
    "   Ranking is important\n",
    "   Difference cannot be measured\n",
    "EX:Top 5 olympic medallists\n",
    "\n",
    "3.Interval level: It is measurement not only classifies and orders the measurements but it also specifies that the distances between each interval on the scale are equivalent along the scale from low interval to high interval.\n",
    "  here , order matter \n",
    "  ratio cannot be measured\n",
    "  EX: Temrature Variable,Test Score \n",
    "\n",
    "4.Ratio Level: we can categorize ,rank and infer equal intervals between neighboring data points , and there is a true zero point.\n",
    "True zero means there is an absence of the variable of interest.\n",
    " Difference are measurable (including ratio)\n",
    " EX: Height, Weight "
   ]
  },
  {
   "attachments": {},
   "cell_type": "markdown",
   "metadata": {},
   "source": [
    "Q6.Why is it important to understand the level of measurement when analyzing data? Provide an\n",
    "example to illustrate your answer."
   ]
  },
  {
   "attachments": {},
   "cell_type": "markdown",
   "metadata": {},
   "source": [
    "It is important to understand the level of measurement of variable in research , because the level of measurement determines the type of statistical analysis that can be conducted,and therefore the type of conclusion that can be drawn from the research.\n",
    "The Four level of measurement is also imoportant because they allows statisticians and analysts to more  efficiently plan for research and present their findings.\n"
   ]
  },
  {
   "attachments": {},
   "cell_type": "markdown",
   "metadata": {},
   "source": [
    "Q7.How nominal data type is different from ordinal data type."
   ]
  },
  {
   "attachments": {},
   "cell_type": "markdown",
   "metadata": {},
   "source": [
    "Nominal Data : \n",
    "1.It is classified without a natural order or rank.\n",
    "              \n",
    "2.It cannot be used to compare with one another\n",
    " EX:eye color,hair color,marital status\n",
    "Ordinal data:\n",
    "1.has a predetermined or natural order.\n",
    "2.It can help to compare one item with another by ranking or ordering\n",
    "EX: customer satisfaction "
   ]
  },
  {
   "attachments": {},
   "cell_type": "markdown",
   "metadata": {},
   "source": [
    "Q8.Which type of plot can be used to display data in terms of range?"
   ]
  },
  {
   "attachments": {},
   "cell_type": "markdown",
   "metadata": {},
   "source": [
    "ANS: Histogram is used "
   ]
  },
  {
   "attachments": {},
   "cell_type": "markdown",
   "metadata": {},
   "source": [
    "Q9.Describe the difference between descriptive and inferential statistics. Give an example of each\n",
    "type of statistics and explain how they are used."
   ]
  },
  {
   "attachments": {},
   "cell_type": "markdown",
   "metadata": {},
   "source": [
    "Descriptive Statistics:\n",
    "                1.It gives information about raw data which describes the data in some manner.\n",
    "                2.It helps in organizing , analyzing and to present data in a meaningful manner.\n",
    "                3.It is used to describe a situation\n",
    "                4.It explanis already knows data and is limited to a sample or population having a small size. \n",
    "                5. It can be achieved with the help of charts , graphs , tables ect.\n",
    "Inferential statistics:\n",
    "                1.It makes inferences about the population using data drawn from the population\n",
    "                2.It allows us to compare data, and make hypotheses and prediction\n",
    "                3.It is used to explain the chance of occurrence of an event\n",
    "                4.It attempts to reach the conclusion about the population \n",
    "                5.It can be achieved by probability\n",
    "                "
   ]
  },
  {
   "attachments": {},
   "cell_type": "markdown",
   "metadata": {},
   "source": [
    "Q10.What are some common measures of central tendency and variability used in statistics? Explain\n",
    "how each measure can be used to describe a dataset."
   ]
  },
  {
   "attachments": {},
   "cell_type": "markdown",
   "metadata": {},
   "source": [
    "Central tendency and variation are two measures used in statistics to summarize data. Measure of central tendency shows where the center or middle of the data set is located, whereas measure of variation shows the dispersion amoung data values.\n",
    "Measures of centeral tendency:\n",
    "  1.Mean:average of data values\n",
    "  2.Median:avgrage of middle two values \n",
    "  3.Mode:value that occures with greatest frequency.\n",
    "\n",
    "Measures of variation:\n",
    "  1.Standard deviation:measure of how much data values    are deviated away from mean \n",
    "  2.Variance:square of the standard deviation\n",
    "  3.Range:Differene between the maximun value and minimum value in a data set"
   ]
  }
 ],
 "metadata": {
  "kernelspec": {
   "display_name": "Python 3",
   "language": "python",
   "name": "python3"
  },
  "language_info": {
   "name": "python",
   "version": "3.11.2"
  },
  "orig_nbformat": 4
 },
 "nbformat": 4,
 "nbformat_minor": 2
}
