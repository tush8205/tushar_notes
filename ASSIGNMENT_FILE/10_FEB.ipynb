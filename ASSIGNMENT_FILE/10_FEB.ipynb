{
 "cells": [
  {
   "attachments": {},
   "cell_type": "markdown",
   "metadata": {},
   "source": [
    "Q1. Which function is used to open a file? What are the different modes of opening a file? Explain each mode of file opening."
   ]
  },
  {
   "attachments": {},
   "cell_type": "markdown",
   "metadata": {},
   "source": [
    "ANS:fopen() function opens the file specified by filname and associates a strem with it.\n",
    "Different Modes opening a file :1. r :- open a file for reading(default)\n",
    "2. w:- Open a file for writing . Creating a new file if it does not exist or truncates the file if it exists.\n",
    "3. x:- Open file for exclusive Creation. \n",
    "4. a:- Open a file for appending  at the end of the file without   \n",
    "        truncating it. \n",
    "5. t:- Open in text mode(default)\n",
    "6. b:- Open in binary Mode "
   ]
  },
  {
   "attachments": {},
   "cell_type": "markdown",
   "metadata": {},
   "source": [
    "Q2. Why close() function is used? Why is it important to close a file?\n",
    "ANS: The close() method closes an open file. You should always close your files, in some cases, dur to buffering, changes made a file may not show until you close the file. \n",
    "It is imortant because files are limited resources managed by the operating system , making sure file are closed after use will protect against hard to debug issues like runnig out of the file handles or experiencing corrupted data."
   ]
  },
  {
   "attachments": {},
   "cell_type": "markdown",
   "metadata": {},
   "source": [
    "Q3. Write a python program to create a text file. Write ‘I want to become a Data Scientist’ in that file. Then close the file. Open this file and read the content of the file.  "
   ]
  },
  {
   "cell_type": "code",
   "execution_count": 2,
   "metadata": {},
   "outputs": [],
   "source": [
    "#ANS:\n",
    "f=open(\"test.txt\",'w')\n",
    "f.write(\"I want to become a Data Scientist\")\n",
    "f.close()"
   ]
  },
  {
   "attachments": {},
   "cell_type": "markdown",
   "metadata": {},
   "source": [
    "Q4. Explain the following with python code: read(), readline() and readlines().\n",
    "\n",
    "ANS:1.read()  :- read method reads the entire contents of  a file and returns it as a string.\n",
    "  EX: with open(\"file.txt\", \"r\") as file:\n",
    "    content = file.read()\n",
    "    print(content)\n",
    "\n",
    "2.readline()  :- The readline method reads a single line from a file and returns it as a string. this means  that if you use readline, you can read the contents of a file line by line, which can be useful for processing large files that do not fit in memory.\n",
    "EX: \n",
    "with open(\"file.txt\", \"r\") as file:\n",
    "    line = file.readline()\n",
    "    while line:\n",
    "        print(line.strip())\n",
    "        line = file.readline()\n",
    "3.readlines()  :- readlines read the whole file into memory, which  can be problematic if the file is very large.\n",
    "EX:   \n",
    "with open(\"file.txt\", \"r\") as file:\n",
    "    lines = file.readlines()\n",
    "    for line in lines:\n",
    "        print(line.strip())\n"
   ]
  },
  {
   "attachments": {},
   "cell_type": "markdown",
   "metadata": {},
   "source": [
    " Q5.Explain why with statement is used with open(). What is the advantage of using with statement and open() together?\n",
    " ANS: The with statement works with the open() function  to open a file. Unlike open() where you have to close the file with the close() method , the with statement closes the file for without you telling it to. This is because the with statement calls 2 built-in methods behind the scene:- __enter()__ and __exit()__\n",
    " Advantage: Using with means that the file will be closed as soon as you leave the block. This is beneficial because closing a file is something that can easily be forgotten and ties up resources that you no longer need.\n",
    "\n"
   ]
  },
  {
   "attachments": {},
   "cell_type": "markdown",
   "metadata": {},
   "source": [
    "Q6.Explain the write() and writelines() functions. Give a suitable example.\n",
    "ANS: write() and writelines() method based on new line character\n",
    "1. write(): write() method displys the output but do no provide a new line character.\n",
    "Ex: file = open(\"test1.txt\", \"w\") \n",
    "for i in range(3):\n",
    "   name = input(\"Enter the Name : \")\n",
    "   file.write(name)\n",
    "   file.write(\"\\n\")    \n",
    "file.close()\n",
    "print(\"I want to become a Data Scientist.\")\n",
    "\n",
    "2. writelines(): writelines methos displays the output and also provides a new  lines character it the end of the string.this would set a new line for the next output.\n",
    "Ex:file1 = open(\"text2.txt\", \"w\")\n",
    "lst = []\n",
    "for i in range(3):\n",
    "    name = input(\"Enter the Name: \")\n",
    "    lst.append(name + '\\n')      \n",
    "file1.writelines(lst)\n",
    "file1.close()\n",
    "print(\"I want to become a Data Scientist.\") \n",
    "\n",
    "The onle difference between the write() and writelines() is that write() is used to write a string to an already opened file while writelines() method is used to write a list of strings in an openend file.\n"
   ]
  },
  {
   "cell_type": "code",
   "execution_count": null,
   "metadata": {},
   "outputs": [],
   "source": []
  }
 ],
 "metadata": {
  "kernelspec": {
   "display_name": "Python 3",
   "language": "python",
   "name": "python3"
  },
  "language_info": {
   "codemirror_mode": {
    "name": "ipython",
    "version": 3
   },
   "file_extension": ".py",
   "mimetype": "text/x-python",
   "name": "python",
   "nbconvert_exporter": "python",
   "pygments_lexer": "ipython3",
   "version": "3.11.2"
  },
  "orig_nbformat": 4
 },
 "nbformat": 4,
 "nbformat_minor": 2
}
