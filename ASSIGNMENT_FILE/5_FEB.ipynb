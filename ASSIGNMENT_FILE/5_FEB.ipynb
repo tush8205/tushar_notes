{
 "cells": [
  {
   "cell_type": "code",
   "execution_count": null,
   "metadata": {},
   "outputs": [],
   "source": []
  },
  {
   "attachments": {},
   "cell_type": "markdown",
   "metadata": {},
   "source": [
    "Q1. Explain Class and Object with respect to Object-Oriented Programming. Give a suitable example."
   ]
  },
  {
   "attachments": {},
   "cell_type": "markdown",
   "metadata": {},
   "source": [
    "Class: A class can be defined as a template/blueprint that describes the behavior/state that the object of its type support. its logical entity. it can declared only once \n",
    "EX. car.\n",
    " \n",
    "Obejct: Objects have states and behaviors .it an instnace of a class.its  a physical entity. it can be created many times as per requirement\n",
    "EX. object of the class car can be BMW,Mercedes,Jaguar etc"
   ]
  },
  {
   "attachments": {},
   "cell_type": "markdown",
   "metadata": {},
   "source": [
    "Q2.Name the four pillars of OOPs."
   ]
  },
  {
   "attachments": {},
   "cell_type": "markdown",
   "metadata": {},
   "source": [
    "1.Inheritance\n",
    "2.Encapsulation\n",
    "3.Abstraction\n",
    "4.Polymorphism"
   ]
  },
  {
   "attachments": {},
   "cell_type": "markdown",
   "metadata": {},
   "source": [
    "Q3.Explain why the __init__() function is used. Give a suitable example"
   ]
  },
  {
   "attachments": {},
   "cell_type": "markdown",
   "metadata": {},
   "source": [
    "__init__ is a special python method that runs   whenever new object is created. these types of function are used to initialize the attributes if that class.it is only used within classes.\n",
    "\n",
    "EX: if the class is person , then the attributes will be name , age "
   ]
  },
  {
   "attachments": {},
   "cell_type": "markdown",
   "metadata": {},
   "source": [
    "Q4.. Why self is used in OOPs?"
   ]
  },
  {
   "attachments": {},
   "cell_type": "markdown",
   "metadata": {},
   "source": [
    "self is used to represent the instance of the class . with this keyword we can access the attributes and method of the class in python. it binds the attributes with the given arguments.easier to distinguish between instance attributes from local variables."
   ]
  },
  {
   "attachments": {},
   "cell_type": "markdown",
   "metadata": {},
   "source": [
    "Q5.What is inheritance? Give an example for each type of inheritance."
   ]
  },
  {
   "attachments": {},
   "cell_type": "markdown",
   "metadata": {},
   "source": [
    "Inheritance is a mechanism in which one class acquire the property of another class.        \n",
    "1.Single Inheritance:\n",
    " class A and Class B \n",
    "  class A is parent class , class B is child class\n",
    "\n",
    "2.Multilevel inheritance\n",
    "\n",
    "  class A is parent class B , Class B is parent class C, class C is inherit the properties of class A and Class B\n",
    "\n"
   ]
  }
 ],
 "metadata": {
  "kernelspec": {
   "display_name": "Python 3",
   "language": "python",
   "name": "python3"
  },
  "language_info": {
   "codemirror_mode": {
    "name": "ipython",
    "version": 3
   },
   "file_extension": ".py",
   "mimetype": "text/x-python",
   "name": "python",
   "nbconvert_exporter": "python",
   "pygments_lexer": "ipython3",
   "version": "3.11.1"
  },
  "orig_nbformat": 4
 },
 "nbformat": 4,
 "nbformat_minor": 2
}
