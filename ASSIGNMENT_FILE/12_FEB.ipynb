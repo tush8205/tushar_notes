{
 "cells": [
  {
   "attachments": {},
   "cell_type": "markdown",
   "metadata": {},
   "source": [
    "Q1.What is an Exception in python?Write the difference betweem Exception  and syntax errors.\n",
    "ANS:An excetion is an eevent, which occurs during the excution of a program that dispute the normal flow of the program instruction.\n",
    "Syntax error occur when the code violated the rules of the programming language's syntax. These errors prevent the code from being executed and are usually detected by the compiler or interpreter at compile time or during execution. \n",
    "Exception are runtime errors that occur during program exceution.These errors are caused by unexpected or exceptional condition that were not anticipated by the programmer, such as a file that cannot be opened or a division by zero."
   ]
  },
  {
   "attachments": {},
   "cell_type": "markdown",
   "metadata": {},
   "source": [
    "Q2. What happens when an exception is not handled? Explain with an example?\n",
    "ANS:When an exception is not handled , it will propagate up the call stack until it is either caught by an exception handler or reaches the top levek of the program, resulting in a program termination.\n",
    "Ex : def divide(x,y):\n",
    "    return x/y\n",
    "try:\n",
    "    result = divide(10,0)\n",
    "    print(\"the result is\",result)\n",
    "except:\n",
    "    print(\"an error occurred\")\n",
    "    \n",
    "In the above example we defined a function divide that takes two arguments x and y and returns their quotient x/y.we then try to divide 10 by 0 , which is not allowed, and will result in a ZeroDivisinError exception being raised.\n",
    "In try block we call the divide duntion with 10 and 0, which raises the exception."
   ]
  },
  {
   "attachments": {},
   "cell_type": "markdown",
   "metadata": {},
   "source": [
    "Q3.which python statements are used to catch and handle exceptions? explain with an example?\n",
    "ANS: In python teh try-except statements are used to catch and handle exceptions.\n",
    "The try block contains the code that may raise an exception and the except block contains the code that will handlw the exception if it occurs.The except block specifies the type of exceptions that it can handle.\n",
    "Ex: \n",
    "def divide(x,y):\n",
    "    try :\n",
    "        result = x/y\n",
    "    except ZeroDivisionError:\n",
    "        print(\"Error: cannot divide by zero\")\n",
    "    else:\n",
    "        print(\"the result is \",result)\n",
    "        \n",
    "divide(10,2)\n",
    "divide(10,0)\n",
    "\n",
    "In above example, we have a function divide that takes two areguments x and y and attempts to dicide x by y. We have used a try except block to catch the  except ZeroDivisionError exception that may be raised if y is zero.If an exception occurs, the code in the except block will execute , printing an error message. if no exception occurs the code in the else block will execute printing the result of the division.\n"
   ]
  },
  {
   "attachments": {},
   "cell_type": "markdown",
   "metadata": {},
   "source": [
    "Q5. What are Custom Exceptions in python?Why do we need Custom Exceptions? Explain with an example?\n",
    "ANS:Custom Exception is classes , here you can add functionality to the custom exception classes like, adding attributes and properties. Adding method e.g log the exception, format the output. It is also called user defined exceptions.\n",
    "Built in exceptions offer information about python related problem and custom exception will add information about project related problems . That way you can design your code in way that combines python code with the language of the project."
   ]
  },
  {
   "attachments": {},
   "cell_type": "markdown",
   "metadata": {},
   "source": [
    "Q6.Create custom exception class. Use this clsss to handle an exception.\n",
    "ANS:\n",
    "class CustomException(Exception):\n",
    "    \"\"\"my custom exception class\"\"\"\n",
    "    \n",
    "try:\n",
    "    raise CustomException(\"This is my custom exception \")\n",
    "except CustomException as ex:\n",
    "    print(ex)"
   ]
  },
  {
   "attachments": {},
   "cell_type": "markdown",
   "metadata": {},
   "source": [
    "Q4.Explain with an example:"
   ]
  },
  {
   "cell_type": "code",
   "execution_count": 7,
   "metadata": {},
   "outputs": [
    {
     "name": "stdout",
     "output_type": "stream",
     "text": [
      "yor answer is  1\n",
      "yor are dividing by zero\n"
     ]
    }
   ],
   "source": [
    "#1.try and else\n",
    "\n",
    "#Try : This block will test the excepted error to occur\n",
    "#Except: Here you can handle the error \n",
    "def divide(x,y):\n",
    "    try:\n",
    "        result=x // y\n",
    "      \n",
    "    except ZeroDivisionError:\n",
    "        print(\"yor are dividing by zero\")\n",
    "    else:\n",
    "        print(\"yor answer is \",result)\n",
    "divide(3,2)\n",
    "divide(3,0)"
   ]
  },
  {
   "cell_type": "code",
   "execution_count": 8,
   "metadata": {},
   "outputs": [
    {
     "name": "stdout",
     "output_type": "stream",
     "text": [
      "yor answer is  1\n",
      "this is always executed\n",
      "yor are dividing by zero\n",
      "this is always executed\n"
     ]
    }
   ],
   "source": [
    "#2.Finally\n",
    "#Finally block always gets executed either exception is genrated or not.\n",
    "\n",
    "\n",
    "def divide(x,y):\n",
    "    try:\n",
    "        result=x // y\n",
    "      \n",
    "    except ZeroDivisionError:\n",
    "        print(\"yor are dividing by zero\")\n",
    "    else:\n",
    "        print(\"yor answer is \",result)\n",
    "    finally:\n",
    "        print('this is always executed')\n",
    "divide(3,2)\n",
    "divide(3,0)"
   ]
  },
  {
   "cell_type": "code",
   "execution_count": null,
   "metadata": {},
   "outputs": [],
   "source": []
  }
 ],
 "metadata": {
  "kernelspec": {
   "display_name": "Python 3",
   "language": "python",
   "name": "python3"
  },
  "language_info": {
   "codemirror_mode": {
    "name": "ipython",
    "version": 3
   },
   "file_extension": ".py",
   "mimetype": "text/x-python",
   "name": "python",
   "nbconvert_exporter": "python",
   "pygments_lexer": "ipython3",
   "version": "3.11.2"
  },
  "orig_nbformat": 4
 },
 "nbformat": 4,
 "nbformat_minor": 2
}
