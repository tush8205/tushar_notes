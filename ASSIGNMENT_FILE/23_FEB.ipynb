{
 "cells": [
  {
   "attachments": {},
   "cell_type": "markdown",
   "metadata": {},
   "source": [
    "Q4.What is ‘DataFrame’ in pandas and how is it different from pandas.series\n",
    "\n",
    "ANS:A Pandas DataFrame is a 2 dimensional data structure like  a dimensional array or a table with rows and columns.DataFrames are one of the most common data structure used in modern data analytics because they are flexible and intutive way of strong and working with data .\n",
    "Pandas Series is one dimensional and dataframe is two dimensional . Series elements must be of the same data type, Its Homogenous.DataFrame element different data types,its is Heterogenous.Series is mmutable and DataFrame is mutable.\n"
   ]
  },
  {
   "attachments": {},
   "cell_type": "markdown",
   "metadata": {},
   "source": [
    "Q5.What are some common functions you can use to manipulate data in a Pandas DataFrame? Can you give an example of when you might use one of these functions?\n",
    "ANS:\n",
    "1.Read_csv(): This function helps to read comma separted values(csv) file into a Pandas Dataframe.\n",
    "2.head():It is used to return the first n rows of dataset.By default df.head() return the first 5 row  of the DataFrame.\n",
    "3.describe():It is used to generate descriptive statistics of the data in Pandas DataFrame or Series.It summarizes central tendency and dispersion of the dataset.\n",
    "4.memory_usage():return a Pandas series having the memory usage of each column  in pandas datafrmae.\n",
    "5.to_datetime():it is used to convert p python object to datetime format.It can take  an integer , floating  point number list ,Panda Series , or Pandas Data Frame as argument.\n",
    "6.value_count():returns a pandas Series containing the counts of unique values. \n",
    "7.drop_duplicate():returns a Pandas DataFrame with duplicate rows removed . Even among duplicate theres is an option to keep the first occurrenece(record )of the duplicate or the last.\n",
    "8.groupby():It is used to group a pandas DataFrame by one or more columns, and perform  some mathematical operation on it.\n"
   ]
  },
  {
   "attachments": {},
   "cell_type": "markdown",
   "metadata": {},
   "source": [
    "Q6.Which of the following is mutable in nature Series, DataFrame, Panel?\n",
    "ANS: Dataframe is mutable in nature."
   ]
  },
  {
   "attachments": {},
   "cell_type": "markdown",
   "metadata": {},
   "source": [
    "Q7.Create a DataFrame using multiple Series. Explain with an example.\n",
    "ANS:\n",
    "Creating a DataFrame from multiple Series object by adding each series   as a columns."
   ]
  },
  {
   "cell_type": "code",
   "execution_count": 4,
   "metadata": {},
   "outputs": [
    {
     "name": "stdout",
     "output_type": "stream",
     "text": [
      "              0      1     2\n",
      "0  Data Science  22000  1000\n",
      "1       PySpark  34444  3400\n",
      "2        Hadoop  54999  2233\n",
      "3         Spark  43222  4322\n"
     ]
    }
   ],
   "source": [
    "import pandas as pd\n",
    "#Create pandas Series\n",
    "courses=pd.Series(['Data Science','PySpark','Hadoop','Spark'])\n",
    "fees = pd.Series([22000,34444,54999,43222])\n",
    "discount=pd.Series([1000,3400,2233,4322])\n",
    "#combine two series\n",
    "\n",
    "df=pd.concat([courses,fees,discount],axis=1)\n",
    "print(df)"
   ]
  },
  {
   "attachments": {},
   "cell_type": "markdown",
   "metadata": {},
   "source": [
    "Q1. Create a Pandas Series that contains the following data: 4, 8, 15, 16, 23, and 42. Then, print the series"
   ]
  },
  {
   "cell_type": "code",
   "execution_count": 9,
   "metadata": {},
   "outputs": [
    {
     "name": "stdout",
     "output_type": "stream",
     "text": [
      "0     4\n",
      "1     8\n",
      "2    15\n",
      "3    16\n",
      "4    23\n",
      "5    42\n",
      "dtype: int64\n"
     ]
    }
   ],
   "source": [
    "import pandas as pd\n",
    "data=pd.Series([ 4, 8, 15, 16, 23, 42])\n",
    "print(data)\n"
   ]
  },
  {
   "attachments": {},
   "cell_type": "markdown",
   "metadata": {},
   "source": [
    "Q2.Create a variable of list type containing 10 elements in it, and apply pandas.Series function on the\n",
    "variable print it."
   ]
  },
  {
   "cell_type": "code",
   "execution_count": 11,
   "metadata": {},
   "outputs": [
    {
     "name": "stdout",
     "output_type": "stream",
     "text": [
      "0    r\n",
      "1    t\n",
      "2    q\n",
      "3    p\n",
      "4    s\n",
      "5    k\n",
      "6    m\n",
      "7    c\n",
      "8    z\n",
      "9    w\n",
      "dtype: object\n"
     ]
    }
   ],
   "source": [
    "import pandas as pd\n",
    "list=['r','t','q','p','s','k','m','c','z','w']\n",
    "\n",
    "ser=pd.Series(list)\n",
    "print(ser)"
   ]
  },
  {
   "attachments": {},
   "cell_type": "markdown",
   "metadata": {},
   "source": [
    "Q3.Create a Pandas DataFrame that contains the following data:"
   ]
  },
  {
   "cell_type": "code",
   "execution_count": 16,
   "metadata": {},
   "outputs": [
    {
     "name": "stdout",
     "output_type": "stream",
     "text": [
      "     Name  Age  Gender\n",
      "0   Alice   25  Female\n",
      "1     Bob   30    Male\n",
      "2  Claire   27  Female\n"
     ]
    }
   ],
   "source": [
    "import pandas as pd\n",
    "data={'Name':['Alice','Bob','Claire'],\n",
    "'Age':[25,30,27],\n",
    "'Gender':['Female','Male','Female']}\n",
    "df=pd.DataFrame(data)\n",
    "print(df)"
   ]
  },
  {
   "cell_type": "code",
   "execution_count": null,
   "metadata": {},
   "outputs": [],
   "source": []
  }
 ],
 "metadata": {
  "kernelspec": {
   "display_name": "Python 3",
   "language": "python",
   "name": "python3"
  },
  "language_info": {
   "codemirror_mode": {
    "name": "ipython",
    "version": 3
   },
   "file_extension": ".py",
   "mimetype": "text/x-python",
   "name": "python",
   "nbconvert_exporter": "python",
   "pygments_lexer": "ipython3",
   "version": "3.11.2"
  },
  "orig_nbformat": 4
 },
 "nbformat": 4,
 "nbformat_minor": 2
}
