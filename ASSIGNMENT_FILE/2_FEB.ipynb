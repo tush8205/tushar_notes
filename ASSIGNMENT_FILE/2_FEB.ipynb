{
 "cells": [
  {
   "cell_type": "code",
   "execution_count": 1,
   "metadata": {},
   "outputs": [],
   "source": [
    "#  1.Explain with an example each when to use a for loop and a while loop."
   ]
  },
  {
   "attachments": {},
   "cell_type": "markdown",
   "metadata": {},
   "source": [
    "For Loop: Loop is used to repeat a specific block of code a known number of times \n",
    "\n",
    "Ex:if we wantt to check the grade of every student in th class we loop from 1 to that number.\n",
    "\n",
    "# This loop is iterated 4 times (0 to 3)\n",
    "for i in range(4):\n",
    "    print(i)"
   ]
  },
  {
   "attachments": {},
   "cell_type": "markdown",
   "metadata": {},
   "source": [
    "While Loop: Loop is used to repeat a specific block of code an unknown number of times , until a condition is met \n",
    "\n",
    "Eg:-if we want to ask a user for a number between 1 and 10, we don't know how many times the user may enter a larger number. so we keep asking while the number is not between 1 and 10\n",
    "\n",
    "\n",
    "i = 1\n",
    "while i <= 10:\n",
    "    print(i)\n",
    "    i += 1"
   ]
  },
  {
   "attachments": {},
   "cell_type": "markdown",
   "metadata": {},
   "source": [
    "  Q2.Write a python program to print the sum and product of the first 10 natural numbers using for\n",
    "and while loop."
   ]
  },
  {
   "cell_type": "code",
   "execution_count": 18,
   "metadata": {},
   "outputs": [
    {
     "name": "stdout",
     "output_type": "stream",
     "text": [
      "the sum of natural number 55\n"
     ]
    }
   ],
   "source": [
    "\n",
    "n = int(input())\n",
    "\n",
    "sum = 0\n",
    "i = 1\n",
    "while i<=n:\n",
    "  sum = sum+i\n",
    "  i = i+1\n",
    "\n",
    "print(\"the sum of natural number\", sum)"
   ]
  },
  {
   "cell_type": "code",
   "execution_count": 21,
   "metadata": {},
   "outputs": [
    {
     "name": "stdout",
     "output_type": "stream",
     "text": [
      "The product of Natural Number 3628800\n"
     ]
    }
   ],
   "source": [
    "n=int(input())\n",
    "product=1\n",
    "i=1\n",
    "while i <=n:\n",
    "    product=product*i\n",
    "    i = i+1\n",
    "    \n",
    "print(\"The product of Natural Number\",product)"
   ]
  },
  {
   "cell_type": "code",
   "execution_count": null,
   "metadata": {},
   "outputs": [],
   "source": []
  },
  {
   "attachments": {},
   "cell_type": "markdown",
   "metadata": {},
   "source": [
    "Q3. Create a python program to compute the electricity bill for a household\n",
    "The per-unit charges in rupees are as follows: For the first 100 units, the user will be charged Rs. 4.5 per\n",
    "unit, for the next 100 units, the user will be charged Rs. 6 per unit, and for the next 100 units, the user will\n",
    "be charged Rs. 10 per unit, After 300 units and above the user will be charged Rs. 20 per unit.\n",
    "You are required to take the units of electricity consumed in a month from the user as input.\n",
    "Your program must pass this test case: when the unit of electricity consumed by the user in a month is\n",
    "310, the total electricity bill should be 2250."
   ]
  },
  {
   "cell_type": "code",
   "execution_count": 24,
   "metadata": {},
   "outputs": [
    {
     "name": "stdout",
     "output_type": "stream",
     "text": [
      "2250.0\n"
     ]
    }
   ],
   "source": [
    "def CalculateBill(units):\n",
    " \n",
    "    if (units <= 100):      \n",
    "        return units * 4.5     \n",
    "    elif (units <= 200): \n",
    "        return ((100 * 4.5) +\n",
    "                (units - 100) * 6)\n",
    "    elif (units <= 300):      \n",
    "        return ((100 * 4.5) +\n",
    "                (100 * 6) +\n",
    "                (units - 200) * 10)\n",
    "     \n",
    "    elif (units > 300): \n",
    "        return ((100 * 4.5) +\n",
    "                (100 * 6) +\n",
    "                (100 * 10) +\n",
    "                (units - 300) * 20)\n",
    "     \n",
    "    return 0\n",
    "units = 310\n",
    "print(CalculateBill(units))"
   ]
  },
  {
   "attachments": {},
   "cell_type": "markdown",
   "metadata": {},
   "source": [
    "Q4.Create a list of numbers from 1 to 100. Use for loop and while loop to calculate the cube of each\n",
    "number and if the cube of that number is divisible by 4 or 5 then append that number in a list and print\n",
    "that list."
   ]
  },
  {
   "cell_type": "code",
   "execution_count": 25,
   "metadata": {},
   "outputs": [
    {
     "name": "stdout",
     "output_type": "stream",
     "text": [
      "[0, 1, 8, 27, 64, 125, 216, 343, 512, 729, 1000, 1331, 1728, 2197, 2744, 3375, 4096, 4913, 5832, 6859, 8000, 9261, 10648, 12167, 13824, 15625, 17576, 19683, 21952, 24389, 27000, 29791, 32768, 35937, 39304, 42875, 46656, 50653, 54872, 59319, 64000, 68921, 74088, 79507, 85184, 91125, 97336, 103823, 110592, 117649, 125000, 132651, 140608, 148877, 157464, 166375, 175616, 185193, 195112, 205379, 216000, 226981, 238328, 250047, 262144, 274625, 287496, 300763, 314432, 328509, 343000, 357911, 373248, 389017, 405224, 421875, 438976, 456533, 474552, 493039, 512000, 531441, 551368, 571787, 592704, 614125, 636056, 658503, 681472, 704969, 729000, 753571, 778688, 804357, 830584, 857375, 884736, 912673, 941192, 970299]\n"
     ]
    }
   ],
   "source": [
    "l = []\n",
    "for i in range(100):\n",
    "    l.append(i*i*i)\n",
    "print(l)"
   ]
  },
  {
   "cell_type": "code",
   "execution_count": 29,
   "metadata": {},
   "outputs": [
    {
     "name": "stdout",
     "output_type": "stream",
     "text": [
      "[0, 1, 8, 27, 64, 125, 216, 343, 512, 729, 1000, 1331, 1728, 2197, 2744, 3375, 4096, 4913, 5832, 6859, 8000, 9261, 10648, 12167, 13824, 15625, 17576, 19683, 21952, 24389, 27000, 29791, 32768, 35937, 39304, 42875, 46656, 50653, 54872, 59319, 64000, 68921, 74088, 79507, 85184, 91125, 97336, 103823, 110592, 117649, 125000, 132651, 140608, 148877, 157464, 166375, 175616, 185193, 195112, 205379, 216000, 226981, 238328, 250047, 262144, 274625, 287496, 300763, 314432, 328509, 343000, 357911, 373248, 389017, 405224, 421875, 438976, 456533, 474552, 493039, 512000, 531441, 551368, 571787, 592704, 614125, 636056, 658503, 681472, 704969, 729000, 753571, 778688, 804357, 830584, 857375, 884736, 912673, 941192, 970299, 1000000]\n"
     ]
    }
   ],
   "source": [
    "l=[]\n",
    "i=0\n",
    "while i <=100:\n",
    "    l.append(i*i*i)\n",
    "    i=i+1\n",
    "print(l)"
   ]
  },
  {
   "attachments": {},
   "cell_type": "markdown",
   "metadata": {},
   "source": [
    "Q5. Write a program to filter count vowels in the below-given string\n",
    "string = \"I want to become a data scientist\"\n"
   ]
  },
  {
   "cell_type": "code",
   "execution_count": 1,
   "metadata": {},
   "outputs": [
    {
     "name": "stdout",
     "output_type": "stream",
     "text": [
      "No. of vowels : 12\n"
     ]
    }
   ],
   "source": [
    "def vowel_count(string):\n",
    "    count = 0\n",
    "    vowel = set(\"aeiouAEIOU\")\n",
    "    for alphabet in string:\n",
    "        if alphabet in vowel:\n",
    "            count = count + 1\n",
    "    print(\"No. of vowels :\", count)\n",
    "string=\"I want to become a data scientist\"\n",
    "vowel_count(string)"
   ]
  },
  {
   "cell_type": "code",
   "execution_count": null,
   "metadata": {},
   "outputs": [],
   "source": []
  }
 ],
 "metadata": {
  "kernelspec": {
   "display_name": "Python 3",
   "language": "python",
   "name": "python3"
  },
  "language_info": {
   "codemirror_mode": {
    "name": "ipython",
    "version": 3
   },
   "file_extension": ".py",
   "mimetype": "text/x-python",
   "name": "python",
   "nbconvert_exporter": "python",
   "pygments_lexer": "ipython3",
   "version": "3.11.1"
  },
  "orig_nbformat": 4
 },
 "nbformat": 4,
 "nbformat_minor": 2
}
