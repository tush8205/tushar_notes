{
 "cells": [
  {
   "attachments": {},
   "cell_type": "markdown",
   "metadata": {},
   "source": [
    "Q1. What is an API? Give an example, where an API is used in real life\n",
    "ANS:\n",
    "API stands for Appliction Programming Interface.\n",
    "API are mechanisms that enable two software components to communicate with each other using a set of definitions and protocols. For example:- The weather bureau software system contains daily weather data. The weather app on your phone talks to this system via API and shows you daily weather updates on your phone.\n"
   ]
  },
  {
   "attachments": {},
   "cell_type": "markdown",
   "metadata": {},
   "source": [
    "Q2. Give advantages and disadvantages of using API. \n",
    "\n",
    "ANS:\n",
    "Adavantages:\n",
    "1.Increased Efficiency\n",
    "2.Scalability\n",
    "3.Access to Third-Party Services\n",
    "4.Imporoved User Experience\n",
    "5.Security\n",
    "\n",
    "Disadavantages:\n",
    "1.Comlexity\n",
    "2.Dependencies\n",
    "3.Cost\n",
    "4.Data Privacy\n",
    "5.Documentation\n"
   ]
  },
  {
   "attachments": {},
   "cell_type": "markdown",
   "metadata": {},
   "source": [
    "Q3.What is a Web API? Differentiate between API and Web API.\n",
    " ANS:\n",
    " Web API or Web Service API is an application processing interface between a web server and web browser. All web services are APIs but not all APIs are web services.\n",
    " API:\n",
    "  1.It a genral term used to describe a set of protocols and tools that allow different software application to communicate with each other.\n",
    "  2.Access method - command line interfaces or libraries.\n",
    "  3.Data Format:It can be used different data formats such as XML or JSON.\n",
    "  4.Platform Dependency:It can be used on any platform.\n",
    " Web API: \n",
    "  1.Specifically refer to API that are designed to be accessed over the web using the HTTP protocol.\n",
    "  2.Access method- HTTP method.\n",
    "  3.Data Format:almost exclusively use JSON\n",
    "  4.Platform Dependency:are primarily designed to be used in web based appliction.\n",
    "\n"
   ]
  },
  {
   "attachments": {},
   "cell_type": "markdown",
   "metadata": {},
   "source": [
    "Q5.Differentiate between REST and SOAP.\n",
    "ANS:\n",
    "SOAP:\n",
    " 1.SOAP stands for Simple Object Access Protocol\n",
    " 2.It is protocol\n",
    " 3.It uses service interfaces to expose its functionality to client applications. \n",
    " 4.It needs more bandwidth for its usage.\n",
    " 5.SOAP only works with XML formats.\n",
    " 6.SOAP cannot make use of REST.\n",
    "REST:\n",
    " 1.REST stands for Representational State Transfer\n",
    " 2.It is an architectural pattern\n",
    " 3.It uses Uniform Service locators to access to the componets   on the hardware device.\n",
    "  4.It does not need much bandwidth.\n",
    "  5.REST works with plain text ,XML,HTML and JSON.\n",
    "  6.REST can male use of SOAP."
   ]
  },
  {
   "attachments": {},
   "cell_type": "markdown",
   "metadata": {},
   "source": [
    "Q4.Explain REST and SOAP Architecture. Mention shortcomings of SOAP.\n",
    "ANS:REST stands for Representational State Transfer.\n",
    "REST is an architectural style that uses HTTP protocol to build web services.REST is based on the concept of resources, which are identified by unique URI(Uniform Resource Identifiers).A RESTful web service exposes a set of resources that can be accessed using HTTP method like GET,POST,PUT and DELETE. These method allow client to retrieve,create ,update,abd delete resources.REST also supports the use of other HTTP methods like HEAD,OPTION and PATCH.\n",
    "REST is simple and lghtweight architecture that is easy to understand and implement. \n",
    "\n",
    "SOAP(Simple Object Access Protocol) is another architechtural style used for building web services.SOAP is based on XML and messaging protoco; to exchange information betweenclient and server.SOAP message are typically transport over HTTP,but they can also be transported over other protocols like SMTP(Simple Mail Transfer Protocol) and TCP (Transmission Control Protocol).\n",
    "SOAP is more complex architecture than REST and requires more overhead to implement. It has support for fetures like security, transaction management and reliability which makes it suitable for building enterprise level applications."
   ]
  }
 ],
 "metadata": {
  "kernelspec": {
   "display_name": "Python 3",
   "language": "python",
   "name": "python3"
  },
  "language_info": {
   "codemirror_mode": {
    "name": "ipython",
    "version": 3
   },
   "file_extension": ".py",
   "mimetype": "text/x-python",
   "name": "python",
   "nbconvert_exporter": "python",
   "pygments_lexer": "ipython3",
   "version": "3.11.2"
  },
  "orig_nbformat": 4
 },
 "nbformat": 4,
 "nbformat_minor": 2
}
