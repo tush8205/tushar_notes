{
 "cells": [
  {
   "attachments": {},
   "cell_type": "markdown",
   "metadata": {},
   "source": [
    "Q1.What is a database? Differentiate between SQL and NoSQL databases?\n",
    "ANS: Databases is an organized collection of structured information , or data, typically stored electronically in a computer system. A databases is usually controlled by a database management system(DBMS).\n",
    "SQL:\n",
    "1.It is Relatioanal Database Management system.\n",
    "2.These databases have fixed or static or predefined schema.\n",
    "3.These databases are not suited for hierarchical data storage.\n",
    "4.Vertically Scalable\n",
    "5.Ex:MySql,Oracle\n",
    "NOSQL:\n",
    "1.It is Non-Relational or Distributed databases system\n",
    "2.These databases have dynamic schema.\n",
    "3.These databases are best suited for hierarchical data storage.\n",
    "4.Horizontally scalable\n",
    "5.MongoDB,HBase\n"
   ]
  },
  {
   "attachments": {},
   "cell_type": "markdown",
   "metadata": {},
   "source": [
    "Q2. What is DDL? Explain why CREATE, DROP, ALTER, and TRUNCATE are used with an example.\n",
    "ANS:DDL(Data Definition Language)-Is a computer language used to create and modify the structure of database object in a database.\n",
    "In DDL 4 commands are used :\n",
    "1.CREATE:-It is used to create new table in the  database.\n",
    "Syntax:\n",
    " CREATE TABLE table_name()\n",
    "2.ALTER:- command used to adds ,deletes ,modifies columns in table.\n",
    "Syntax:\n",
    " ALTER TABLE table_name ADD column_name datatype;\n",
    "3.DROP :- command used to deletes a tables in the databases.\n",
    "Syntax:\n",
    " DROP TABLE table_name;\n",
    "TRUNCATE:-cammand used to deletes the data inside a table , but not the tables itself.\n",
    "Syntax:\n",
    " TRAUNCATE TABLE table_name;\n"
   ]
  },
  {
   "attachments": {},
   "cell_type": "markdown",
   "metadata": {},
   "source": [
    "Q3.What is DML? Explain INSERT, UPDATE, and DELETE with an example?\n",
    "Ans:DML(Data Manipulation language) is a group computer language that provide commands for manipulating data in databases.It is sublanguage of a larger database language like SQL.\n",
    "In DML 4 commands are include.\n",
    "(INSERT,UPDATE,DELETE ,SELECT )\n",
    "1.INSERT:-This command can be used to insert data into a row of a table. INSERT INTO would insert the values.\n",
    "SYNTAX:INSERT INTO NAME_OF_TABLE(col_1,col_2,.....,col_n) VALUES (val_1,val_2,....val_n);\n",
    "OR\n",
    "INSERT INTO TABLE_NAME VALUES(1_val,2_val,...,n_val);\n",
    "\n",
    "EX:INSERT INTO Student (Stu_id, Stu_Name, Stu_Marks, Stu_Age) VALUES (104, Anmol, 89, 19); \n",
    "\n",
    "2.UPDATE : This statement in SQL is used to update the data that is present in an existing table of the database.The UPDATE statement can be used to update single or multiple columns on the basis of our specific needs.\n",
    "Syntax:\n",
    "UPDATE table_name SET [column_1=Value_1,.....,col_n=val_n] where Condition ;\n",
    "Ex:\n",
    "UPDATE Student SET Stu_name='tushar' where stu_age=19;\n",
    "\n",
    "3.DELETE: This command which allows SQL user to remove the single or multiple existing records  from the database tables.\n",
    "Syntax:\n",
    "DELETE FROM table_name where condition;\n",
    "Ex:\n",
    "DELETE FROM student where stu_age=19;\n"
   ]
  },
  {
   "attachments": {},
   "cell_type": "markdown",
   "metadata": {},
   "source": [
    "Q4. What is DQL? Explain SELECT with an example.\n",
    "ANS:\n",
    "DQL is (Data Query Language). It is used to perform queries against the data stored in a relational database.\n",
    "DQL includes the select statment as well as a variety of operators and functions that can be used to manipilate the retrived data.The SELECT statement is typically used to retrieve data from one or more databases tables , and it can contain various clauses that specify the exact data to retrive  as well as  how it is presented when it's returned.\n",
    "Example:\n",
    "SELECT * FROM TABLE_NAME;\n",
    "DQL statement selected all rows and colums from the table .\n",
    "The asterisk(*) is a wildcard character that is used to select all columns . "
   ]
  },
  {
   "attachments": {},
   "cell_type": "markdown",
   "metadata": {},
   "source": [
    "Q5. Explain Primary Key and Foreign Key.\n",
    "ANS:\n",
    "Primary Key:-\n",
    "  1.A Primary key is used to ensure data in the specific colums   is unique.\n",
    "  2.It is uniquely identifies a record in the relational database table.\n",
    "  3.Only one primary key is allowed in a table.\n",
    "  4.It does not allow NULL values\n",
    "  5.Its values cannot be deleted from the parent table.\n",
    "Foreign Key:\n",
    "  1.A Foreign key is a columns  or group  of colums  in a relational databases tables that provides a link between data in two tables.\n",
    "  2.It refer to the filed  in a table which is the primary key of another table.\n",
    "  3.More than one foreign key  are allowed  in a table. \n",
    "  4.It can also contain NULL value.\n",
    "  5.Its value can be delteted  from child table.\n",
    "\n",
    "\n"
   ]
  },
  {
   "attachments": {},
   "cell_type": "markdown",
   "metadata": {},
   "source": [
    "Q7.Give the order of execution of SQL clauses in an SQL query.\n",
    "ANS:\n",
    "Order of execution:\n",
    "FROM  JOIN WHERE GROUP-BY HAVING SELECT DISTINCT ORDERBY"
   ]
  },
  {
   "attachments": {},
   "cell_type": "markdown",
   "metadata": {},
   "source": [
    "Q6. Write a python code to connect MySQL to python. Explain the cursor() and execute() method.\n",
    "ANS:\n",
    "import mysql.connector\n",
    "mydb = mysql.connector.connect(\n",
    "  host=\"localhost\",\n",
    "  user=\"abc\",\n",
    "  password=\"password\"\n",
    ")\n",
    "\n",
    "The cursor() method is used to create a cursor object which is used to execute SQL statements and fetch result. The cursor object is created by calling the cursor() method on a database connection object.\n",
    "Ex. mycursor = mydb.cursor()\n",
    "\n",
    "The execute method is used to execute SQL statemet through the cursor object. The SQL statement can be a parameterizes query which is a query that has placeholder fro valuesthat wil be supplied later. The values are passed as a tuple or list As second argument to the execute() method.\n",
    "Ex.cursor.execute('Select * from tabel_name)\n",
    "\n",
    "\n"
   ]
  }
 ],
 "metadata": {
  "kernelspec": {
   "display_name": "Python 3",
   "language": "python",
   "name": "python3"
  },
  "language_info": {
   "codemirror_mode": {
    "name": "ipython",
    "version": 3
   },
   "file_extension": ".py",
   "mimetype": "text/x-python",
   "name": "python",
   "nbconvert_exporter": "python",
   "pygments_lexer": "ipython3",
   "version": "3.11.2"
  },
  "orig_nbformat": 4
 },
 "nbformat": 4,
 "nbformat_minor": 2
}
