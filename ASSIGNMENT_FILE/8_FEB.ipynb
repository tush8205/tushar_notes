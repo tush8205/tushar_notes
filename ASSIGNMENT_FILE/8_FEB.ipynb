{
 "cells": [
  {
   "attachments": {},
   "cell_type": "markdown",
   "metadata": {},
   "source": [
    "Q1. What is Abstraction in OOps? Explain with an example."
   ]
  },
  {
   "attachments": {},
   "cell_type": "markdown",
   "metadata": {},
   "source": [
    "ANS: 1.Abstraction is the process of hiding the internal details of an application from the outer world.\n",
    "2.Abstraction is used to create a boundary between the application and the client programs .\n",
    "3.It is process of hiding the implementation details and showing only functionality to the user.\n",
    "4.EX:ATM opertaion \n"
   ]
  },
  {
   "attachments": {},
   "cell_type": "markdown",
   "metadata": {},
   "source": [
    " Q2.Differentiate between Abstraction and Encapsulation. Explain with an example"
   ]
  },
  {
   "attachments": {},
   "cell_type": "markdown",
   "metadata": {},
   "source": [
    "ANS:1.Abstraction shows only useful data by providing most necessary details,whereas Encapsulation wrap code and data for necessary information .\n",
    "2.Abstraction is focused mainly on what should be done , \n",
    "  while Encapsulation is focused on how it should be done .\n",
    "3.Abstraction hides complexity by giving you a more abstract picture, while Encapsulation hides internal work so that can chnage it later\n",
    "4.Abstraction hides the irrelevant details found in the code , whereas Encapsulation helps devlopers organize the entire code easily.\n",
    "5.Abstraction method mainly focusses on the idea instead of actual functioning,Encapsulation is a process of wrapping the data\n"
   ]
  },
  {
   "attachments": {},
   "cell_type": "markdown",
   "metadata": {},
   "source": [
    "Q3.What is abc module in python? Why is it used?"
   ]
  },
  {
   "attachments": {},
   "cell_type": "markdown",
   "metadata": {},
   "source": [
    "ANS:This module provides the infrastructure for defining abstract base classes .It is mostly used in the manufacturing industry since it enchnaces the realiability of cost data.\n",
    "Abstract class cnanot be instantiated in python .an abstract method can be call by its subclasses."
   ]
  },
  {
   "attachments": {},
   "cell_type": "markdown",
   "metadata": {},
   "source": [
    "Q4. How can we achieve data abstraction?\n",
    " "
   ]
  },
  {
   "attachments": {},
   "cell_type": "markdown",
   "metadata": {},
   "source": [
    " ANS:In Python,abstraction can be achieved by having/using abstract classes and methods in our programs."
   ]
  },
  {
   "attachments": {},
   "cell_type": "markdown",
   "metadata": {},
   "source": [
    "Q5.Can we create an instance of an abstract class? Explain your answer.\n"
   ]
  },
  {
   "attachments": {},
   "cell_type": "markdown",
   "metadata": {},
   "source": [
    "ANS:\n",
    "Abstract classes cannot be instantiated , but they can be subclasses . when an abstract class is subclasses, the subclass usually provides implementations for all of the abstract menthod in its parent class. However , if it does not , then the subclass must also be declared abstract."
   ]
  },
  {
   "cell_type": "markdown",
   "metadata": {},
   "source": []
  }
 ],
 "metadata": {
  "kernelspec": {
   "display_name": "Python 3",
   "language": "python",
   "name": "python3"
  },
  "language_info": {
   "codemirror_mode": {
    "name": "ipython",
    "version": 3
   },
   "file_extension": ".py",
   "mimetype": "text/x-python",
   "name": "python",
   "nbconvert_exporter": "python",
   "pygments_lexer": "ipython3",
   "version": "3.11.1"
  },
  "orig_nbformat": 4
 },
 "nbformat": 4,
 "nbformat_minor": 2
}
