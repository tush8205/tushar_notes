{
 "cells": [
  {
   "attachments": {},
   "cell_type": "markdown",
   "metadata": {},
   "source": [
    " Q1.Explain GET and POST methods.\n",
    " ANS:\n",
    " GET:1.It is used to request data from a specified resource.\n",
    "    2.GET requests can be cached\n",
    "    3.GET requests remain in the browser history\n",
    "    4.GET requests can be bookmarked\n",
    "    5.GET requests should never be used when dealing with     sensitive data\n",
    "POST:1.It is used to send data to a server to create / update  a resource.\n",
    "   2.POST requests are never cached\n",
    "   3.POST requests do not remain in the browser history\n",
    "   4.POST requests cannot be bookmarked\n",
    "   5.POST requests have no restrictions on data length\n"
   ]
  },
  {
   "attachments": {},
   "cell_type": "markdown",
   "metadata": {},
   "source": [
    "Q2.Why is request used in Flask?\n",
    "ANS:To access the incoming data in Flask, you have to use the request object. The request object holds all incoming data from the request, which includes the mimetype, referrer, IP address, raw data, HTTP method, and headers, among other things."
   ]
  },
  {
   "attachments": {},
   "cell_type": "markdown",
   "metadata": {},
   "source": [
    "Q3.Why is redirect() used in Flask?\n",
    "ANS:Flask class has a redirect() function. When called, it returns a response object and redirects the user to another target location with specified status code. location parameter is the URL where response should be redirected."
   ]
  },
  {
   "attachments": {},
   "cell_type": "markdown",
   "metadata": {},
   "source": [
    "Q4. What are templates in Flask?Why is the render_template() function used?\n",
    "ANS:Templates are files that contain static data as well as placeholders for dynamic data. A template is rendered with specific data to produce a final document.\n",
    "render_template is used to generate output from a template file based on the Jinja2 engine that is found in the applications templates folder. the  render_template is typically imported directly from the flask package instead of from flask.templating."
   ]
  },
  {
   "cell_type": "markdown",
   "metadata": {},
   "source": []
  },
  {
   "cell_type": "code",
   "execution_count": null,
   "metadata": {},
   "outputs": [],
   "source": []
  }
 ],
 "metadata": {
  "kernelspec": {
   "display_name": "Python 3",
   "language": "python",
   "name": "python3"
  },
  "language_info": {
   "codemirror_mode": {
    "name": "ipython",
    "version": 3
   },
   "file_extension": ".py",
   "mimetype": "text/x-python",
   "name": "python",
   "nbconvert_exporter": "python",
   "pygments_lexer": "ipython3",
   "version": "3.11.2"
  },
  "orig_nbformat": 4
 },
 "nbformat": 4,
 "nbformat_minor": 2
}
