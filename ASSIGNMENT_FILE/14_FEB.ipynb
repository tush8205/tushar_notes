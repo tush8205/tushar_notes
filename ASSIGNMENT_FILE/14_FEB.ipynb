{
 "cells": [
  {
   "attachments": {},
   "cell_type": "markdown",
   "metadata": {},
   "source": [
    "Q1.what is multithreading in python? why is it used? Name the module used to handle threads in python?\n",
    "ANS:Multithreading is the ability of a program or an opereating system to enable more than one user at a time without requiring multiple copies of the program runnig on the computer.\n",
    "multithreading enables efficient utilization of the resources as the threads share the data space and memory.Multithreading in python allows the concurrent and parallel occurrence of various tasks.It causes a reduction in time consumption or response time , thereby increasing the performance.\n",
    "Modules:\n",
    "1.activeCount()\n",
    "2.currentThread()\n",
    "3.enumerate()\n"
   ]
  },
  {
   "attachments": {},
   "cell_type": "markdown",
   "metadata": {},
   "source": [
    "Q2. Why threading module used? Write the use of the following functions?\n",
    "1. activeCount()\n",
    "2. currentThread()\n",
    "3. enumerate()\n",
    "ANS:The threading module provides a simple and effcient way to create and manage threads in python.It includes classes for creating and controlling threads as well as functions for synchronization and communication between threads.\n",
    "uses of the above function:\n",
    "1.activCount():Return the number of Thread object currently alive.The returned count is equal to the length  of the list returned by enumerate().\n",
    "The function activeCount is a deprecated alias for this function\n",
    "2.currentThread():\n",
    "It is corresponding to the caller thread of control . If the caller thread of control was not created through the threading module , a dummy thread object with limited functionality  is returned.\n",
    "3.enumerate():Return a list of all Thread object currenlt active. It excludes terminated threads and threads that have not yet been started."
   ]
  },
  {
   "attachments": {},
   "cell_type": "markdown",
   "metadata": {},
   "source": [
    "Q3.Explain the following functions:\n",
    "1. run()\n",
    "2. start()\n",
    "3. join()\n",
    "4. isAlive()\n",
    "ANS:\n",
    "1.run():\n",
    "The standard run() methods invokes  the callable object passed to the object constructor as the target  argument .if any with postional and keyword arguments taken from the args and kwargs arguments. \n",
    "2.start():\n",
    "It must be called at most once per thread object. It arrange for the cobject run() method to be invoked in a separate thread of control.\n",
    "3.join():\n",
    "This blocks the calling thread until the thread whose join  method is called terminated either normally or through an unhandled exception or until the optional timeout occurs.\n",
    "4.isAlive():\n",
    "This method returns True just before the run() methoda starts until just after  the run() method terminates. "
   ]
  },
  {
   "attachments": {},
   "cell_type": "markdown",
   "metadata": {},
   "source": [
    "Q4.Write a python program to create two threads. Thread one must print the list of squares and thread\n",
    "two must print the list of cubes?\n",
    "ANS:\n",
    "import threading\n",
    "def squr_thread():\n",
    "     for i in range(1,11):\n",
    "         print (i**2)\n",
    "\n",
    "def cube_thread():\n",
    "    for i in range(1,11):\n",
    "        print(i**3)\n",
    "\n",
    "thread1=threading.Thread(target=squr_thread)\n",
    "thread2=threading.Thread(target=cube_thread)\n",
    "\n",
    "thread1.start()\n",
    "thread2.start()         \n"
   ]
  },
  {
   "attachments": {},
   "cell_type": "markdown",
   "metadata": {},
   "source": [
    "Q5.State advantages and disadvantages of multithreading\n",
    "ANS:\n",
    "Advantages:\n",
    "1.Improved performance.\n",
    "2.Efficient use of resources\n",
    "3.Better responsiveness\n",
    "4.Simplified program design\n",
    "Disadvantages:\n",
    "1.Increased Complexity\n",
    "2.Synchronization issues\n",
    "3.Increases memory usage\n",
    "4.Reduced scalabilty\n"
   ]
  },
  {
   "attachments": {},
   "cell_type": "markdown",
   "metadata": {},
   "source": [
    "Q6.Explain deadlocks and race conditions.\n",
    "Ans:Both are concurrency issues that can occur in multithreaded programs\n",
    "Deadlocks occurs when two or more threads are blocked waiting for each other to release resoureces that thry hold. this can happen when two or more threasa are each holding a resource that the other needs and neither thread can proceed until it acquires the resource that the other thread is holding.\n",
    "Race condition on the other habd occur when two or more thred access a shared resourece or variable in an unpredictable order which can lead to unexpected or incorrect behavior.\n",
    "Both deadlocks and race condition can be difficult to detect and debug as they can depend on subtle timinf issues and the order in which threads are scheduled to run."
   ]
  },
  {
   "cell_type": "code",
   "execution_count": null,
   "metadata": {},
   "outputs": [],
   "source": []
  }
 ],
 "metadata": {
  "kernelspec": {
   "display_name": "Python 3",
   "language": "python",
   "name": "python3"
  },
  "language_info": {
   "codemirror_mode": {
    "name": "ipython",
    "version": 3
   },
   "file_extension": ".py",
   "mimetype": "text/x-python",
   "name": "python",
   "nbconvert_exporter": "python",
   "pygments_lexer": "ipython3",
   "version": "3.11.2"
  },
  "orig_nbformat": 4
 },
 "nbformat": 4,
 "nbformat_minor": 2
}
