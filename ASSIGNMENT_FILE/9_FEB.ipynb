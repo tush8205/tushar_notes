{
 "cells": [
  {
   "attachments": {},
   "cell_type": "markdown",
   "metadata": {},
   "source": [
    "Q1.Create a vehicle class with an init method having instance variables as name_of_vehicle, max_speed\n",
    "and average_of_vehicle."
   ]
  },
  {
   "cell_type": "code",
   "execution_count": 2,
   "metadata": {},
   "outputs": [],
   "source": [
    "\n",
    "\n",
    "class vehical:\n",
    "    def __init__(self,name_vehicle,max_speed,average_of_vehicle):\n",
    "        self.name_vehicle=name_vehicle\n",
    "        self.max_speed=max_speed\n",
    "        self.average_of_vehicle=average_of_vehicle\n",
    "        \n",
    "    "
   ]
  },
  {
   "attachments": {},
   "cell_type": "markdown",
   "metadata": {},
   "source": [
    "Q2.Create a child class car from the vehicle class created in Que 1, which will inherit the vehicle class.\n",
    "Create a method named seating_capacity which takes capacity as an argument and returns the name of\n",
    "the vehicle and its seating capacity."
   ]
  },
  {
   "cell_type": "code",
   "execution_count": 5,
   "metadata": {},
   "outputs": [],
   "source": [
    "\n",
    "\n",
    "class vehical:\n",
    "    def __init__(self,name_vehicle,max_speed,average_of_vehicle):\n",
    "        self.name_vehicle=name_vehicle\n",
    "        self.max_speed=max_speed\n",
    "        self.average_of_vehicle=average_of_vehicle\n",
    "        \n",
    "class car(vehical):\n",
    "    def seating_capacity(self,capacity):\n",
    "        return self.name_vehicle,capacity"
   ]
  },
  {
   "attachments": {},
   "cell_type": "markdown",
   "metadata": {},
   "source": [
    "Q3.What is multiple inheritance? Write a python code to demonstrate multiple inheritance"
   ]
  },
  {
   "attachments": {},
   "cell_type": "markdown",
   "metadata": {},
   "source": [
    "when a class is derived from more thena one base class it is call multiple inheritance\n",
    "\n"
   ]
  },
  {
   "cell_type": "code",
   "execution_count": 7,
   "metadata": {},
   "outputs": [
    {
     "name": "stdout",
     "output_type": "stream",
     "text": [
      "Body of the class1\n",
      "Body of the class2\n",
      "Body of the class1 & class2\n"
     ]
    }
   ],
   "source": [
    "class Base1:\n",
    "    print( \"Body of the class1\")\n",
    "\n",
    "class Base2:\n",
    "    print (\"Body of the class2\")\n",
    "\n",
    "class Base3(Base1,Base2):\n",
    "    print(\"Body of the class1 & class2\")"
   ]
  },
  {
   "cell_type": "markdown",
   "metadata": {},
   "source": []
  },
  {
   "attachments": {},
   "cell_type": "markdown",
   "metadata": {},
   "source": [
    "Q4. What are getter and setter in python? Create a class and create a getter and a setter method in this\n",
    "class."
   ]
  },
  {
   "attachments": {},
   "cell_type": "markdown",
   "metadata": {},
   "source": [
    "Getter: A method that allows you to access an attributes in a given class\n",
    "Setter:A method that allows you to set or mutate the value of an attribute in a class."
   ]
  },
  {
   "cell_type": "code",
   "execution_count": 19,
   "metadata": {},
   "outputs": [
    {
     "name": "stdout",
     "output_type": "stream",
     "text": [
      "swift\n",
      "Swift_car\n"
     ]
    }
   ],
   "source": [
    "class vehical:\n",
    "    def __init__(self,name_vehicle=\"swift\"):\n",
    "        self.name_vehicle=name_vehicle\n",
    "       \n",
    "        \n",
    "    def getter(self):\n",
    "        return self.name_vehicle\n",
    "    def setter(self,name_vehicle):\n",
    "        self.name_vehicle=name_vehicle\n",
    "        \n",
    "obj=vehical()\n",
    "print(obj.name_vehicle)\n",
    "obj.setter(\"Swift_car\")\n",
    "print(obj.getter())\n"
   ]
  },
  {
   "attachments": {},
   "cell_type": "markdown",
   "metadata": {},
   "source": [
    "Q5.What is method overriding in python? Write a python code to demonstrate method overriding."
   ]
  },
  {
   "attachments": {},
   "cell_type": "markdown",
   "metadata": {},
   "source": [
    "ANS: 1.Method Overriding is a feature of object oriented programming languages where the subclass or child class can provide the program with specific characteristics or a specific implementation process of data provide that are already defined in the parent class or superclass .\n",
    "2.two methods with same name that each perform differnt tasks . \n"
   ]
  },
  {
   "cell_type": "code",
   "execution_count": 21,
   "metadata": {},
   "outputs": [
    {
     "name": "stdout",
     "output_type": "stream",
     "text": [
      "Hello Word\n",
      "Hello, I am Child class\n",
      "Hello, I am Parent Class\n"
     ]
    }
   ],
   "source": [
    "class parent:\n",
    "    def name(self):\n",
    "        print(\"Hello, I am Parent Class\")\n",
    "class child:\n",
    "    def name(self):\n",
    "        print(\"Hello, I am Child class\")\n",
    "print(\"Hello Word\")\n",
    "#Invoking chlid class through object c\n",
    "c=child()\n",
    "c.name()\n",
    "# Invoking parent class through object c\n",
    "c=parent()\n",
    "c.name()"
   ]
  },
  {
   "cell_type": "code",
   "execution_count": null,
   "metadata": {},
   "outputs": [],
   "source": []
  }
 ],
 "metadata": {
  "kernelspec": {
   "display_name": "Python 3",
   "language": "python",
   "name": "python3"
  },
  "language_info": {
   "codemirror_mode": {
    "name": "ipython",
    "version": 3
   },
   "file_extension": ".py",
   "mimetype": "text/x-python",
   "name": "python",
   "nbconvert_exporter": "python",
   "pygments_lexer": "ipython3",
   "version": "3.11.1"
  },
  "orig_nbformat": 4
 },
 "nbformat": 4,
 "nbformat_minor": 2
}
