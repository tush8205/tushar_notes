{
 "cells": [
  {
   "attachments": {},
   "cell_type": "markdown",
   "metadata": {},
   "source": [
    "Q1. Explain why we have to use the Exception class while creating a Custom Exception?\n",
    "Ans:\n",
    " Exception are used to handle errors and unexpected situation that may arise during program execution.A custom exception is a user defined exception that can be raised when a specific error condition occurs in tha code .\n",
    " When creating a custom exeption in python it is important to use the Exception class as base class, because exception class provides all the necessary functionality that an exception sholud have , such as storing the error message and traceback informantion.Using the Exception class as the base class ensure that your custom exception is compatible with the standard pythone exception hierarchy."
   ]
  },
  {
   "attachments": {},
   "cell_type": "markdown",
   "metadata": {},
   "source": [
    " Q2.Write a python program to print Python Exception Hierarchy.\n",
    "\n",
    "ANS:\n",
    "\n",
    "import inspect\n",
    "def treeClass(cls,ind=0):\n",
    "    print('-' *ind, cls.__name__)\n",
    "    \n",
    "    for i in cls.__subclasses__():\n",
    "        treeClass(i,ind + 3)\n",
    "        \n",
    "print(\"Hierarchy fir Built-in exception is :\")\n",
    "inspect.getclasstree(inspect.getmro(BaseException))\n",
    "\n",
    "treeClass(BaseException)"
   ]
  },
  {
   "attachments": {},
   "cell_type": "markdown",
   "metadata": {},
   "source": [
    "Q3. What errors are defined in the ArithmeticError class? Explain any two with an example.\n",
    "ANS: In ArithmeticError Class 3 error are defined as below:\n",
    "1.ZeroDivisionError\n",
    "2.OverflowError\n",
    "3.FloatingPointError\n",
    "\n",
    "\n",
    "1.ZeroDivisionError:\n",
    "   #division by zero error\n",
    "   x=5/0\n",
    "   We are trying to divide the interger 5 by zero. this is an invalid operation in arithmetic and python will raise a ZeroDivisionError.\n",
    "\n",
    "2.OverFlowError:\n",
    "It is occurs when the result of an arithmetic operation exceeds the maximum value that can be represented by the data type.\n",
    "#Integer overflow error\n",
    " x=2**1000\n",
    " we are trying to calculate 2 to the power of 1000, which is very large number.However the result exceeds the maximum value that can be represented by python integer data type and python will raise an OverflowError."
   ]
  },
  {
   "attachments": {},
   "cell_type": "markdown",
   "metadata": {},
   "source": [
    "Q4.Why LookupError class is used? Explain with an example KeyError and IndexError?\n",
    "ANS: The LookupError class is a built in Python Exception class that is raised when an indexing or key based lookup operation fails. This exception class is a base class for other more specific lookup-related exception classes, such as KeyError and IndexError.\n",
    "1.KeyError:KeyError is raised when trying to access a dictionary key that does not exist.\n",
    "Ex.\n",
    "my_dict={\"apple\":1,\"banana\":2,\"orange\":3}\n",
    "print(my_dict[\"pear\"])\n",
    "Here KeyError is raised.\n",
    "2.IndexError:IndexError is raised when trying to access an index that is out of range of list or tuple\n",
    "Ex. \n",
    "my_list=[1,2,3]\n",
    "print(my_list[3])\n",
    "\n"
   ]
  },
  {
   "attachments": {},
   "cell_type": "markdown",
   "metadata": {},
   "source": [
    "Q6. List down some best practices for exception handling in python.\n",
    "1.Catch only the exceptions you know how to handle\n",
    "2.Use specific exception classes\n",
    "3.Use try except else blocks\n",
    "4.Use finally blocks for cleanup\n",
    "5.Avoid catching KeyboardInterrupt\n",
    "6.Use logging instead of printing\n",
    "7.Keep exception messages clar and concise\n",
    "8.Test your exception handling code \n",
    " "
   ]
  },
  {
   "attachments": {},
   "cell_type": "markdown",
   "metadata": {},
   "source": [
    "Q5. Explain ImportError. What is ModuleNotFoundError?\n",
    "ANS:This error generally occurs when a class cannot be imported due to following reasons: \n",
    "1.The Imported class is in a circular dependency.\n",
    "2.The imported class is unavailable or was not created.\n",
    "3.The imported class name is misspelled.\n",
    "ModuleNotFoundError:The module not found error is a syntax error that appears when the static import statement cannot find the file at the the declared path."
   ]
  }
 ],
 "metadata": {
  "kernelspec": {
   "display_name": "Python 3",
   "language": "python",
   "name": "python3"
  },
  "language_info": {
   "codemirror_mode": {
    "name": "ipython",
    "version": 3
   },
   "file_extension": ".py",
   "mimetype": "text/x-python",
   "name": "python",
   "nbconvert_exporter": "python",
   "pygments_lexer": "ipython3",
   "version": "3.11.2"
  },
  "orig_nbformat": 4
 },
 "nbformat": 4,
 "nbformat_minor": 2
}
