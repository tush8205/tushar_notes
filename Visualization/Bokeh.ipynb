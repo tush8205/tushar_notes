{
 "cells": [
  {
   "cell_type": "code",
   "execution_count": 2,
   "metadata": {},
   "outputs": [
    {
     "name": "stdout",
     "output_type": "stream",
     "text": [
      "Defaulting to user installation because normal site-packages is not writeableNote: you may need to restart the kernel to use updated packages.\n",
      "\n",
      "Collecting bokeh\n",
      "  Downloading bokeh-3.0.3-py3-none-any.whl (16.5 MB)\n",
      "     ---------------------------------------- 0.0/16.5 MB ? eta -:--:--\n",
      "     ---------------------------------------- 0.0/16.5 MB ? eta -:--:--\n",
      "     ---------------------------------------- 0.0/16.5 MB ? eta -:--:--\n",
      "     ---------------------------------------- 0.0/16.5 MB ? eta -:--:--\n",
      "     --------------------------------------- 0.0/16.5 MB 653.6 kB/s eta 0:00:26\n",
      "     --------------------------------------- 0.1/16.5 MB 544.7 kB/s eta 0:00:31\n",
      "     --------------------------------------- 0.1/16.5 MB 525.1 kB/s eta 0:00:32\n",
      "     --------------------------------------- 0.1/16.5 MB 607.9 kB/s eta 0:00:27\n",
      "     --------------------------------------- 0.2/16.5 MB 737.3 kB/s eta 0:00:23\n",
      "      -------------------------------------- 0.3/16.5 MB 827.5 kB/s eta 0:00:20\n",
      "      -------------------------------------- 0.3/16.5 MB 853.3 kB/s eta 0:00:19\n",
      "      -------------------------------------- 0.3/16.5 MB 853.3 kB/s eta 0:00:19\n",
      "      -------------------------------------- 0.3/16.5 MB 776.5 kB/s eta 0:00:21\n",
      "      -------------------------------------- 0.4/16.5 MB 742.3 kB/s eta 0:00:22\n",
      "      -------------------------------------- 0.4/16.5 MB 732.8 kB/s eta 0:00:22\n",
      "     - ------------------------------------- 0.4/16.5 MB 745.7 kB/s eta 0:00:22\n",
      "     - ------------------------------------- 0.5/16.5 MB 721.8 kB/s eta 0:00:23\n",
      "     - ------------------------------------- 0.5/16.5 MB 721.8 kB/s eta 0:00:23\n",
      "     - ------------------------------------- 0.5/16.5 MB 670.0 kB/s eta 0:00:24\n",
      "     - ------------------------------------- 0.5/16.5 MB 628.3 kB/s eta 0:00:26\n",
      "     - ------------------------------------- 0.5/16.5 MB 629.6 kB/s eta 0:00:26\n",
      "     - ------------------------------------- 0.5/16.5 MB 629.6 kB/s eta 0:00:26\n",
      "     - ------------------------------------- 0.5/16.5 MB 576.4 kB/s eta 0:00:28\n",
      "     - ------------------------------------- 0.5/16.5 MB 576.4 kB/s eta 0:00:28\n",
      "     - ------------------------------------- 0.6/16.5 MB 561.4 kB/s eta 0:00:29\n",
      "     - ------------------------------------- 0.6/16.5 MB 557.5 kB/s eta 0:00:29\n",
      "     - ------------------------------------- 0.6/16.5 MB 569.9 kB/s eta 0:00:28\n",
      "     - ------------------------------------- 0.7/16.5 MB 565.4 kB/s eta 0:00:28\n",
      "     - ------------------------------------- 0.7/16.5 MB 565.4 kB/s eta 0:00:28\n",
      "     - ------------------------------------- 0.7/16.5 MB 565.4 kB/s eta 0:00:28\n",
      "     - ------------------------------------- 0.7/16.5 MB 541.9 kB/s eta 0:00:30\n",
      "     - ------------------------------------- 0.7/16.5 MB 530.3 kB/s eta 0:00:30\n",
      "     - ------------------------------------- 0.7/16.5 MB 530.3 kB/s eta 0:00:30\n",
      "     - ------------------------------------- 0.7/16.5 MB 511.3 kB/s eta 0:00:31\n",
      "     - ------------------------------------- 0.8/16.5 MB 514.5 kB/s eta 0:00:31\n",
      "     - ------------------------------------- 0.8/16.5 MB 513.4 kB/s eta 0:00:31\n",
      "     - ------------------------------------- 0.8/16.5 MB 513.4 kB/s eta 0:00:31\n",
      "     - ------------------------------------- 0.8/16.5 MB 513.4 kB/s eta 0:00:31\n",
      "     - ------------------------------------- 0.8/16.5 MB 493.0 kB/s eta 0:00:32\n",
      "     - ------------------------------------- 0.8/16.5 MB 493.0 kB/s eta 0:00:32\n",
      "     -- ------------------------------------ 0.9/16.5 MB 489.9 kB/s eta 0:00:32\n",
      "     -- ------------------------------------ 0.9/16.5 MB 489.9 kB/s eta 0:00:32\n",
      "     -- ------------------------------------ 0.9/16.5 MB 470.5 kB/s eta 0:00:34\n",
      "     -- ------------------------------------ 0.9/16.5 MB 471.1 kB/s eta 0:00:34\n",
      "     -- ------------------------------------ 0.9/16.5 MB 470.3 kB/s eta 0:00:34\n",
      "     -- ------------------------------------ 1.0/16.5 MB 484.9 kB/s eta 0:00:32\n",
      "     -- ------------------------------------ 1.0/16.5 MB 509.2 kB/s eta 0:00:31\n",
      "     -- ------------------------------------ 1.1/16.5 MB 532.2 kB/s eta 0:00:29\n",
      "     -- ------------------------------------ 1.2/16.5 MB 549.3 kB/s eta 0:00:28\n",
      "     -- ------------------------------------ 1.2/16.5 MB 565.7 kB/s eta 0:00:27\n",
      "     --- ----------------------------------- 1.3/16.5 MB 581.0 kB/s eta 0:00:27\n",
      "     --- ----------------------------------- 1.3/16.5 MB 591.6 kB/s eta 0:00:26\n",
      "     --- ----------------------------------- 1.4/16.5 MB 606.3 kB/s eta 0:00:25\n",
      "     --- ----------------------------------- 1.5/16.5 MB 611.8 kB/s eta 0:00:25\n",
      "     --- ----------------------------------- 1.5/16.5 MB 621.5 kB/s eta 0:00:25\n",
      "     --- ----------------------------------- 1.6/16.5 MB 630.4 kB/s eta 0:00:24\n",
      "     --- ----------------------------------- 1.6/16.5 MB 643.1 kB/s eta 0:00:24\n",
      "     ---- ---------------------------------- 1.7/16.5 MB 659.2 kB/s eta 0:00:23\n",
      "     ---- ---------------------------------- 1.8/16.5 MB 670.9 kB/s eta 0:00:22\n",
      "     ---- ---------------------------------- 1.8/16.5 MB 682.4 kB/s eta 0:00:22\n",
      "     ---- ---------------------------------- 1.9/16.5 MB 700.9 kB/s eta 0:00:21\n",
      "     ---- ---------------------------------- 2.0/16.5 MB 707.5 kB/s eta 0:00:21\n",
      "     ---- ---------------------------------- 2.0/16.5 MB 724.9 kB/s eta 0:00:20\n",
      "     ----- --------------------------------- 2.1/16.5 MB 741.7 kB/s eta 0:00:20\n",
      "     ----- --------------------------------- 2.2/16.5 MB 758.0 kB/s eta 0:00:19\n",
      "     ----- --------------------------------- 2.3/16.5 MB 778.0 kB/s eta 0:00:19\n",
      "     ----- --------------------------------- 2.3/16.5 MB 790.6 kB/s eta 0:00:18\n",
      "     ----- --------------------------------- 2.5/16.5 MB 807.4 kB/s eta 0:00:18\n",
      "     ------ -------------------------------- 2.5/16.5 MB 821.7 kB/s eta 0:00:17\n",
      "     ------ -------------------------------- 2.6/16.5 MB 828.1 kB/s eta 0:00:17\n",
      "     ------ -------------------------------- 2.7/16.5 MB 831.2 kB/s eta 0:00:17\n",
      "     ------ -------------------------------- 2.7/16.5 MB 834.0 kB/s eta 0:00:17\n",
      "     ------ -------------------------------- 2.8/16.5 MB 840.0 kB/s eta 0:00:17\n",
      "     ------ -------------------------------- 2.9/16.5 MB 847.2 kB/s eta 0:00:17\n",
      "     ------ -------------------------------- 2.9/16.5 MB 852.8 kB/s eta 0:00:16\n",
      "     ------- ------------------------------- 3.0/16.5 MB 856.0 kB/s eta 0:00:16\n",
      "     ------- ------------------------------- 3.0/16.5 MB 862.1 kB/s eta 0:00:16\n",
      "     ------- ------------------------------- 3.1/16.5 MB 879.4 kB/s eta 0:00:16\n",
      "     ------- ------------------------------- 3.2/16.5 MB 890.7 kB/s eta 0:00:15\n",
      "     ------- ------------------------------- 3.3/16.5 MB 901.9 kB/s eta 0:00:15\n",
      "     -------- ------------------------------ 3.4/16.5 MB 916.3 kB/s eta 0:00:15\n",
      "     -------- ------------------------------ 3.5/16.5 MB 923.0 kB/s eta 0:00:15\n",
      "     -------- ------------------------------ 3.6/16.5 MB 942.6 kB/s eta 0:00:14\n",
      "     -------- ------------------------------ 3.7/16.5 MB 944.8 kB/s eta 0:00:14\n",
      "     -------- ------------------------------ 3.8/16.5 MB 956.9 kB/s eta 0:00:14\n",
      "     --------- ----------------------------- 3.9/16.5 MB 977.9 kB/s eta 0:00:13\n",
      "     --------- ----------------------------- 4.0/16.5 MB 986.8 kB/s eta 0:00:13\n",
      "     --------- ----------------------------- 4.1/16.5 MB 998.0 kB/s eta 0:00:13\n",
      "     ---------- ----------------------------- 4.2/16.5 MB 1.0 MB/s eta 0:00:13\n",
      "     ---------- ----------------------------- 4.4/16.5 MB 1.0 MB/s eta 0:00:12\n",
      "     ---------- ----------------------------- 4.5/16.5 MB 1.1 MB/s eta 0:00:12\n",
      "     ----------- ---------------------------- 4.6/16.5 MB 1.1 MB/s eta 0:00:12\n",
      "     ----------- ---------------------------- 4.6/16.5 MB 1.1 MB/s eta 0:00:12\n",
      "     ----------- ---------------------------- 4.7/16.5 MB 1.1 MB/s eta 0:00:11\n",
      "     ----------- ---------------------------- 4.8/16.5 MB 1.1 MB/s eta 0:00:11\n",
      "     ----------- ---------------------------- 4.9/16.5 MB 1.1 MB/s eta 0:00:11\n",
      "     ------------ --------------------------- 4.9/16.5 MB 1.1 MB/s eta 0:00:11\n",
      "     ------------ --------------------------- 5.0/16.5 MB 1.1 MB/s eta 0:00:11\n",
      "     ------------ --------------------------- 5.1/16.5 MB 1.1 MB/s eta 0:00:11\n",
      "     ------------ --------------------------- 5.2/16.5 MB 1.1 MB/s eta 0:00:11\n",
      "     ------------ --------------------------- 5.3/16.5 MB 1.1 MB/s eta 0:00:11\n",
      "     ------------- -------------------------- 5.4/16.5 MB 1.1 MB/s eta 0:00:10\n",
      "     ------------- -------------------------- 5.5/16.5 MB 1.1 MB/s eta 0:00:10\n",
      "     ------------- -------------------------- 5.6/16.5 MB 1.1 MB/s eta 0:00:10\n",
      "     ------------- -------------------------- 5.7/16.5 MB 1.2 MB/s eta 0:00:10\n",
      "     -------------- ------------------------- 5.8/16.5 MB 1.2 MB/s eta 0:00:10\n",
      "     -------------- ------------------------- 6.0/16.5 MB 1.2 MB/s eta 0:00:09\n",
      "     -------------- ------------------------- 6.1/16.5 MB 1.2 MB/s eta 0:00:09\n",
      "     --------------- ------------------------ 6.2/16.5 MB 1.2 MB/s eta 0:00:09\n",
      "     --------------- ------------------------ 6.4/16.5 MB 1.2 MB/s eta 0:00:09\n",
      "     --------------- ------------------------ 6.5/16.5 MB 1.3 MB/s eta 0:00:08\n",
      "     ---------------- ----------------------- 6.7/16.5 MB 1.3 MB/s eta 0:00:08\n",
      "     ---------------- ----------------------- 6.8/16.5 MB 1.3 MB/s eta 0:00:08\n",
      "     ---------------- ----------------------- 6.9/16.5 MB 1.3 MB/s eta 0:00:08\n",
      "     ----------------- ---------------------- 7.1/16.5 MB 1.3 MB/s eta 0:00:08\n",
      "     ----------------- ---------------------- 7.2/16.5 MB 1.3 MB/s eta 0:00:07\n",
      "     ----------------- ---------------------- 7.4/16.5 MB 1.3 MB/s eta 0:00:07\n",
      "     ------------------ --------------------- 7.6/16.5 MB 1.4 MB/s eta 0:00:07\n",
      "     ------------------ --------------------- 7.7/16.5 MB 1.4 MB/s eta 0:00:07\n",
      "     ------------------- -------------------- 7.9/16.5 MB 1.4 MB/s eta 0:00:07\n",
      "     ------------------- -------------------- 8.0/16.5 MB 1.4 MB/s eta 0:00:06\n",
      "     ------------------- -------------------- 8.1/16.5 MB 1.4 MB/s eta 0:00:06\n",
      "     -------------------- ------------------- 8.2/16.5 MB 1.4 MB/s eta 0:00:06\n",
      "     -------------------- ------------------- 8.3/16.5 MB 1.4 MB/s eta 0:00:06\n",
      "     -------------------- ------------------- 8.5/16.5 MB 1.4 MB/s eta 0:00:06\n",
      "     -------------------- ------------------- 8.6/16.5 MB 1.5 MB/s eta 0:00:06\n",
      "     --------------------- ------------------ 8.7/16.5 MB 1.5 MB/s eta 0:00:06\n",
      "     --------------------- ------------------ 8.9/16.5 MB 1.5 MB/s eta 0:00:06\n",
      "     --------------------- ------------------ 9.0/16.5 MB 1.5 MB/s eta 0:00:05\n",
      "     ---------------------- ----------------- 9.2/16.5 MB 1.5 MB/s eta 0:00:05\n",
      "     ---------------------- ----------------- 9.3/16.5 MB 1.5 MB/s eta 0:00:05\n",
      "     ----------------------- ---------------- 9.5/16.5 MB 1.5 MB/s eta 0:00:05\n",
      "     ----------------------- ---------------- 9.7/16.5 MB 1.6 MB/s eta 0:00:05\n",
      "     ----------------------- ---------------- 9.8/16.5 MB 1.6 MB/s eta 0:00:05\n",
      "     ------------------------ --------------- 10.0/16.5 MB 1.6 MB/s eta 0:00:05\n",
      "     ------------------------ --------------- 10.1/16.5 MB 1.6 MB/s eta 0:00:04\n",
      "     ------------------------- -------------- 10.3/16.5 MB 1.6 MB/s eta 0:00:04\n",
      "     ------------------------- -------------- 10.5/16.5 MB 1.7 MB/s eta 0:00:04\n",
      "     ------------------------- -------------- 10.6/16.5 MB 1.7 MB/s eta 0:00:04\n",
      "     -------------------------- ------------- 10.8/16.5 MB 1.8 MB/s eta 0:00:04\n",
      "     -------------------------- ------------- 10.9/16.5 MB 1.9 MB/s eta 0:00:03\n",
      "     -------------------------- ------------- 11.0/16.5 MB 2.1 MB/s eta 0:00:03\n",
      "     --------------------------- ------------ 11.2/16.5 MB 2.2 MB/s eta 0:00:03\n",
      "     --------------------------- ------------ 11.4/16.5 MB 2.2 MB/s eta 0:00:03\n",
      "     ---------------------------- ----------- 11.5/16.5 MB 2.2 MB/s eta 0:00:03\n",
      "     ---------------------------- ----------- 11.7/16.5 MB 2.3 MB/s eta 0:00:03\n",
      "     ---------------------------- ----------- 11.8/16.5 MB 2.3 MB/s eta 0:00:02\n",
      "     ----------------------------- ---------- 12.0/16.5 MB 2.4 MB/s eta 0:00:02\n",
      "     ----------------------------- ---------- 12.2/16.5 MB 2.4 MB/s eta 0:00:02\n",
      "     ------------------------------ --------- 12.3/16.5 MB 2.5 MB/s eta 0:00:02\n",
      "     ------------------------------ --------- 12.5/16.5 MB 2.5 MB/s eta 0:00:02\n",
      "     ------------------------------ --------- 12.7/16.5 MB 2.5 MB/s eta 0:00:02\n",
      "     ------------------------------- -------- 12.9/16.5 MB 2.6 MB/s eta 0:00:02\n",
      "     ------------------------------- -------- 13.1/16.5 MB 2.7 MB/s eta 0:00:02\n",
      "     -------------------------------- ------- 13.3/16.5 MB 2.8 MB/s eta 0:00:02\n",
      "     -------------------------------- ------- 13.5/16.5 MB 2.8 MB/s eta 0:00:02\n",
      "     --------------------------------- ------ 13.6/16.5 MB 2.8 MB/s eta 0:00:01\n",
      "     --------------------------------- ------ 13.8/16.5 MB 2.9 MB/s eta 0:00:01\n",
      "     ---------------------------------- ----- 14.0/16.5 MB 2.9 MB/s eta 0:00:01\n",
      "     ---------------------------------- ----- 14.2/16.5 MB 3.0 MB/s eta 0:00:01\n",
      "     ----------------------------------- ---- 14.4/16.5 MB 3.1 MB/s eta 0:00:01\n",
      "     ----------------------------------- ---- 14.6/16.5 MB 3.1 MB/s eta 0:00:01\n",
      "     ------------------------------------ --- 14.8/16.5 MB 3.1 MB/s eta 0:00:01\n",
      "     ------------------------------------ --- 15.0/16.5 MB 3.2 MB/s eta 0:00:01\n",
      "     ------------------------------------ --- 15.1/16.5 MB 3.2 MB/s eta 0:00:01\n",
      "     ------------------------------------ --- 15.1/16.5 MB 3.2 MB/s eta 0:00:01\n",
      "     ------------------------------------- -- 15.2/16.5 MB 3.2 MB/s eta 0:00:01\n",
      "     ------------------------------------- -- 15.5/16.5 MB 3.3 MB/s eta 0:00:01\n",
      "     ------------------------------------- -- 15.6/16.5 MB 3.3 MB/s eta 0:00:01\n",
      "     -------------------------------------- - 15.7/16.5 MB 3.3 MB/s eta 0:00:01\n",
      "     -------------------------------------- - 15.9/16.5 MB 3.4 MB/s eta 0:00:01\n",
      "     -------------------------------------- - 16.0/16.5 MB 3.4 MB/s eta 0:00:01\n",
      "     ---------------------------------------  16.2/16.5 MB 3.4 MB/s eta 0:00:01\n",
      "     ---------------------------------------  16.4/16.5 MB 3.4 MB/s eta 0:00:01\n",
      "     ---------------------------------------  16.4/16.5 MB 3.4 MB/s eta 0:00:01\n",
      "     ---------------------------------------  16.4/16.5 MB 3.4 MB/s eta 0:00:01\n",
      "     ---------------------------------------- 16.5/16.5 MB 3.3 MB/s eta 0:00:00\n",
      "Requirement already satisfied: Jinja2>=2.9 in c:\\users\\tushar.ahire01\\appdata\\roaming\\python\\python311\\site-packages (from bokeh) (3.1.2)\n",
      "Requirement already satisfied: contourpy>=1 in c:\\users\\tushar.ahire01\\appdata\\roaming\\python\\python311\\site-packages (from bokeh) (1.0.7)\n",
      "Requirement already satisfied: numpy>=1.11.3 in c:\\users\\tushar.ahire01\\appdata\\roaming\\python\\python311\\site-packages (from bokeh) (1.24.2)\n",
      "Requirement already satisfied: packaging>=16.8 in c:\\users\\tushar.ahire01\\appdata\\roaming\\python\\python311\\site-packages (from bokeh) (22.0)\n",
      "Requirement already satisfied: pandas>=1.2 in c:\\users\\tushar.ahire01\\appdata\\roaming\\python\\python311\\site-packages (from bokeh) (1.5.3)\n",
      "Requirement already satisfied: pillow>=7.1.0 in c:\\users\\tushar.ahire01\\appdata\\roaming\\python\\python311\\site-packages (from bokeh) (9.4.0)\n",
      "Collecting PyYAML>=3.10\n",
      "  Downloading PyYAML-6.0-cp311-cp311-win_amd64.whl (143 kB)\n",
      "     ---------------------------------------- 0.0/143.2 kB ? eta -:--:--\n",
      "     ----------------------------------- -- 133.1/143.2 kB 8.2 MB/s eta 0:00:01\n",
      "     -------------------------------------- 143.2/143.2 kB 2.9 MB/s eta 0:00:00\n",
      "Requirement already satisfied: tornado>=5.1 in c:\\users\\tushar.ahire01\\appdata\\roaming\\python\\python311\\site-packages (from bokeh) (6.2)\n",
      "Collecting xyzservices>=2021.09.1\n",
      "  Downloading xyzservices-2023.2.0-py3-none-any.whl (55 kB)\n",
      "     ---------------------------------------- 0.0/55.4 kB ? eta -:--:--\n",
      "     ---------------------------------------- 55.4/55.4 kB 2.8 MB/s eta 0:00:00\n",
      "Requirement already satisfied: MarkupSafe>=2.0 in c:\\users\\tushar.ahire01\\appdata\\roaming\\python\\python311\\site-packages (from Jinja2>=2.9->bokeh) (2.1.2)\n",
      "Requirement already satisfied: python-dateutil>=2.8.1 in c:\\users\\tushar.ahire01\\appdata\\roaming\\python\\python311\\site-packages (from pandas>=1.2->bokeh) (2.8.2)\n",
      "Requirement already satisfied: pytz>=2020.1 in c:\\users\\tushar.ahire01\\appdata\\roaming\\python\\python311\\site-packages (from pandas>=1.2->bokeh) (2022.7.1)\n",
      "Requirement already satisfied: six>=1.5 in c:\\users\\tushar.ahire01\\appdata\\roaming\\python\\python311\\site-packages (from python-dateutil>=2.8.1->pandas>=1.2->bokeh) (1.16.0)\n",
      "Installing collected packages: xyzservices, PyYAML, bokeh\n",
      "Successfully installed PyYAML-6.0 bokeh-3.0.3 xyzservices-2023.2.0\n"
     ]
    }
   ],
   "source": [
    "pip install bokeh"
   ]
  },
  {
   "cell_type": "code",
   "execution_count": 3,
   "metadata": {},
   "outputs": [
    {
     "data": {
      "text/html": [
       "<style>\n",
       "        .bk-notebook-logo {\n",
       "            display: block;\n",
       "            width: 20px;\n",
       "            height: 20px;\n",
       "            background-image: url(data:image/png;base64,iVBORw0KGgoAAAANSUhEUgAAABQAAAAUCAYAAACNiR0NAAAABHNCSVQICAgIfAhkiAAAAAlwSFlzAAALEgAACxIB0t1+/AAAABx0RVh0U29mdHdhcmUAQWRvYmUgRmlyZXdvcmtzIENTNui8sowAAAOkSURBVDiNjZRtaJVlGMd/1/08zzln5zjP1LWcU9N0NkN8m2CYjpgQYQXqSs0I84OLIC0hkEKoPtiH3gmKoiJDU7QpLgoLjLIQCpEsNJ1vqUOdO7ppbuec5+V+rj4ctwzd8IIbbi6u+8f1539dt3A78eXC7QizUF7gyV1fD1Yqg4JWz84yffhm0qkFqBogB9rM8tZdtwVsPUhWhGcFJngGeWrPzHm5oaMmkfEg1usvLFyc8jLRqDOMru7AyC8saQr7GG7f5fvDeH7Ej8CM66nIF+8yngt6HWaKh7k49Soy9nXurCi1o3qUbS3zWfrYeQDTB/Qj6kX6Ybhw4B+bOYoLKCC9H3Nu/leUTZ1JdRWkkn2ldcCamzrcf47KKXdAJllSlxAOkRgyHsGC/zRday5Qld9DyoM4/q/rUoy/CXh3jzOu3bHUVZeU+DEn8FInkPBFlu3+nW3Nw0mk6vCDiWg8CeJaxEwuHS3+z5RgY+YBR6V1Z1nxSOfoaPa4LASWxxdNp+VWTk7+4vzaou8v8PN+xo+KY2xsw6une2frhw05CTYOmQvsEhjhWjn0bmXPjpE1+kplmmkP3suftwTubK9Vq22qKmrBhpY4jvd5afdRA3wGjFAgcnTK2s4hY0/GPNIb0nErGMCRxWOOX64Z8RAC4oCXdklmEvcL8o0BfkNK4lUg9HTl+oPlQxdNo3Mg4Nv175e/1LDGzZen30MEjRUtmXSfiTVu1kK8W4txyV6BMKlbgk3lMwYCiusNy9fVfvvwMxv8Ynl6vxoByANLTWplvuj/nF9m2+PDtt1eiHPBr1oIfhCChQMBw6Aw0UulqTKZdfVvfG7VcfIqLG9bcldL/+pdWTLxLUy8Qq38heUIjh4XlzZxzQm19lLFlr8vdQ97rjZVOLf8nclzckbcD4wxXMidpX30sFd37Fv/GtwwhzhxGVAprjbg0gCAEeIgwCZyTV2Z1REEW8O4py0wsjeloKoMr6iCY6dP92H6Vw/oTyICIthibxjm/DfN9lVz8IqtqKYLUXfoKVMVQVVJOElGjrnnUt9T9wbgp8AyYKaGlqingHZU/uG2NTZSVqwHQTWkx9hxjkpWDaCg6Ckj5qebgBVbT3V3NNXMSiWSDdGV3hrtzla7J+duwPOToIg42ChPQOQjspnSlp1V+Gjdged7+8UN5CRAV7a5EdFNwCjEaBR27b3W890TE7g24NAP/mMDXRWrGoFPQI9ls/MWO2dWFAar/xcOIImbbpA3zgAAAABJRU5ErkJggg==);\n",
       "        }\n",
       "    </style>\n",
       "    <div>\n",
       "        <a href=\"https://bokeh.org\" target=\"_blank\" class=\"bk-notebook-logo\"></a>\n",
       "        <span id=\"p1001\">Loading BokehJS ...</span>\n",
       "    </div>\n"
      ]
     },
     "metadata": {},
     "output_type": "display_data"
    },
    {
     "data": {
      "application/javascript": "(function(root) {\n  function now() {\n    return new Date();\n  }\n\n  const force = true;\n\n  if (typeof root._bokeh_onload_callbacks === \"undefined\" || force === true) {\n    root._bokeh_onload_callbacks = [];\n    root._bokeh_is_loading = undefined;\n  }\n\nconst JS_MIME_TYPE = 'application/javascript';\n  const HTML_MIME_TYPE = 'text/html';\n  const EXEC_MIME_TYPE = 'application/vnd.bokehjs_exec.v0+json';\n  const CLASS_NAME = 'output_bokeh rendered_html';\n\n  /**\n   * Render data to the DOM node\n   */\n  function render(props, node) {\n    const script = document.createElement(\"script\");\n    node.appendChild(script);\n  }\n\n  /**\n   * Handle when an output is cleared or removed\n   */\n  function handleClearOutput(event, handle) {\n    const cell = handle.cell;\n\n    const id = cell.output_area._bokeh_element_id;\n    const server_id = cell.output_area._bokeh_server_id;\n    // Clean up Bokeh references\n    if (id != null && id in Bokeh.index) {\n      Bokeh.index[id].model.document.clear();\n      delete Bokeh.index[id];\n    }\n\n    if (server_id !== undefined) {\n      // Clean up Bokeh references\n      const cmd_clean = \"from bokeh.io.state import curstate; print(curstate().uuid_to_server['\" + server_id + \"'].get_sessions()[0].document.roots[0]._id)\";\n      cell.notebook.kernel.execute(cmd_clean, {\n        iopub: {\n          output: function(msg) {\n            const id = msg.content.text.trim();\n            if (id in Bokeh.index) {\n              Bokeh.index[id].model.document.clear();\n              delete Bokeh.index[id];\n            }\n          }\n        }\n      });\n      // Destroy server and session\n      const cmd_destroy = \"import bokeh.io.notebook as ion; ion.destroy_server('\" + server_id + \"')\";\n      cell.notebook.kernel.execute(cmd_destroy);\n    }\n  }\n\n  /**\n   * Handle when a new output is added\n   */\n  function handleAddOutput(event, handle) {\n    const output_area = handle.output_area;\n    const output = handle.output;\n\n    // limit handleAddOutput to display_data with EXEC_MIME_TYPE content only\n    if ((output.output_type != \"display_data\") || (!Object.prototype.hasOwnProperty.call(output.data, EXEC_MIME_TYPE))) {\n      return\n    }\n\n    const toinsert = output_area.element.find(\".\" + CLASS_NAME.split(' ')[0]);\n\n    if (output.metadata[EXEC_MIME_TYPE][\"id\"] !== undefined) {\n      toinsert[toinsert.length - 1].firstChild.textContent = output.data[JS_MIME_TYPE];\n      // store reference to embed id on output_area\n      output_area._bokeh_element_id = output.metadata[EXEC_MIME_TYPE][\"id\"];\n    }\n    if (output.metadata[EXEC_MIME_TYPE][\"server_id\"] !== undefined) {\n      const bk_div = document.createElement(\"div\");\n      bk_div.innerHTML = output.data[HTML_MIME_TYPE];\n      const script_attrs = bk_div.children[0].attributes;\n      for (let i = 0; i < script_attrs.length; i++) {\n        toinsert[toinsert.length - 1].firstChild.setAttribute(script_attrs[i].name, script_attrs[i].value);\n        toinsert[toinsert.length - 1].firstChild.textContent = bk_div.children[0].textContent\n      }\n      // store reference to server id on output_area\n      output_area._bokeh_server_id = output.metadata[EXEC_MIME_TYPE][\"server_id\"];\n    }\n  }\n\n  function register_renderer(events, OutputArea) {\n\n    function append_mime(data, metadata, element) {\n      // create a DOM node to render to\n      const toinsert = this.create_output_subarea(\n        metadata,\n        CLASS_NAME,\n        EXEC_MIME_TYPE\n      );\n      this.keyboard_manager.register_events(toinsert);\n      // Render to node\n      const props = {data: data, metadata: metadata[EXEC_MIME_TYPE]};\n      render(props, toinsert[toinsert.length - 1]);\n      element.append(toinsert);\n      return toinsert\n    }\n\n    /* Handle when an output is cleared or removed */\n    events.on('clear_output.CodeCell', handleClearOutput);\n    events.on('delete.Cell', handleClearOutput);\n\n    /* Handle when a new output is added */\n    events.on('output_added.OutputArea', handleAddOutput);\n\n    /**\n     * Register the mime type and append_mime function with output_area\n     */\n    OutputArea.prototype.register_mime_type(EXEC_MIME_TYPE, append_mime, {\n      /* Is output safe? */\n      safe: true,\n      /* Index of renderer in `output_area.display_order` */\n      index: 0\n    });\n  }\n\n  // register the mime type if in Jupyter Notebook environment and previously unregistered\n  if (root.Jupyter !== undefined) {\n    const events = require('base/js/events');\n    const OutputArea = require('notebook/js/outputarea').OutputArea;\n\n    if (OutputArea.prototype.mime_types().indexOf(EXEC_MIME_TYPE) == -1) {\n      register_renderer(events, OutputArea);\n    }\n  }\n  if (typeof (root._bokeh_timeout) === \"undefined\" || force === true) {\n    root._bokeh_timeout = Date.now() + 5000;\n    root._bokeh_failed_load = false;\n  }\n\n  const NB_LOAD_WARNING = {'data': {'text/html':\n     \"<div style='background-color: #fdd'>\\n\"+\n     \"<p>\\n\"+\n     \"BokehJS does not appear to have successfully loaded. If loading BokehJS from CDN, this \\n\"+\n     \"may be due to a slow or bad network connection. Possible fixes:\\n\"+\n     \"</p>\\n\"+\n     \"<ul>\\n\"+\n     \"<li>re-rerun `output_notebook()` to attempt to load from CDN again, or</li>\\n\"+\n     \"<li>use INLINE resources instead, as so:</li>\\n\"+\n     \"</ul>\\n\"+\n     \"<code>\\n\"+\n     \"from bokeh.resources import INLINE\\n\"+\n     \"output_notebook(resources=INLINE)\\n\"+\n     \"</code>\\n\"+\n     \"</div>\"}};\n\n  function display_loaded() {\n    const el = document.getElementById(\"p1001\");\n    if (el != null) {\n      el.textContent = \"BokehJS is loading...\";\n    }\n    if (root.Bokeh !== undefined) {\n      if (el != null) {\n        el.textContent = \"BokehJS \" + root.Bokeh.version + \" successfully loaded.\";\n      }\n    } else if (Date.now() < root._bokeh_timeout) {\n      setTimeout(display_loaded, 100)\n    }\n  }\n\n  function run_callbacks() {\n    try {\n      root._bokeh_onload_callbacks.forEach(function(callback) {\n        if (callback != null)\n          callback();\n      });\n    } finally {\n      delete root._bokeh_onload_callbacks\n    }\n    console.debug(\"Bokeh: all callbacks have finished\");\n  }\n\n  function load_libs(css_urls, js_urls, callback) {\n    if (css_urls == null) css_urls = [];\n    if (js_urls == null) js_urls = [];\n\n    root._bokeh_onload_callbacks.push(callback);\n    if (root._bokeh_is_loading > 0) {\n      console.debug(\"Bokeh: BokehJS is being loaded, scheduling callback at\", now());\n      return null;\n    }\n    if (js_urls == null || js_urls.length === 0) {\n      run_callbacks();\n      return null;\n    }\n    console.debug(\"Bokeh: BokehJS not loaded, scheduling load and callback at\", now());\n    root._bokeh_is_loading = css_urls.length + js_urls.length;\n\n    function on_load() {\n      root._bokeh_is_loading--;\n      if (root._bokeh_is_loading === 0) {\n        console.debug(\"Bokeh: all BokehJS libraries/stylesheets loaded\");\n        run_callbacks()\n      }\n    }\n\n    function on_error(url) {\n      console.error(\"failed to load \" + url);\n    }\n\n    for (let i = 0; i < css_urls.length; i++) {\n      const url = css_urls[i];\n      const element = document.createElement(\"link\");\n      element.onload = on_load;\n      element.onerror = on_error.bind(null, url);\n      element.rel = \"stylesheet\";\n      element.type = \"text/css\";\n      element.href = url;\n      console.debug(\"Bokeh: injecting link tag for BokehJS stylesheet: \", url);\n      document.body.appendChild(element);\n    }\n\n    for (let i = 0; i < js_urls.length; i++) {\n      const url = js_urls[i];\n      const element = document.createElement('script');\n      element.onload = on_load;\n      element.onerror = on_error.bind(null, url);\n      element.async = false;\n      element.src = url;\n      console.debug(\"Bokeh: injecting script tag for BokehJS library: \", url);\n      document.head.appendChild(element);\n    }\n  };\n\n  function inject_raw_css(css) {\n    const element = document.createElement(\"style\");\n    element.appendChild(document.createTextNode(css));\n    document.body.appendChild(element);\n  }\n\n  const js_urls = [\"https://cdn.bokeh.org/bokeh/release/bokeh-3.0.3.min.js\", \"https://cdn.bokeh.org/bokeh/release/bokeh-gl-3.0.3.min.js\", \"https://cdn.bokeh.org/bokeh/release/bokeh-widgets-3.0.3.min.js\", \"https://cdn.bokeh.org/bokeh/release/bokeh-tables-3.0.3.min.js\", \"https://cdn.bokeh.org/bokeh/release/bokeh-mathjax-3.0.3.min.js\"];\n  const css_urls = [];\n\n  const inline_js = [    function(Bokeh) {\n      Bokeh.set_log_level(\"info\");\n    },\nfunction(Bokeh) {\n    }\n  ];\n\n  function run_inline_js() {\n    if (root.Bokeh !== undefined || force === true) {\n          for (let i = 0; i < inline_js.length; i++) {\n      inline_js[i].call(root, root.Bokeh);\n    }\nif (force === true) {\n        display_loaded();\n      }} else if (Date.now() < root._bokeh_timeout) {\n      setTimeout(run_inline_js, 100);\n    } else if (!root._bokeh_failed_load) {\n      console.log(\"Bokeh: BokehJS failed to load within specified timeout.\");\n      root._bokeh_failed_load = true;\n    } else if (force !== true) {\n      const cell = $(document.getElementById(\"p1001\")).parents('.cell').data().cell;\n      cell.output_area.append_execute_result(NB_LOAD_WARNING)\n    }\n  }\n\n  if (root._bokeh_is_loading === 0) {\n    console.debug(\"Bokeh: BokehJS loaded, going straight to plotting\");\n    run_inline_js();\n  } else {\n    load_libs(css_urls, js_urls, function() {\n      console.debug(\"Bokeh: BokehJS plotting callback run at\", now());\n      run_inline_js();\n    });\n  }\n}(window));",
      "application/vnd.bokehjs_load.v0+json": ""
     },
     "metadata": {},
     "output_type": "display_data"
    }
   ],
   "source": [
    "import bokeh.io\n",
    "import bokeh.plotting\n",
    "bokeh.io.output_notebook()"
   ]
  },
  {
   "cell_type": "code",
   "execution_count": 20,
   "metadata": {},
   "outputs": [],
   "source": [
    "from bokeh.plotting import figure,output_file,show\n",
    "from bokeh.sampledata.iris import flowers\n"
   ]
  },
  {
   "cell_type": "code",
   "execution_count": 19,
   "metadata": {},
   "outputs": [
    {
     "ename": "AttributeError",
     "evalue": "unexpected attribute 'axis_lable' to LinearAxis, similar attributes are axis_label, axis_label_standoff or axis_line_cap",
     "output_type": "error",
     "traceback": [
      "\u001b[1;31m---------------------------------------------------------------------------\u001b[0m",
      "\u001b[1;31mAttributeError\u001b[0m                            Traceback (most recent call last)",
      "Cell \u001b[1;32mIn[19], line 4\u001b[0m\n\u001b[0;32m      2\u001b[0m p\u001b[39m=\u001b[39mfigure(title\u001b[39m=\u001b[39m\u001b[39m'\u001b[39m\u001b[39mtest flower\u001b[39m\u001b[39m'\u001b[39m)\n\u001b[0;32m      3\u001b[0m p\u001b[39m.\u001b[39mxaxis\u001b[39m.\u001b[39maxis_label\u001b[39m=\u001b[39m\u001b[39m'\u001b[39m\u001b[39mpetal length\u001b[39m\u001b[39m'\u001b[39m\n\u001b[1;32m----> 4\u001b[0m p\u001b[39m.\u001b[39;49myaxis\u001b[39m.\u001b[39;49maxis_lable\u001b[39m=\u001b[39m\u001b[39m'\u001b[39m\u001b[39mpetal width\u001b[39m\u001b[39m'\u001b[39m\n\u001b[0;32m      5\u001b[0m p\u001b[39m.\u001b[39mcircle(flowers[\u001b[39m'\u001b[39m\u001b[39mpetal_length\u001b[39m\u001b[39m'\u001b[39m],flowers[\u001b[39m'\u001b[39m\u001b[39mpetal_width\u001b[39m\u001b[39m'\u001b[39m])\n\u001b[0;32m      6\u001b[0m show(p)\n",
      "File \u001b[1;32m~\\AppData\\Roaming\\Python\\Python311\\site-packages\\bokeh\\models\\plots.py:926\u001b[0m, in \u001b[0;36m_list_attr_splat.__setattr__\u001b[1;34m(self, attr, value)\u001b[0m\n\u001b[0;32m    924\u001b[0m \u001b[39mdef\u001b[39;00m \u001b[39m__setattr__\u001b[39m(\u001b[39mself\u001b[39m, attr, value):\n\u001b[0;32m    925\u001b[0m     \u001b[39mfor\u001b[39;00m x \u001b[39min\u001b[39;00m \u001b[39mself\u001b[39m:\n\u001b[1;32m--> 926\u001b[0m         \u001b[39msetattr\u001b[39m(x, attr, value)\n",
      "File \u001b[1;32m~\\AppData\\Roaming\\Python\\Python311\\site-packages\\bokeh\\core\\has_props.py:333\u001b[0m, in \u001b[0;36mHasProps.__setattr__\u001b[1;34m(self, name, value)\u001b[0m\n\u001b[0;32m    330\u001b[0m \u001b[39mif\u001b[39;00m \u001b[39misinstance\u001b[39m(descriptor, \u001b[39mproperty\u001b[39m): \u001b[39m# Python property\u001b[39;00m\n\u001b[0;32m    331\u001b[0m     \u001b[39mreturn\u001b[39;00m \u001b[39msuper\u001b[39m()\u001b[39m.\u001b[39m\u001b[39m__setattr__\u001b[39m(name, value)\n\u001b[1;32m--> 333\u001b[0m \u001b[39mself\u001b[39;49m\u001b[39m.\u001b[39;49m_raise_attribute_error_with_matches(name, properties)\n",
      "File \u001b[1;32m~\\AppData\\Roaming\\Python\\Python311\\site-packages\\bokeh\\core\\has_props.py:368\u001b[0m, in \u001b[0;36mHasProps._raise_attribute_error_with_matches\u001b[1;34m(self, name, properties)\u001b[0m\n\u001b[0;32m    365\u001b[0m \u001b[39mif\u001b[39;00m \u001b[39mnot\u001b[39;00m matches:\n\u001b[0;32m    366\u001b[0m     matches, text \u001b[39m=\u001b[39m \u001b[39msorted\u001b[39m(properties), \u001b[39m\"\u001b[39m\u001b[39mpossible\u001b[39m\u001b[39m\"\u001b[39m\n\u001b[1;32m--> 368\u001b[0m \u001b[39mraise\u001b[39;00m \u001b[39mAttributeError\u001b[39;00m(\u001b[39mf\u001b[39m\u001b[39m\"\u001b[39m\u001b[39munexpected attribute \u001b[39m\u001b[39m{\u001b[39;00mname\u001b[39m!r}\u001b[39;00m\u001b[39m to \u001b[39m\u001b[39m{\u001b[39;00m\u001b[39mself\u001b[39m\u001b[39m.\u001b[39m\u001b[39m__class__\u001b[39m\u001b[39m.\u001b[39m\u001b[39m__name__\u001b[39m\u001b[39m}\u001b[39;00m\u001b[39m, \u001b[39m\u001b[39m{\u001b[39;00mtext\u001b[39m}\u001b[39;00m\u001b[39m attributes are \u001b[39m\u001b[39m{\u001b[39;00mnice_join(matches)\u001b[39m}\u001b[39;00m\u001b[39m\"\u001b[39m)\n",
      "\u001b[1;31mAttributeError\u001b[0m: unexpected attribute 'axis_lable' to LinearAxis, similar attributes are axis_label, axis_label_standoff or axis_line_cap"
     ]
    }
   ],
   "source": [
    "output_file('test.html')\n",
    "p=figure(title='test flower')\n",
    "p.xaxis.axis_label='petal length'\n",
    "p.yaxis.axis_lable='petal width'\n",
    "p.circle(flowers['petal_length'],flowers['petal_width'])\n",
    "show(p)"
   ]
  },
  {
   "cell_type": "code",
   "execution_count": 10,
   "metadata": {},
   "outputs": [
    {
     "data": {
      "text/html": [
       "<div>\n",
       "<style scoped>\n",
       "    .dataframe tbody tr th:only-of-type {\n",
       "        vertical-align: middle;\n",
       "    }\n",
       "\n",
       "    .dataframe tbody tr th {\n",
       "        vertical-align: top;\n",
       "    }\n",
       "\n",
       "    .dataframe thead th {\n",
       "        text-align: right;\n",
       "    }\n",
       "</style>\n",
       "<table border=\"1\" class=\"dataframe\">\n",
       "  <thead>\n",
       "    <tr style=\"text-align: right;\">\n",
       "      <th></th>\n",
       "      <th>sepal_length</th>\n",
       "      <th>sepal_width</th>\n",
       "      <th>petal_length</th>\n",
       "      <th>petal_width</th>\n",
       "      <th>species</th>\n",
       "    </tr>\n",
       "  </thead>\n",
       "  <tbody>\n",
       "    <tr>\n",
       "      <th>0</th>\n",
       "      <td>5.1</td>\n",
       "      <td>3.5</td>\n",
       "      <td>1.4</td>\n",
       "      <td>0.2</td>\n",
       "      <td>setosa</td>\n",
       "    </tr>\n",
       "    <tr>\n",
       "      <th>1</th>\n",
       "      <td>4.9</td>\n",
       "      <td>3.0</td>\n",
       "      <td>1.4</td>\n",
       "      <td>0.2</td>\n",
       "      <td>setosa</td>\n",
       "    </tr>\n",
       "    <tr>\n",
       "      <th>2</th>\n",
       "      <td>4.7</td>\n",
       "      <td>3.2</td>\n",
       "      <td>1.3</td>\n",
       "      <td>0.2</td>\n",
       "      <td>setosa</td>\n",
       "    </tr>\n",
       "    <tr>\n",
       "      <th>3</th>\n",
       "      <td>4.6</td>\n",
       "      <td>3.1</td>\n",
       "      <td>1.5</td>\n",
       "      <td>0.2</td>\n",
       "      <td>setosa</td>\n",
       "    </tr>\n",
       "    <tr>\n",
       "      <th>4</th>\n",
       "      <td>5.0</td>\n",
       "      <td>3.6</td>\n",
       "      <td>1.4</td>\n",
       "      <td>0.2</td>\n",
       "      <td>setosa</td>\n",
       "    </tr>\n",
       "    <tr>\n",
       "      <th>...</th>\n",
       "      <td>...</td>\n",
       "      <td>...</td>\n",
       "      <td>...</td>\n",
       "      <td>...</td>\n",
       "      <td>...</td>\n",
       "    </tr>\n",
       "    <tr>\n",
       "      <th>145</th>\n",
       "      <td>6.7</td>\n",
       "      <td>3.0</td>\n",
       "      <td>5.2</td>\n",
       "      <td>2.3</td>\n",
       "      <td>virginica</td>\n",
       "    </tr>\n",
       "    <tr>\n",
       "      <th>146</th>\n",
       "      <td>6.3</td>\n",
       "      <td>2.5</td>\n",
       "      <td>5.0</td>\n",
       "      <td>1.9</td>\n",
       "      <td>virginica</td>\n",
       "    </tr>\n",
       "    <tr>\n",
       "      <th>147</th>\n",
       "      <td>6.5</td>\n",
       "      <td>3.0</td>\n",
       "      <td>5.2</td>\n",
       "      <td>2.0</td>\n",
       "      <td>virginica</td>\n",
       "    </tr>\n",
       "    <tr>\n",
       "      <th>148</th>\n",
       "      <td>6.2</td>\n",
       "      <td>3.4</td>\n",
       "      <td>5.4</td>\n",
       "      <td>2.3</td>\n",
       "      <td>virginica</td>\n",
       "    </tr>\n",
       "    <tr>\n",
       "      <th>149</th>\n",
       "      <td>5.9</td>\n",
       "      <td>3.0</td>\n",
       "      <td>5.1</td>\n",
       "      <td>1.8</td>\n",
       "      <td>virginica</td>\n",
       "    </tr>\n",
       "  </tbody>\n",
       "</table>\n",
       "<p>150 rows × 5 columns</p>\n",
       "</div>"
      ],
      "text/plain": [
       "     sepal_length  sepal_width  petal_length  petal_width    species\n",
       "0             5.1          3.5           1.4          0.2     setosa\n",
       "1             4.9          3.0           1.4          0.2     setosa\n",
       "2             4.7          3.2           1.3          0.2     setosa\n",
       "3             4.6          3.1           1.5          0.2     setosa\n",
       "4             5.0          3.6           1.4          0.2     setosa\n",
       "..            ...          ...           ...          ...        ...\n",
       "145           6.7          3.0           5.2          2.3  virginica\n",
       "146           6.3          2.5           5.0          1.9  virginica\n",
       "147           6.5          3.0           5.2          2.0  virginica\n",
       "148           6.2          3.4           5.4          2.3  virginica\n",
       "149           5.9          3.0           5.1          1.8  virginica\n",
       "\n",
       "[150 rows x 5 columns]"
      ]
     },
     "execution_count": 10,
     "metadata": {},
     "output_type": "execute_result"
    }
   ],
   "source": [
    "flowers"
   ]
  },
  {
   "cell_type": "code",
   "execution_count": 14,
   "metadata": {},
   "outputs": [
    {
     "name": "stderr",
     "output_type": "stream",
     "text": [
      "BokehUserWarning: ColumnDataSource's columns must be of the same length. Current lengths: ('x', 6), ('y', 5)\n"
     ]
    },
    {
     "data": {
      "text/html": [
       "\n",
       "  <div id=\"58517859-0038-4059-a00a-00692545a3c0\" data-root-id=\"p1378\" style=\"display: contents;\"></div>\n"
      ]
     },
     "metadata": {},
     "output_type": "display_data"
    },
    {
     "data": {
      "application/javascript": "(function(root) {\n  function embed_document(root) {\n  const docs_json = {\"65be59cf-e11f-431a-9137-eff13a4797d1\":{\"version\":\"3.0.3\",\"title\":\"Bokeh Application\",\"defs\":[],\"roots\":[{\"type\":\"object\",\"name\":\"Figure\",\"id\":\"p1378\",\"attributes\":{\"x_range\":{\"type\":\"object\",\"name\":\"DataRange1d\",\"id\":\"p1380\"},\"y_range\":{\"type\":\"object\",\"name\":\"DataRange1d\",\"id\":\"p1379\"},\"x_scale\":{\"type\":\"object\",\"name\":\"LinearScale\",\"id\":\"p1392\"},\"y_scale\":{\"type\":\"object\",\"name\":\"LinearScale\",\"id\":\"p1394\"},\"title\":{\"type\":\"object\",\"name\":\"Title\",\"id\":\"p1381\",\"attributes\":{\"text\":\"line plot\"}},\"renderers\":[{\"type\":\"object\",\"name\":\"GlyphRenderer\",\"id\":\"p1431\",\"attributes\":{\"data_source\":{\"type\":\"object\",\"name\":\"ColumnDataSource\",\"id\":\"p1425\",\"attributes\":{\"selected\":{\"type\":\"object\",\"name\":\"Selection\",\"id\":\"p1426\",\"attributes\":{\"indices\":[],\"line_indices\":[]}},\"selection_policy\":{\"type\":\"object\",\"name\":\"UnionRenderers\",\"id\":\"p1427\"},\"data\":{\"type\":\"map\",\"entries\":[[\"x\",[4,5,6,7,8,9]],[\"y\",[4.3,7,9,7,6]]]}}},\"view\":{\"type\":\"object\",\"name\":\"CDSView\",\"id\":\"p1432\",\"attributes\":{\"filter\":{\"type\":\"object\",\"name\":\"AllIndices\",\"id\":\"p1433\"}}},\"glyph\":{\"type\":\"object\",\"name\":\"Line\",\"id\":\"p1428\",\"attributes\":{\"x\":{\"type\":\"field\",\"field\":\"x\"},\"y\":{\"type\":\"field\",\"field\":\"y\"},\"line_color\":\"#1f77b4\"}},\"nonselection_glyph\":{\"type\":\"object\",\"name\":\"Line\",\"id\":\"p1429\",\"attributes\":{\"x\":{\"type\":\"field\",\"field\":\"x\"},\"y\":{\"type\":\"field\",\"field\":\"y\"},\"line_color\":\"#1f77b4\",\"line_alpha\":0.1}},\"muted_glyph\":{\"type\":\"object\",\"name\":\"Line\",\"id\":\"p1430\",\"attributes\":{\"x\":{\"type\":\"field\",\"field\":\"x\"},\"y\":{\"type\":\"field\",\"field\":\"y\"},\"line_color\":\"#1f77b4\",\"line_alpha\":0.2}}}}],\"toolbar\":{\"type\":\"object\",\"name\":\"Toolbar\",\"id\":\"p1384\",\"attributes\":{\"tools\":[{\"type\":\"object\",\"name\":\"PanTool\",\"id\":\"p1410\"},{\"type\":\"object\",\"name\":\"WheelZoomTool\",\"id\":\"p1411\"},{\"type\":\"object\",\"name\":\"BoxZoomTool\",\"id\":\"p1412\",\"attributes\":{\"overlay\":{\"type\":\"object\",\"name\":\"BoxAnnotation\",\"id\":\"p1413\",\"attributes\":{\"syncable\":false,\"level\":\"overlay\",\"visible\":false,\"left_units\":\"canvas\",\"right_units\":\"canvas\",\"bottom_units\":\"canvas\",\"top_units\":\"canvas\",\"line_color\":\"black\",\"line_alpha\":1.0,\"line_width\":2,\"line_dash\":[4,4],\"fill_color\":\"lightgrey\",\"fill_alpha\":0.5}}}},{\"type\":\"object\",\"name\":\"SaveTool\",\"id\":\"p1414\"},{\"type\":\"object\",\"name\":\"ResetTool\",\"id\":\"p1415\"},{\"type\":\"object\",\"name\":\"HelpTool\",\"id\":\"p1416\"}]}},\"left\":[{\"type\":\"object\",\"name\":\"LinearAxis\",\"id\":\"p1403\",\"attributes\":{\"ticker\":{\"type\":\"object\",\"name\":\"BasicTicker\",\"id\":\"p1405\",\"attributes\":{\"mantissas\":[1,2,5]}},\"formatter\":{\"type\":\"object\",\"name\":\"BasicTickFormatter\",\"id\":\"p1404\"},\"major_label_policy\":{\"type\":\"object\",\"name\":\"AllLabels\",\"id\":\"p1406\"}}}],\"below\":[{\"type\":\"object\",\"name\":\"LinearAxis\",\"id\":\"p1396\",\"attributes\":{\"ticker\":{\"type\":\"object\",\"name\":\"BasicTicker\",\"id\":\"p1398\",\"attributes\":{\"mantissas\":[1,2,5]}},\"formatter\":{\"type\":\"object\",\"name\":\"BasicTickFormatter\",\"id\":\"p1397\"},\"major_label_policy\":{\"type\":\"object\",\"name\":\"AllLabels\",\"id\":\"p1399\"}}}],\"center\":[{\"type\":\"object\",\"name\":\"Grid\",\"id\":\"p1402\",\"attributes\":{\"axis\":{\"id\":\"p1396\"}}},{\"type\":\"object\",\"name\":\"Grid\",\"id\":\"p1409\",\"attributes\":{\"dimension\":1,\"axis\":{\"id\":\"p1403\"}}}]}}]}};\n  const render_items = [{\"docid\":\"65be59cf-e11f-431a-9137-eff13a4797d1\",\"roots\":{\"p1378\":\"58517859-0038-4059-a00a-00692545a3c0\"},\"root_ids\":[\"p1378\"]}];\n  root.Bokeh.embed.embed_items_notebook(docs_json, render_items);\n  }\n  if (root.Bokeh !== undefined) {\n    embed_document(root);\n  } else {\n    let attempts = 0;\n    const timer = setInterval(function(root) {\n      if (root.Bokeh !== undefined) {\n        clearInterval(timer);\n        embed_document(root);\n      } else {\n        attempts++;\n        if (attempts > 100) {\n          clearInterval(timer);\n          console.log(\"Bokeh: ERROR: Unable to run BokehJS code because BokehJS library is missing\");\n        }\n      }\n    }, 10, root)\n  }\n})(window);",
      "application/vnd.bokehjs_exec.v0+json": ""
     },
     "metadata": {
      "application/vnd.bokehjs_exec.v0+json": {
       "id": "p1378"
      }
     },
     "output_type": "display_data"
    }
   ],
   "source": [
    "x=[4,5,6,7,8,9]\n",
    "y=[4.3,7,9,7,6]\n",
    "output_file(\"line.html\")\n",
    "p=figure(title='line plot')\n",
    "p.line(x,y)\n",
    "show(p)"
   ]
  },
  {
   "cell_type": "code",
   "execution_count": 16,
   "metadata": {},
   "outputs": [
    {
     "name": "stderr",
     "output_type": "stream",
     "text": [
      "BokehUserWarning: ColumnDataSource's columns must be of the same length. Current lengths: ('x', 6), ('y', 5)\n"
     ]
    },
    {
     "data": {
      "text/html": [
       "\n",
       "  <div id=\"daacc701-6fa0-445e-81e5-99921de11e3d\" data-root-id=\"p2005\" style=\"display: contents;\"></div>\n"
      ]
     },
     "metadata": {},
     "output_type": "display_data"
    },
    {
     "data": {
      "application/javascript": "(function(root) {\n  function embed_document(root) {\n  const docs_json = {\"eafd2dd9-7dc4-41fe-9df7-0f1fcdefdde1\":{\"version\":\"3.0.3\",\"title\":\"Bokeh Application\",\"defs\":[],\"roots\":[{\"type\":\"object\",\"name\":\"Figure\",\"id\":\"p2005\",\"attributes\":{\"x_range\":{\"type\":\"object\",\"name\":\"DataRange1d\",\"id\":\"p2007\"},\"y_range\":{\"type\":\"object\",\"name\":\"DataRange1d\",\"id\":\"p2006\"},\"x_scale\":{\"type\":\"object\",\"name\":\"LinearScale\",\"id\":\"p2019\"},\"y_scale\":{\"type\":\"object\",\"name\":\"LinearScale\",\"id\":\"p2021\"},\"title\":{\"type\":\"object\",\"name\":\"Title\",\"id\":\"p2008\",\"attributes\":{\"text\":\"scatter plot\"}},\"renderers\":[{\"type\":\"object\",\"name\":\"GlyphRenderer\",\"id\":\"p2058\",\"attributes\":{\"data_source\":{\"type\":\"object\",\"name\":\"ColumnDataSource\",\"id\":\"p2052\",\"attributes\":{\"selected\":{\"type\":\"object\",\"name\":\"Selection\",\"id\":\"p2053\",\"attributes\":{\"indices\":[],\"line_indices\":[]}},\"selection_policy\":{\"type\":\"object\",\"name\":\"UnionRenderers\",\"id\":\"p2054\"},\"data\":{\"type\":\"map\",\"entries\":[[\"x\",[4,5,6,7,8,9]],[\"y\",[4.3,7,9,7,6]]]}}},\"view\":{\"type\":\"object\",\"name\":\"CDSView\",\"id\":\"p2059\",\"attributes\":{\"filter\":{\"type\":\"object\",\"name\":\"AllIndices\",\"id\":\"p2060\"}}},\"glyph\":{\"type\":\"object\",\"name\":\"Scatter\",\"id\":\"p2055\",\"attributes\":{\"x\":{\"type\":\"field\",\"field\":\"x\"},\"y\":{\"type\":\"field\",\"field\":\"y\"},\"line_color\":{\"type\":\"value\",\"value\":\"#1f77b4\"},\"fill_color\":{\"type\":\"value\",\"value\":\"red\"}}},\"nonselection_glyph\":{\"type\":\"object\",\"name\":\"Scatter\",\"id\":\"p2056\",\"attributes\":{\"x\":{\"type\":\"field\",\"field\":\"x\"},\"y\":{\"type\":\"field\",\"field\":\"y\"},\"line_color\":{\"type\":\"value\",\"value\":\"#1f77b4\"},\"line_alpha\":{\"type\":\"value\",\"value\":0.1},\"fill_color\":{\"type\":\"value\",\"value\":\"red\"},\"fill_alpha\":{\"type\":\"value\",\"value\":0.1},\"hatch_alpha\":{\"type\":\"value\",\"value\":0.1}}},\"muted_glyph\":{\"type\":\"object\",\"name\":\"Scatter\",\"id\":\"p2057\",\"attributes\":{\"x\":{\"type\":\"field\",\"field\":\"x\"},\"y\":{\"type\":\"field\",\"field\":\"y\"},\"line_color\":{\"type\":\"value\",\"value\":\"#1f77b4\"},\"line_alpha\":{\"type\":\"value\",\"value\":0.2},\"fill_color\":{\"type\":\"value\",\"value\":\"red\"},\"fill_alpha\":{\"type\":\"value\",\"value\":0.2},\"hatch_alpha\":{\"type\":\"value\",\"value\":0.2}}}}}],\"toolbar\":{\"type\":\"object\",\"name\":\"Toolbar\",\"id\":\"p2011\",\"attributes\":{\"tools\":[{\"type\":\"object\",\"name\":\"PanTool\",\"id\":\"p2037\"},{\"type\":\"object\",\"name\":\"WheelZoomTool\",\"id\":\"p2038\"},{\"type\":\"object\",\"name\":\"BoxZoomTool\",\"id\":\"p2039\",\"attributes\":{\"overlay\":{\"type\":\"object\",\"name\":\"BoxAnnotation\",\"id\":\"p2040\",\"attributes\":{\"syncable\":false,\"level\":\"overlay\",\"visible\":false,\"left_units\":\"canvas\",\"right_units\":\"canvas\",\"bottom_units\":\"canvas\",\"top_units\":\"canvas\",\"line_color\":\"black\",\"line_alpha\":1.0,\"line_width\":2,\"line_dash\":[4,4],\"fill_color\":\"lightgrey\",\"fill_alpha\":0.5}}}},{\"type\":\"object\",\"name\":\"SaveTool\",\"id\":\"p2041\"},{\"type\":\"object\",\"name\":\"ResetTool\",\"id\":\"p2042\"},{\"type\":\"object\",\"name\":\"HelpTool\",\"id\":\"p2043\"}]}},\"left\":[{\"type\":\"object\",\"name\":\"LinearAxis\",\"id\":\"p2030\",\"attributes\":{\"ticker\":{\"type\":\"object\",\"name\":\"BasicTicker\",\"id\":\"p2032\",\"attributes\":{\"mantissas\":[1,2,5]}},\"formatter\":{\"type\":\"object\",\"name\":\"BasicTickFormatter\",\"id\":\"p2031\"},\"major_label_policy\":{\"type\":\"object\",\"name\":\"AllLabels\",\"id\":\"p2033\"}}}],\"below\":[{\"type\":\"object\",\"name\":\"LinearAxis\",\"id\":\"p2023\",\"attributes\":{\"ticker\":{\"type\":\"object\",\"name\":\"BasicTicker\",\"id\":\"p2025\",\"attributes\":{\"mantissas\":[1,2,5]}},\"formatter\":{\"type\":\"object\",\"name\":\"BasicTickFormatter\",\"id\":\"p2024\"},\"major_label_policy\":{\"type\":\"object\",\"name\":\"AllLabels\",\"id\":\"p2026\"}}}],\"center\":[{\"type\":\"object\",\"name\":\"Grid\",\"id\":\"p2029\",\"attributes\":{\"axis\":{\"id\":\"p2023\"}}},{\"type\":\"object\",\"name\":\"Grid\",\"id\":\"p2036\",\"attributes\":{\"dimension\":1,\"axis\":{\"id\":\"p2030\"}}}]}}]}};\n  const render_items = [{\"docid\":\"eafd2dd9-7dc4-41fe-9df7-0f1fcdefdde1\",\"roots\":{\"p2005\":\"daacc701-6fa0-445e-81e5-99921de11e3d\"},\"root_ids\":[\"p2005\"]}];\n  root.Bokeh.embed.embed_items_notebook(docs_json, render_items);\n  }\n  if (root.Bokeh !== undefined) {\n    embed_document(root);\n  } else {\n    let attempts = 0;\n    const timer = setInterval(function(root) {\n      if (root.Bokeh !== undefined) {\n        clearInterval(timer);\n        embed_document(root);\n      } else {\n        attempts++;\n        if (attempts > 100) {\n          clearInterval(timer);\n          console.log(\"Bokeh: ERROR: Unable to run BokehJS code because BokehJS library is missing\");\n        }\n      }\n    }, 10, root)\n  }\n})(window);",
      "application/vnd.bokehjs_exec.v0+json": ""
     },
     "metadata": {
      "application/vnd.bokehjs_exec.v0+json": {
       "id": "p2005"
      }
     },
     "output_type": "display_data"
    }
   ],
   "source": [
    "x=[4,5,6,7,8,9]\n",
    "y=[4.3,7,9,7,6]\n",
    "output_file(\"line.html\")\n",
    "p=figure(title='scatter plot')\n",
    "p.scatter(x,y,fill_color='red')\n",
    "show(p)"
   ]
  },
  {
   "cell_type": "code",
   "execution_count": 17,
   "metadata": {},
   "outputs": [
    {
     "name": "stderr",
     "output_type": "stream",
     "text": [
      "BokehUserWarning: ColumnDataSource's columns must be of the same length. Current lengths: ('x', 6), ('y', 5)\n"
     ]
    },
    {
     "data": {
      "text/html": [
       "\n",
       "  <div id=\"11c08eeb-0428-4607-8e59-8d60af728eae\" data-root-id=\"p2348\" style=\"display: contents;\"></div>\n"
      ]
     },
     "metadata": {},
     "output_type": "display_data"
    },
    {
     "data": {
      "application/javascript": "(function(root) {\n  function embed_document(root) {\n  const docs_json = {\"8fee5e89-f3b6-4bf1-8724-078ee1f0ec76\":{\"version\":\"3.0.3\",\"title\":\"Bokeh Application\",\"defs\":[],\"roots\":[{\"type\":\"object\",\"name\":\"Figure\",\"id\":\"p2348\",\"attributes\":{\"x_range\":{\"type\":\"object\",\"name\":\"DataRange1d\",\"id\":\"p2350\"},\"y_range\":{\"type\":\"object\",\"name\":\"DataRange1d\",\"id\":\"p2349\"},\"x_scale\":{\"type\":\"object\",\"name\":\"LinearScale\",\"id\":\"p2362\"},\"y_scale\":{\"type\":\"object\",\"name\":\"LinearScale\",\"id\":\"p2364\"},\"title\":{\"type\":\"object\",\"name\":\"Title\",\"id\":\"p2351\",\"attributes\":{\"text\":\"scatter plot\"}},\"renderers\":[{\"type\":\"object\",\"name\":\"GlyphRenderer\",\"id\":\"p2401\",\"attributes\":{\"data_source\":{\"type\":\"object\",\"name\":\"ColumnDataSource\",\"id\":\"p2395\",\"attributes\":{\"selected\":{\"type\":\"object\",\"name\":\"Selection\",\"id\":\"p2396\",\"attributes\":{\"indices\":[],\"line_indices\":[]}},\"selection_policy\":{\"type\":\"object\",\"name\":\"UnionRenderers\",\"id\":\"p2397\"},\"data\":{\"type\":\"map\",\"entries\":[[\"x\",[4,5,6,7,8,9]],[\"y\",[4.3,7,9,7,6]]]}}},\"view\":{\"type\":\"object\",\"name\":\"CDSView\",\"id\":\"p2402\",\"attributes\":{\"filter\":{\"type\":\"object\",\"name\":\"AllIndices\",\"id\":\"p2403\"}}},\"glyph\":{\"type\":\"object\",\"name\":\"Scatter\",\"id\":\"p2398\",\"attributes\":{\"x\":{\"type\":\"field\",\"field\":\"x\"},\"y\":{\"type\":\"field\",\"field\":\"y\"},\"line_color\":{\"type\":\"value\",\"value\":\"#1f77b4\"},\"fill_color\":{\"type\":\"value\",\"value\":\"red\"}}},\"nonselection_glyph\":{\"type\":\"object\",\"name\":\"Scatter\",\"id\":\"p2399\",\"attributes\":{\"x\":{\"type\":\"field\",\"field\":\"x\"},\"y\":{\"type\":\"field\",\"field\":\"y\"},\"line_color\":{\"type\":\"value\",\"value\":\"#1f77b4\"},\"line_alpha\":{\"type\":\"value\",\"value\":0.1},\"fill_color\":{\"type\":\"value\",\"value\":\"red\"},\"fill_alpha\":{\"type\":\"value\",\"value\":0.1},\"hatch_alpha\":{\"type\":\"value\",\"value\":0.1}}},\"muted_glyph\":{\"type\":\"object\",\"name\":\"Scatter\",\"id\":\"p2400\",\"attributes\":{\"x\":{\"type\":\"field\",\"field\":\"x\"},\"y\":{\"type\":\"field\",\"field\":\"y\"},\"line_color\":{\"type\":\"value\",\"value\":\"#1f77b4\"},\"line_alpha\":{\"type\":\"value\",\"value\":0.2},\"fill_color\":{\"type\":\"value\",\"value\":\"red\"},\"fill_alpha\":{\"type\":\"value\",\"value\":0.2},\"hatch_alpha\":{\"type\":\"value\",\"value\":0.2}}}}}],\"toolbar\":{\"type\":\"object\",\"name\":\"Toolbar\",\"id\":\"p2354\",\"attributes\":{\"tools\":[{\"type\":\"object\",\"name\":\"PanTool\",\"id\":\"p2380\"},{\"type\":\"object\",\"name\":\"WheelZoomTool\",\"id\":\"p2381\"},{\"type\":\"object\",\"name\":\"BoxZoomTool\",\"id\":\"p2382\",\"attributes\":{\"overlay\":{\"type\":\"object\",\"name\":\"BoxAnnotation\",\"id\":\"p2383\",\"attributes\":{\"syncable\":false,\"level\":\"overlay\",\"visible\":false,\"left_units\":\"canvas\",\"right_units\":\"canvas\",\"bottom_units\":\"canvas\",\"top_units\":\"canvas\",\"line_color\":\"black\",\"line_alpha\":1.0,\"line_width\":2,\"line_dash\":[4,4],\"fill_color\":\"lightgrey\",\"fill_alpha\":0.5}}}},{\"type\":\"object\",\"name\":\"SaveTool\",\"id\":\"p2384\"},{\"type\":\"object\",\"name\":\"ResetTool\",\"id\":\"p2385\"},{\"type\":\"object\",\"name\":\"HelpTool\",\"id\":\"p2386\"}]}},\"left\":[{\"type\":\"object\",\"name\":\"LinearAxis\",\"id\":\"p2373\",\"attributes\":{\"ticker\":{\"type\":\"object\",\"name\":\"BasicTicker\",\"id\":\"p2375\",\"attributes\":{\"mantissas\":[1,2,5]}},\"formatter\":{\"type\":\"object\",\"name\":\"BasicTickFormatter\",\"id\":\"p2374\"},\"major_label_policy\":{\"type\":\"object\",\"name\":\"AllLabels\",\"id\":\"p2376\"}}}],\"below\":[{\"type\":\"object\",\"name\":\"LinearAxis\",\"id\":\"p2366\",\"attributes\":{\"ticker\":{\"type\":\"object\",\"name\":\"BasicTicker\",\"id\":\"p2368\",\"attributes\":{\"mantissas\":[1,2,5]}},\"formatter\":{\"type\":\"object\",\"name\":\"BasicTickFormatter\",\"id\":\"p2367\"},\"major_label_policy\":{\"type\":\"object\",\"name\":\"AllLabels\",\"id\":\"p2369\"}}}],\"center\":[{\"type\":\"object\",\"name\":\"Grid\",\"id\":\"p2372\",\"attributes\":{\"axis\":{\"id\":\"p2366\"}}},{\"type\":\"object\",\"name\":\"Grid\",\"id\":\"p2379\",\"attributes\":{\"dimension\":1,\"axis\":{\"id\":\"p2373\"}}},{\"type\":\"object\",\"name\":\"Legend\",\"id\":\"p2417\",\"attributes\":{\"items\":[{\"type\":\"object\",\"name\":\"LegendItem\",\"id\":\"p2418\",\"attributes\":{\"label\":{\"type\":\"value\",\"value\":\"blue point\"},\"renderers\":[{\"id\":\"p2401\"}]}}]}}]}}]}};\n  const render_items = [{\"docid\":\"8fee5e89-f3b6-4bf1-8724-078ee1f0ec76\",\"roots\":{\"p2348\":\"11c08eeb-0428-4607-8e59-8d60af728eae\"},\"root_ids\":[\"p2348\"]}];\n  root.Bokeh.embed.embed_items_notebook(docs_json, render_items);\n  }\n  if (root.Bokeh !== undefined) {\n    embed_document(root);\n  } else {\n    let attempts = 0;\n    const timer = setInterval(function(root) {\n      if (root.Bokeh !== undefined) {\n        clearInterval(timer);\n        embed_document(root);\n      } else {\n        attempts++;\n        if (attempts > 100) {\n          clearInterval(timer);\n          console.log(\"Bokeh: ERROR: Unable to run BokehJS code because BokehJS library is missing\");\n        }\n      }\n    }, 10, root)\n  }\n})(window);",
      "application/vnd.bokehjs_exec.v0+json": ""
     },
     "metadata": {
      "application/vnd.bokehjs_exec.v0+json": {
       "id": "p2348"
      }
     },
     "output_type": "display_data"
    }
   ],
   "source": [
    "x=[4,5,6,7,8,9]\n",
    "y=[4.3,7,9,7,6]\n",
    "output_file(\"line.html\")\n",
    "p=figure(title='scatter plot')\n",
    "p.scatter(x,y,fill_color='red',legend_label='blue point')\n",
    "show(p)"
   ]
  },
  {
   "cell_type": "code",
   "execution_count": null,
   "metadata": {},
   "outputs": [],
   "source": []
  }
 ],
 "metadata": {
  "kernelspec": {
   "display_name": "Python 3",
   "language": "python",
   "name": "python3"
  },
  "language_info": {
   "codemirror_mode": {
    "name": "ipython",
    "version": 3
   },
   "file_extension": ".py",
   "mimetype": "text/x-python",
   "name": "python",
   "nbconvert_exporter": "python",
   "pygments_lexer": "ipython3",
   "version": "3.11.1"
  },
  "orig_nbformat": 4
 },
 "nbformat": 4,
 "nbformat_minor": 2
}
