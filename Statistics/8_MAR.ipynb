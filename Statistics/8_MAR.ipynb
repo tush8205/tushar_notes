{
 "cells": [
  {
   "cell_type": "code",
   "execution_count": null,
   "metadata": {},
   "outputs": [],
   "source": []
  },
  {
   "attachments": {},
   "cell_type": "markdown",
   "metadata": {},
   "source": [
    "Q1. What is the Probability density function?\n",
    "\n",
    "ANS:A Statistical Expression that defines a probability distibution(the likelihood of an outcome ) for a discrete random variable as opposed to a continuous random variable."
   ]
  },
  {
   "attachments": {},
   "cell_type": "markdown",
   "metadata": {},
   "source": [
    "Q2.What are the types of Probability distribution?\n",
    "\n",
    "ANS:1.Normal/Gaussaian Distribution\n",
    "    2.Bernoulli Distribution\n",
    "    3.Uniform Distribution\n",
    "    4.Poisson Distribution\n",
    "    5.Log Normal Distribution\n",
    "    6.Binomial Distribution"
   ]
  },
  {
   "attachments": {},
   "cell_type": "markdown",
   "metadata": {},
   "source": [
    "Q4. What are the properties of Binomial distribution? Give two examples of events where binomial distribution can be applied.\n",
    "ANS:\n",
    "1.There are Two possible outcomes,True or False,success ot failure, yes or no\n",
    "2.There is 'n' number of independent trials or a fixed number of n times repeated trials.\n",
    "3.The probability of success or failure remains the same for each trial.\n",
    "\n",
    "EX:1.when tossing a coin, the probability of flipping a coin is ½ or 0.5 for every trial we conduct, since there are only two possible outcomes.\n",
    "2.Participating in a Lucky Draw, If you participate in a lucky draw contest, ther exist two possible outcomes , i.e. either win the contest or lose the contest\n",
    "\n",
    "\n"
   ]
  },
  {
   "attachments": {},
   "cell_type": "markdown",
   "metadata": {},
   "source": [
    "Q7. How Binomial distribution different from Poisson distribution?"
   ]
  },
  {
   "attachments": {},
   "cell_type": "markdown",
   "metadata": {},
   "source": [
    "ANS:1.The Binomial distribution is one, whose posssible number of outcomes are two, i.e.success or failure. On the other hand , there is no limit of possible outcomes in Poission distribution.\n",
    "2.Binomial Distribution describes the distribution of binary data from a finite sample. thus it gives the probability of getting r events out of n trial. Poisson Distribution describes the distribution of binary data from an infinite sample . Thus it gives the probability of getting r events in a population.\n"
   ]
  },
  {
   "attachments": {},
   "cell_type": "markdown",
   "metadata": {},
   "source": [
    " Q9.How mean and variance are related in Binomial distribution and Poisson distribution?\n",
    " ANS:In Binomial Distribution, Mean is greater than Variance.\n",
    "   In Poisson Distribution, Mean is equal to Variance"
   ]
  },
  {
   "attachments": {},
   "cell_type": "markdown",
   "metadata": {},
   "source": [
    "Q10. In normal distribution with respect to mean position, where does the least frequent data appear?"
   ]
  },
  {
   "attachments": {},
   "cell_type": "markdown",
   "metadata": {},
   "source": [
    "ANS:In a normal Distribution , the least frequent data appears in the tails of the distribution, which are the areas that are farthest away from the mean.The tails represent the extreme values that are very unlikely to occur,and they become progressively less frequent as you move farther aeay from the mean."
   ]
  },
  {
   "attachments": {},
   "cell_type": "markdown",
   "metadata": {},
   "source": [
    "Q8. Generate a random sample of size 1000 from a Poisson distribution with mean 5 and calculate the\n",
    "sample mean and variance."
   ]
  },
  {
   "cell_type": "code",
   "execution_count": 4,
   "metadata": {},
   "outputs": [
    {
     "name": "stdout",
     "output_type": "stream",
     "text": [
      "Sample Mean: 5.057\n",
      "Sample Variance: 5.20895995995996\n"
     ]
    }
   ],
   "source": [
    "import numpy as np\n",
    "np.random.seed(1)\n",
    "sample=np.random.poisson(lam=5,size=1000)\n",
    "sample_mean= np.mean(sample)\n",
    "sample_var=np.var(sample,ddof=1)\n",
    "print(\"Sample Mean:\" ,sample_mean)\n",
    "print(\"Sample Variance:\" , sample_var)"
   ]
  },
  {
   "attachments": {},
   "cell_type": "markdown",
   "metadata": {},
   "source": [
    " Q6.Write a Python function to calculate the cumulative distribution function of a Poisson distribution\n",
    "with given mean at a given point."
   ]
  },
  {
   "cell_type": "code",
   "execution_count": null,
   "metadata": {},
   "outputs": [],
   "source": [
    "from math import exp\n",
    "from scipy.spatial import gammainc\n",
    "\n",
    "def poisson_cdf(lam,k):\n",
    "    '''cal the CDF of a Poisson dist. with mean lam at a given pt k\n",
    "\n",
    "   return \n",
    "    float: the value of the CDF at k\n",
    "    '''\n",
    "    return gammainc(k+1,lam)/ exp(lam)"
   ]
  },
  {
   "attachments": {},
   "cell_type": "markdown",
   "metadata": {},
   "source": [
    "Q5. Generate a random sample of size 1000 from a binomial distribution with probability of success 0.4 and plot a histogram of the results using matplotlib."
   ]
  },
  {
   "cell_type": "code",
   "execution_count": 6,
   "metadata": {},
   "outputs": [
    {
     "data": {
      "image/png": "[encoded data removed]",
      "text/plain": [
       "<Figure size 640x480 with 1 Axes>"
      ]
     },
     "metadata": {},
     "output_type": "display_data"
    }
   ],
   "source": [
    "import numpy as np\n",
    "import matplotlib.pyplot as plt\n",
    "np.random.seed(1)\n",
    "sample= np.random.binomial(n=10,p=0.4,size=1000)\n",
    "plt.hist(sample,bins=range(10),rwidth=0.8,align='left')\n",
    "plt.xticks(range(11))\n",
    "plt.xlabel(\"Number of Successes\")\n",
    "plt.ylabel(\"Frequency\")\n",
    "plt.title(\"Binomial distribution\")\n",
    "plt.show()"
   ]
  },
  {
   "attachments": {},
   "cell_type": "markdown",
   "metadata": {},
   "source": [
    "Q3. Write a Python function to calculate the probability density function of a normal distribution with given mean and standard deviation at a given point."
   ]
  },
  {
   "cell_type": "code",
   "execution_count": 7,
   "metadata": {},
   "outputs": [],
   "source": [
    "import math \n",
    "def normal_pdf(x,mean,std_dev):\n",
    "    \"\"\"cal the pdf of a normal distribution with a given mean and standard deviation at a given point\n",
    "    parameters:\n",
    "    x(float): the point at which to evaluate the pdf\n",
    "    mean(float): the mean of the normal distribution \n",
    "    std_dev(float): the standard deviation of the normal distribution\n",
    "    return : the value of  pdf at given point\n",
    "    \"\"\"\n",
    "    coefficient= 1/(std_dev * math.sqrt(2*math.pi))\n",
    "    exponent= -1/2 * ((x-mean)/ std_dev)**2\n",
    "    return coefficient * math.exp(exponent)\n",
    "    \n",
    "     "
   ]
  },
  {
   "cell_type": "markdown",
   "metadata": {},
   "source": []
  }
 ],
 "metadata": {
  "kernelspec": {
   "display_name": "Python 3",
   "language": "python",
   "name": "python3"
  },
  "language_info": {
   "codemirror_mode": {
    "name": "ipython",
    "version": 3
   },
   "file_extension": ".py",
   "mimetype": "text/x-python",
   "name": "python",
   "nbconvert_exporter": "python",
   "pygments_lexer": "ipython3",
   "version": "3.11.1"
  },
  "orig_nbformat": 4
 },
 "nbformat": 4,
 "nbformat_minor": 2
}
