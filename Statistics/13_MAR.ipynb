{
 "cells": [
  {
   "cell_type": "code",
   "execution_count": null,
   "metadata": {},
   "outputs": [],
   "source": []
  },
  {
   "attachments": {},
   "cell_type": "markdown",
   "metadata": {},
   "source": [
    "Q1.Write a Python function that takes in two arrays of data and calculates the F-value for a variance ratio test. The function should return the F-value and the corresponding p-value for the test.\n"
   ]
  },
  {
   "cell_type": "code",
   "execution_count": 1,
   "metadata": {},
   "outputs": [],
   "source": [
    "import scipy.stats as stat\n",
    "import numpy as np"
   ]
  },
  {
   "cell_type": "code",
   "execution_count": 6,
   "metadata": {},
   "outputs": [],
   "source": [
    "def variance_ratio_test (data1,data2):\n",
    "    var1=np.var(data1,ddof=1)\n",
    "    var2=np.var(data2,ddof=1)\n",
    "    \n",
    "    f=var1/var2 if var1>var2 else var2/var1\n",
    "    p_val=stat.sf(f,len(data1)-1,len(data2)-1)*2\n",
    "    \n",
    "    return f,p_val"
   ]
  },
  {
   "attachments": {},
   "cell_type": "markdown",
   "metadata": {},
   "source": [
    "Q2.Given a significance level of 0.05 and the degrees of freedom for the numerator and denominator of an\n",
    "F-distribution, write a Python function that returns the critical F-value for a two-tailed test."
   ]
  },
  {
   "cell_type": "code",
   "execution_count": 11,
   "metadata": {},
   "outputs": [],
   "source": [
    "import scipy.stats as stat\n",
    "def critical_f_value (dfn,dfd,alpha):\n",
    "    F_crit=stat.ppf(alpha/2,dfn ,dfd)\n",
    "    return F_crit"
   ]
  },
  {
   "attachments": {},
   "cell_type": "markdown",
   "metadata": {},
   "source": [
    " Q3.Write a Python program that generates random samples from two normal distributions with known\n",
    "variances and uses an F-test to determine if the variances are equal. The program should output the Fvalue, degrees of freedom, and p-value for the test."
   ]
  },
  {
   "cell_type": "code",
   "execution_count": 17,
   "metadata": {},
   "outputs": [
    {
     "name": "stdout",
     "output_type": "stream",
     "text": [
      "Fvalue: 1.0703296559920883\n",
      "Degree of Freedom:49,39\n",
      "P_value :0.41650467729399493\n",
      "the varience are equal\n"
     ]
    }
   ],
   "source": [
    "from scipy.stats import f\n",
    "import numpy as np\n",
    "\n",
    "n1=50\n",
    "n2=40\n",
    "var1=5\n",
    "var2=5\n",
    "alpha=0.05\n",
    "#genrathe the random sample\n",
    "sample1=np.random.normal(0,np.sqrt(var1),n1)\n",
    "sample2=np.random.normal(0,np.sqrt(var2),n2)\n",
    "#Calculate the sample varience\n",
    "s1_sq=np.var(sample1,ddof=1)\n",
    "s2_sq=np.var(sample2,ddof=1)\n",
    "#calculate F value\n",
    "f_value=s1_sq/s2_sq if s1_sq>s2_sq else s2_sq/s1_sq\n",
    "dfn=n1-1\n",
    "dfd=n2-1\n",
    "# Calculate the P value.\n",
    "p_val=f.sf(f_value,dfn,dfd)\n",
    "\n",
    "print(f\"Fvalue: {f_value}\")\n",
    "print(f\"Degree of Freedom:{dfn},{dfd}\")\n",
    "print(f\"P_value :{p_val}\")\n",
    "if p_val < alpha:\n",
    "    print (\"The varience are not equal\")\n",
    "else:\n",
    "    print(\"The varience are equal\")"
   ]
  },
  {
   "attachments": {},
   "cell_type": "markdown",
   "metadata": {},
   "source": [
    "Q8.The following data represent the waiting times in minutes at two different restaurants on a Saturday night: Restaurant A: 24, 25, 28, 23, 22, 20, 27; Restaurant B: 31, 33, 35, 30, 32, 36. Conduct an F-test at the 5% significance level to determine if the variances are significantly different.\n",
    "\n",
    "ANS:\n",
    "1.State the null and alternative hypothese:\n",
    "Null hypothesis: the variance of the waiting times at Restaurant A and Restraurant B are eqaul.\n",
    "Alternative hypothesis:the variance of the waiting times at Restaurant A and Restraurant B are significantly different.\n",
    "2.calculate the sample variance for Restaurant A and Restaurant B:\n",
    "   mean of Restaurant A= (24+25+28+23+22+20+27)/7=24.14\n",
    "   Mean Of Restaurant B=(31+33+35+30+32+36)/6=32.83\n",
    " \n",
    "  Sample Varienace for Restanurant A:sA^2=((24-24.14)^2+(25-24.14)^2+(28-24.14)^2+(23-24.14)^2+(22-24.14)^2+(20-24.14)^2+(27-24.14)^2)/6\n",
    "    sA^2=6.41\n",
    "  Sample Varienace for Restanurant B:sB^2=((31-32.83)^2+(33-32.32.83)^2+(35-32.83)^2+(30-32.83)^2+(32-30.83)^2+(36-32.83)^2)/5\n",
    "    sB^2=6.47\n",
    "\n",
    "3.calculate the f value:\n",
    "F= sA^2/ sB^2\n",
    "F=0.99\n",
    "4.\n",
    "Degree of Freedom for numerator(Restaurant A):nA=7-1=6\n",
    "Degree of Freedom for numerator(Restaurant B):nA=6-1=5\n",
    "5.\n",
    "Calculate the p-value using the F-Distribution:\n",
    "  P(F>0.99)= 0.456 ( using F distribution table )\n",
    "6.\n",
    "since P value (0.456) is greater than the significance level (0.05), we fail to reject the null hypothesis.\n"
   ]
  },
  {
   "cell_type": "code",
   "execution_count": null,
   "metadata": {},
   "outputs": [],
   "source": []
  }
 ],
 "metadata": {
  "kernelspec": {
   "display_name": "Python 3",
   "language": "python",
   "name": "python3"
  },
  "language_info": {
   "codemirror_mode": {
    "name": "ipython",
    "version": 3
   },
   "file_extension": ".py",
   "mimetype": "text/x-python",
   "name": "python",
   "nbconvert_exporter": "python",
   "pygments_lexer": "ipython3",
   "version": "3.11.2"
  },
  "orig_nbformat": 4,
  "vscode": {
   "interpreter": {
    "hash": "2469a70536e4d2335a2ea8907942d0699c37342a371ac185bdb5b0aa6f073890"
   }
  }
 },
 "nbformat": 4,
 "nbformat_minor": 2
}
