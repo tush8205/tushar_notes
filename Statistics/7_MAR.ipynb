{
 "cells": [
  {
   "attachments": {},
   "cell_type": "markdown",
   "metadata": {},
   "source": [
    " Q1.What are the three measures of central tendency?"
   ]
  },
  {
   "attachments": {},
   "cell_type": "markdown",
   "metadata": {},
   "source": [
    "ANS: 1.MEan or Average\n",
    "      2.Median\n",
    "      3.Mode"
   ]
  },
  {
   "attachments": {},
   "cell_type": "markdown",
   "metadata": {},
   "source": [
    "Q2.What is the difference between the mean, median, and mode? How are they used to measure the central tendency of a dataset?"
   ]
  },
  {
   "attachments": {},
   "cell_type": "markdown",
   "metadata": {},
   "source": [
    "Mean:Average taken for a set of number\n",
    "\n",
    "\n",
    "Median:Middle value in the data set \n",
    "Mode: The number that occures the most in a given list of numbers"
   ]
  },
  {
   "attachments": {},
   "cell_type": "markdown",
   "metadata": {},
   "source": [
    "Q3. Measure the three measures of central tendency for the given height data:\n",
    "\n",
    " [178,177,176,177,178.2,178,175,179,180,175,178.9,176.2,177,172.5,178,176.5]"
   ]
  },
  {
   "cell_type": "code",
   "execution_count": 4,
   "metadata": {},
   "outputs": [
    {
     "data": {
      "text/plain": [
       "177.01875"
      ]
     },
     "execution_count": 4,
     "metadata": {},
     "output_type": "execute_result"
    }
   ],
   "source": [
    "import numpy as np\n",
    "height=[178,177,176,177,178.2,178,175,179,180,175,178.9,176.2,177,172.5,178,176.5]\n",
    "np.mean(height)\n"
   ]
  },
  {
   "cell_type": "code",
   "execution_count": 5,
   "metadata": {},
   "outputs": [
    {
     "data": {
      "text/plain": [
       "177.0"
      ]
     },
     "execution_count": 5,
     "metadata": {},
     "output_type": "execute_result"
    }
   ],
   "source": [
    "np.median(height)"
   ]
  },
  {
   "cell_type": "code",
   "execution_count": 7,
   "metadata": {},
   "outputs": [
    {
     "data": {
      "text/plain": [
       "ModeResult(mode=array([177.]), count=array([3]))"
      ]
     },
     "execution_count": 7,
     "metadata": {},
     "output_type": "execute_result"
    }
   ],
   "source": [
    "from scipy import stats\n",
    "stats.mode(height,keepdims=True)"
   ]
  },
  {
   "attachments": {},
   "cell_type": "markdown",
   "metadata": {},
   "source": [
    " Q4.Find the standard deviation for the given data:\n",
    "\n",
    "[178,177,176,177,178.2,178,175,179,180,175,178.9,176.2,177,172.5,178,176.5]"
   ]
  },
  {
   "cell_type": "code",
   "execution_count": 8,
   "metadata": {},
   "outputs": [
    {
     "data": {
      "text/plain": [
       "1.7885814036548633"
      ]
     },
     "execution_count": 8,
     "metadata": {},
     "output_type": "execute_result"
    }
   ],
   "source": [
    "import numpy as np\n",
    "height=[178,177,176,177,178.2,178,175,179,180,175,178.9,176.2,177,172.5,178,176.5]\n",
    "np.std(height)"
   ]
  },
  {
   "attachments": {},
   "cell_type": "markdown",
   "metadata": {},
   "source": [
    "Q5.How are measures of dispersion such as range, variance, and standard deviation used to describe\n",
    "the spread of a dataset? Provide an example."
   ]
  },
  {
   "attachments": {},
   "cell_type": "markdown",
   "metadata": {},
   "source": [
    "1.Range:the range is the easiest dispersion of data or measure of variability. The range can be measure by subtracting the lowest value from the massive number.\n",
    "Range=Higest value - Lowest value\n",
    "\n",
    "2.Variance: It is a simple measure of dispersion. Variance measures how far each number in the dataset from the mean .\n",
    "\n",
    "\n",
    "Standard Deviation: It is squared root of the variance to get original values "
   ]
  },
  {
   "attachments": {},
   "cell_type": "markdown",
   "metadata": {},
   "source": [
    "Q6.What is a Venn diagram?"
   ]
  },
  {
   "attachments": {},
   "cell_type": "markdown",
   "metadata": {},
   "source": [
    "ANS: A Venn diagram uses overlapping circles or other shapes to illustrate the logical relationships between two or more sets of items."
   ]
  },
  {
   "attachments": {},
   "cell_type": "markdown",
   "metadata": {},
   "source": [
    "Q7. For the two given sets A = (2,3,4,5,6,7) & B = (0,2,6,8,10). Find:\n",
    "\n",
    "(i) \tA n B\n",
    "\n",
    "(ii)\tA ⋃ B"
   ]
  },
  {
   "attachments": {},
   "cell_type": "markdown",
   "metadata": {},
   "source": [
    "ANS: i) A n B:(2,6)\n",
    "     ii) A U B :(0,2,3,4,5,6,7,8,10)"
   ]
  },
  {
   "attachments": {},
   "cell_type": "markdown",
   "metadata": {},
   "source": [
    "Q8.What do you understand about skewness in data?\n",
    "ANS:It is measurement of the distortion of symmentrical distribution in a data set.\n",
    "Data points are not distributed symmetrically it demonstrated bell curve , to the left and right sides of the median.\n",
    "1.No Skewness= (Mean=Median=Mode)\n",
    "2.Right Skewness(Positive skewed)= (Mean > Median > Mode)\n",
    "3.Left Skewness (Negative skewed)=(Mean < Median < Mode)\n"
   ]
  },
  {
   "attachments": {},
   "cell_type": "markdown",
   "metadata": {},
   "source": [
    "Q9 If a data is right skewed then what will be the position of median with respect to mean?\n",
    "ANS: If a data is right skewed position of Median is less than Mean."
   ]
  },
  {
   "attachments": {},
   "cell_type": "markdown",
   "metadata": {},
   "source": [
    "Q10.Explain the difference between covariance and correlation. How are these measures used in\n",
    "statistical analysis?"
   ]
  },
  {
   "attachments": {},
   "cell_type": "markdown",
   "metadata": {},
   "source": [
    "ANS:Coveriance:\n",
    "1) it is an indicator of how two random variable are dependent on each other.\n",
    "2) We can deduct correlation from a covariance.\n",
    "3) The value of covariance lies in the range of -∞ and +∞.\n",
    "4) two types of covariance\n",
    "   4.1:Postive Covariance:Two variables indicates that they are heading in the same direction.\n",
    "   4.2:Negative Covariance: Two variables indicates in Opposite direction.\n",
    "Correlation:\n",
    "1) It indicates how strongly these two varables are related ,provided other conditions are constant.\n",
    "2)Correlation provides a measure of covariance on a standard scale.\n",
    "3)Correlation is limited to values between the range -1 and +1.\n",
    "4)Correlation is of three types:\n",
    "  4.1:Simple Correaltion:A Single number expresses the degree to which two variables are relates.\n",
    "  4.2:Partial Correlation: When one variables effectes are removed , the correlation between two variables is revealed in partial correlation.\n",
    "  4.3:Multiple correlation:A Statistical technique that uses two or more variables to predict the value of one variable.\n",
    " \n"
   ]
  },
  {
   "attachments": {},
   "cell_type": "markdown",
   "metadata": {},
   "source": [
    "Q14.How do outliers affect measures of central tendency and dispersion? Provide an example."
   ]
  },
  {
   "attachments": {},
   "cell_type": "markdown",
   "metadata": {},
   "source": [
    "ANS:Outliers are numbers in a data set that are vastly larger or smaller than the other values in the set. Mean ,Median and Mode are measures of central tendency. Mean is the only measure of central tendency that is always affected by an outlier.Mean , tha average is the most popular measure of central tendency."
   ]
  },
  {
   "attachments": {},
   "cell_type": "markdown",
   "metadata": {},
   "source": [
    "Q11.What is the formula for calculating the sample mean? Provide an example calculation for a\n",
    "dataset"
   ]
  },
  {
   "attachments": {},
   "cell_type": "markdown",
   "metadata": {},
   "source": [
    "ANS:Sample Mean:-  x̄=(Σxi)/n.\n",
    "x̄=sample mean\n",
    "xi=refers all X sample values\n",
    "n=number of sample terms in the data set\n",
    "EX: Find the sample mean of 20,30,40,50,10,90.\n",
    "ANS: sum of terms(Σxi)=20+30+40+50+10+90=240\n",
    "numbers of terms=6\n",
    "mean=(sum of terms )/(numbers of terms)\n",
    "mean=240/6\n",
    "mean=40\n"
   ]
  }
 ],
 "metadata": {
  "kernelspec": {
   "display_name": "Python 3",
   "language": "python",
   "name": "python3"
  },
  "language_info": {
   "codemirror_mode": {
    "name": "ipython",
    "version": 3
   },
   "file_extension": ".py",
   "mimetype": "text/x-python",
   "name": "python",
   "nbconvert_exporter": "python",
   "pygments_lexer": "ipython3",
   "version": "3.11.1"
  },
  "orig_nbformat": 4
 },
 "nbformat": 4,
 "nbformat_minor": 2
}
