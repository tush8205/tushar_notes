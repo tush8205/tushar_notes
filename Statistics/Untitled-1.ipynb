{
 "cells": [
  {
   "cell_type": "code",
   "execution_count": null,
   "metadata": {},
   "outputs": [],
   "source": []
  },
  {
   "cell_type": "code",
   "execution_count": 1,
   "metadata": {},
   "outputs": [],
   "source": [
    "import scipy.stats as stat\n",
    "import numpy as np"
   ]
  },
  {
   "cell_type": "code",
   "execution_count": 5,
   "metadata": {},
   "outputs": [],
   "source": [
    "expecte_data=[6,7,8,6,8,9,6]\n",
    "observe_date=[8,8,9,7,6,5,7]"
   ]
  },
  {
   "cell_type": "code",
   "execution_count": 6,
   "metadata": {},
   "outputs": [
    {
     "data": {
      "text/plain": [
       "(50, 50)"
      ]
     },
     "execution_count": 6,
     "metadata": {},
     "output_type": "execute_result"
    }
   ],
   "source": [
    "sum(expecte_data),sum(observe_date)"
   ]
  },
  {
   "cell_type": "code",
   "execution_count": 7,
   "metadata": {},
   "outputs": [],
   "source": [
    "chisquare_test_sta,p_value=stat.chisquare(observe_date,expecte_data)\n"
   ]
  },
  {
   "cell_type": "code",
   "execution_count": 8,
   "metadata": {},
   "outputs": [
    {
     "data": {
      "text/plain": [
       "(3.5456349206349205, 0.7378886029601224)"
      ]
     },
     "execution_count": 8,
     "metadata": {},
     "output_type": "execute_result"
    }
   ],
   "source": [
    "chisquare_test_sta,p_value"
   ]
  },
  {
   "cell_type": "code",
   "execution_count": 10,
   "metadata": {},
   "outputs": [
    {
     "name": "stdout",
     "output_type": "stream",
     "text": [
      "7\n"
     ]
    }
   ],
   "source": [
    "significane_value=0.05\n",
    "dof=len(expecte_data)\n",
    "print(dof)\n",
    "critical_value=stat.chi2.ppf(1-significane_value,dof)"
   ]
  },
  {
   "cell_type": "code",
   "execution_count": 11,
   "metadata": {},
   "outputs": [
    {
     "data": {
      "text/plain": [
       "14.067140449340167"
      ]
     },
     "execution_count": 11,
     "metadata": {},
     "output_type": "execute_result"
    }
   ],
   "source": [
    "critical_value"
   ]
  },
  {
   "cell_type": "code",
   "execution_count": 12,
   "metadata": {},
   "outputs": [
    {
     "name": "stdout",
     "output_type": "stream",
     "text": [
      "accpet the null hypothesis\n"
     ]
    }
   ],
   "source": [
    "if chisquare_test_sta > critical_value:\n",
    "    print(\"we reject the null hypothises\")\n",
    "else:\n",
    "    print(\"accpet the null hypothesis\")"
   ]
  },
  {
   "cell_type": "code",
   "execution_count": 13,
   "metadata": {},
   "outputs": [
    {
     "name": "stdout",
     "output_type": "stream",
     "text": [
      "p value is 0.10319714047309392\n",
      "Independent (H0 holds true )\n"
     ]
    }
   ],
   "source": [
    "import scipy.stats as stat\n",
    "import numpy as np\n",
    "data=[[207,282,241],[234,242,232]]\n",
    "stat,p,dof,expected=stat.chi2_contingency(data)\n",
    "sign_value=0.05\n",
    "print(\"p value is \" + str(p))\n",
    "if p <= sign_value:\n",
    "    print('Dependent (reject H0)')\n",
    "else:\n",
    "    print(\"Independent (H0 holds true )\")\n"
   ]
  },
  {
   "cell_type": "code",
   "execution_count": 15,
   "metadata": {},
   "outputs": [],
   "source": [
    "import scipy.stats as stat\n",
    "import numpy as np"
   ]
  },
  {
   "cell_type": "code",
   "execution_count": 23,
   "metadata": {},
   "outputs": [
    {
     "ename": "ValueError",
     "evalue": "setting an array element with a sequence. The requested array has an inhomogeneous shape after 1 dimensions. The detected shape was (2,) + inhomogeneous part.",
     "output_type": "error",
     "traceback": [
      "\u001b[1;31m---------------------------------------------------------------------------\u001b[0m",
      "\u001b[1;31mValueError\u001b[0m                                Traceback (most recent call last)",
      "Cell \u001b[1;32mIn[23], line 3\u001b[0m\n\u001b[0;32m      1\u001b[0m observe_date\u001b[39m=\u001b[39m[[\u001b[39m200\u001b[39m,\u001b[39m150\u001b[39m,\u001b[39m150\u001b[39m],[\u001b[39m225\u001b[39m,\u001b[39m175\u001b[39m,\u001b[39m100\u001b[39m]]\n\u001b[0;32m      2\u001b[0m expecte_data\u001b[39m=\u001b[39m[[\u001b[39m212.5\u001b[39m,\u001b[39m162\u001b[39m,\u001b[39m5\u001b[39m,\u001b[39m125\u001b[39m],[\u001b[39m212.5\u001b[39m,\u001b[39m162.5\u001b[39m,\u001b[39m125\u001b[39m]]\n\u001b[1;32m----> 3\u001b[0m chisquare_test_sta,p_value\u001b[39m=\u001b[39mstat\u001b[39m.\u001b[39;49mchisquare(observe_date,expecte_data)\n",
      "File \u001b[1;32m~\\AppData\\Roaming\\Python\\Python311\\site-packages\\scipy\\stats\\_stats_py.py:7553\u001b[0m, in \u001b[0;36mchisquare\u001b[1;34m(f_obs, f_exp, ddof, axis)\u001b[0m\n\u001b[0;32m   7428\u001b[0m \u001b[39mdef\u001b[39;00m \u001b[39mchisquare\u001b[39m(f_obs, f_exp\u001b[39m=\u001b[39m\u001b[39mNone\u001b[39;00m, ddof\u001b[39m=\u001b[39m\u001b[39m0\u001b[39m, axis\u001b[39m=\u001b[39m\u001b[39m0\u001b[39m):\n\u001b[0;32m   7429\u001b[0m     \u001b[39m\"\"\"Calculate a one-way chi-square test.\u001b[39;00m\n\u001b[0;32m   7430\u001b[0m \n\u001b[0;32m   7431\u001b[0m \u001b[39m    The chi-square test tests the null hypothesis that the categorical data\u001b[39;00m\n\u001b[1;32m   (...)\u001b[0m\n\u001b[0;32m   7551\u001b[0m \n\u001b[0;32m   7552\u001b[0m \u001b[39m    \"\"\"\u001b[39;00m\n\u001b[1;32m-> 7553\u001b[0m     \u001b[39mreturn\u001b[39;00m power_divergence(f_obs, f_exp\u001b[39m=\u001b[39;49mf_exp, ddof\u001b[39m=\u001b[39;49mddof, axis\u001b[39m=\u001b[39;49maxis,\n\u001b[0;32m   7554\u001b[0m                             lambda_\u001b[39m=\u001b[39;49m\u001b[39m\"\u001b[39;49m\u001b[39mpearson\u001b[39;49m\u001b[39m\"\u001b[39;49m)\n",
      "File \u001b[1;32m~\\AppData\\Roaming\\Python\\Python311\\site-packages\\scipy\\stats\\_stats_py.py:7377\u001b[0m, in \u001b[0;36mpower_divergence\u001b[1;34m(f_obs, f_exp, ddof, axis, lambda_)\u001b[0m\n\u001b[0;32m   7374\u001b[0m f_obs_float \u001b[39m=\u001b[39m f_obs\u001b[39m.\u001b[39mastype(np\u001b[39m.\u001b[39mfloat64)\n\u001b[0;32m   7376\u001b[0m \u001b[39mif\u001b[39;00m f_exp \u001b[39mis\u001b[39;00m \u001b[39mnot\u001b[39;00m \u001b[39mNone\u001b[39;00m:\n\u001b[1;32m-> 7377\u001b[0m     f_exp \u001b[39m=\u001b[39m np\u001b[39m.\u001b[39;49masanyarray(f_exp)\n\u001b[0;32m   7378\u001b[0m     bshape \u001b[39m=\u001b[39m _broadcast_shapes(f_obs_float\u001b[39m.\u001b[39mshape, f_exp\u001b[39m.\u001b[39mshape)\n\u001b[0;32m   7379\u001b[0m     f_obs_float \u001b[39m=\u001b[39m _m_broadcast_to(f_obs_float, bshape)\n",
      "\u001b[1;31mValueError\u001b[0m: setting an array element with a sequence. The requested array has an inhomogeneous shape after 1 dimensions. The detected shape was (2,) + inhomogeneous part."
     ]
    }
   ],
   "source": [
    "observe_date=[[200,150,150],[225,175,100]]\n",
    "expecte_data=[[212.5,162,5,125],[212.5,162.5,125]]\n",
    "chisquare_test_sta,p_value=stat.chisquare(observe_date,expecte_data)\n",
    "\n"
   ]
  },
  {
   "cell_type": "code",
   "execution_count": 18,
   "metadata": {},
   "outputs": [
    {
     "data": {
      "text/plain": [
       "(31.349206349206348, 1.5581394922806692e-07)"
      ]
     },
     "execution_count": 18,
     "metadata": {},
     "output_type": "execute_result"
    }
   ],
   "source": [
    "chisquare_test_sta,p_value"
   ]
  },
  {
   "cell_type": "code",
   "execution_count": 41,
   "metadata": {},
   "outputs": [
    {
     "name": "stdout",
     "output_type": "stream",
     "text": [
      "p value is 0.0012348168997745915\n",
      "expected value [[212.5 162.5 125. ]\n",
      " [212.5 162.5 125. ]]\n",
      "stat13.393665158371041\n",
      "Dependent (reject H0)\n"
     ]
    }
   ],
   "source": [
    "import scipy.stats as stat\n",
    "import numpy as np\n",
    "data=[[200,150,150],[225,175,100]]\n",
    "stat,p,dof,expected=stat.chi2_contingency(data)\n",
    "sign_value=0.01\n",
    "\n",
    "print(\"p value is \" + str(p))\n",
    "print(\"expected value \" + str(expected))\n",
    "print(\"stat\" + str(stat))\n",
    "if p <= sign_value:\n",
    "    print('Dependent (reject H0)')\n",
    "else:\n",
    "    print(\"Independent (H0 holds true )\")\n"
   ]
  },
  {
   "cell_type": "code",
   "execution_count": 39,
   "metadata": {},
   "outputs": [
    {
     "ename": "TypeError",
     "evalue": "type 'DataFrame' is not subscriptable",
     "output_type": "error",
     "traceback": [
      "\u001b[1;31m---------------------------------------------------------------------------\u001b[0m",
      "\u001b[1;31mTypeError\u001b[0m                                 Traceback (most recent call last)",
      "Cell \u001b[1;32mIn[39], line 8\u001b[0m\n\u001b[0;32m      6\u001b[0m column2\u001b[39m=\u001b[39m[\u001b[39m150\u001b[39m,\u001b[39m175\u001b[39m]\n\u001b[0;32m      7\u001b[0m column3\u001b[39m=\u001b[39m[\u001b[39m150\u001b[39m,\u001b[39m100\u001b[39m]\n\u001b[1;32m----> 8\u001b[0m data_interim\u001b[39m=\u001b[39mpd\u001b[39m.\u001b[39;49mDataFrame[[\u001b[39m'\u001b[39;49m\u001b[39mcolumn1\u001b[39;49m\u001b[39m'\u001b[39;49m,\u001b[39m'\u001b[39;49m\u001b[39mcolumn2\u001b[39;49m\u001b[39m'\u001b[39;49m,\u001b[39m'\u001b[39;49m\u001b[39mcolumn3\u001b[39;49m\u001b[39m'\u001b[39;49m]]\n\u001b[0;32m      9\u001b[0m data_cont\u001b[39m=\u001b[39mpd\u001b[39m.\u001b[39mcrosstab(data_interim[\u001b[39m'\u001b[39m\u001b[39mcolumn1\u001b[39m\u001b[39m'\u001b[39m,\u001b[39m'\u001b[39m\u001b[39mcolumn2\u001b[39m\u001b[39m'\u001b[39m,\u001b[39m'\u001b[39m\u001b[39mcolumn3\u001b[39m\u001b[39m'\u001b[39m])\n\u001b[0;32m     10\u001b[0m data_cont\n",
      "\u001b[1;31mTypeError\u001b[0m: type 'DataFrame' is not subscriptable"
     ]
    }
   ],
   "source": [
    "import scipy.stats as stat\n",
    "import numpy as np\n",
    "import pandas as pd \n",
    "\n",
    "column1=[200,225]\n",
    "column2=[150,175]\n",
    "column3=[150,100]\n",
    "data_interim=pd.DataFrame[['column1','column2','column3']]\n",
    "data_cont=pd.crosstab(data_interim['column1','column2','column3'])\n",
    "data_cont\n"
   ]
  },
  {
   "cell_type": "code",
   "execution_count": null,
   "metadata": {},
   "outputs": [],
   "source": []
  },
  {
   "cell_type": "code",
   "execution_count": null,
   "metadata": {},
   "outputs": [],
   "source": []
  },
  {
   "cell_type": "code",
   "execution_count": null,
   "metadata": {},
   "outputs": [],
   "source": []
  },
  {
   "cell_type": "code",
   "execution_count": 42,
   "metadata": {},
   "outputs": [],
   "source": [
    "import numpy as np"
   ]
  },
  {
   "cell_type": "code",
   "execution_count": 43,
   "metadata": {},
   "outputs": [],
   "source": [
    "\n",
    "w1=[18,34,54,65,87,97,45,34]\n",
    "w2=[32,43,65,76,87,98,45,34]"
   ]
  },
  {
   "cell_type": "code",
   "execution_count": 45,
   "metadata": {},
   "outputs": [],
   "source": [
    "f_test=np.var(w1)/np.var(w2)"
   ]
  },
  {
   "cell_type": "code",
   "execution_count": 46,
   "metadata": {},
   "outputs": [
    {
     "data": {
      "text/plain": [
       "1.1823622402890697"
      ]
     },
     "execution_count": 46,
     "metadata": {},
     "output_type": "execute_result"
    }
   ],
   "source": [
    "f_test"
   ]
  },
  {
   "cell_type": "code",
   "execution_count": 48,
   "metadata": {},
   "outputs": [],
   "source": [
    "df1=len(w1)-1\n",
    "df2=len(w2)-1\n",
    "significane_value=0.05"
   ]
  },
  {
   "cell_type": "code",
   "execution_count": 49,
   "metadata": {},
   "outputs": [],
   "source": [
    "import scipy.stats as stat"
   ]
  },
  {
   "cell_type": "code",
   "execution_count": 51,
   "metadata": {},
   "outputs": [],
   "source": [
    "critical_value=stat.f.ppf(q=1-significane_value,dfn=df1,dfd=df2)"
   ]
  },
  {
   "cell_type": "code",
   "execution_count": 52,
   "metadata": {},
   "outputs": [
    {
     "data": {
      "text/plain": [
       "3.7870435399280686"
      ]
     },
     "execution_count": 52,
     "metadata": {},
     "output_type": "execute_result"
    }
   ],
   "source": [
    "critical_value"
   ]
  },
  {
   "cell_type": "code",
   "execution_count": 53,
   "metadata": {},
   "outputs": [
    {
     "name": "stdout",
     "output_type": "stream",
     "text": [
      "we fail to reject null hypothesis\n"
     ]
    }
   ],
   "source": [
    "if f_test>critical_value:\n",
    "    print(\"reject the null hypothesis\")\n",
    "else:\n",
    "    print(\"we fail to reject null hypothesis\")"
   ]
  },
  {
   "cell_type": "code",
   "execution_count": 54,
   "metadata": {},
   "outputs": [
    {
     "name": "stdout",
     "output_type": "stream",
     "text": [
      "4.533676950275243\n"
     ]
    }
   ],
   "source": [
    "import scipy.stats\n",
    "  \n",
    "# Determine the F critical value\n",
    "print(scipy.stats.f.ppf(q=1-0.05, dfn=4, dfd=6))"
   ]
  },
  {
   "cell_type": "code",
   "execution_count": null,
   "metadata": {},
   "outputs": [],
   "source": []
  }
 ],
 "metadata": {
  "kernelspec": {
   "display_name": "Python 3",
   "language": "python",
   "name": "python3"
  },
  "language_info": {
   "codemirror_mode": {
    "name": "ipython",
    "version": 3
   },
   "file_extension": ".py",
   "mimetype": "text/x-python",
   "name": "python",
   "nbconvert_exporter": "python",
   "pygments_lexer": "ipython3",
   "version": "3.11.2"
  },
  "orig_nbformat": 4,
  "vscode": {
   "interpreter": {
    "hash": "2469a70536e4d2335a2ea8907942d0699c37342a371ac185bdb5b0aa6f073890"
   }
  }
 },
 "nbformat": 4,
 "nbformat_minor": 2
}
