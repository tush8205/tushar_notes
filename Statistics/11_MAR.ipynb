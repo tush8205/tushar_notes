{
 "cells": [
  {
   "attachments": {},
   "cell_type": "markdown",
   "metadata": {},
   "source": [
    "Q1.What is the difference between a t-test and a z-test? Provide an example scenario where you would use each type of test.\n",
    "ANS:z-test is used to test a Null Hypothesis if the population variance is known, or if the sample size is larger than 30, for an unknown population variance.  t-test is used when the sample size is less than 30 and the population variance is unknown"
   ]
  },
  {
   "attachments": {},
   "cell_type": "markdown",
   "metadata": {},
   "source": [
    "Q2. Differentiate between one-tailed and two-tailed tests.\n",
    "ANS:One-Tailed Test:-1. A statistical hypothesis test in which alternative hypothesis has only one end is known as one tailed test.\n",
    "2.hypothesis directional\n",
    "3.region of rejection either left or right\n",
    "4.greater or less than certain value.\n",
    "Two-Tailed Test:1.A significance test in which alternative hhypothesis has two ends is called two tailed test.\n",
    "2.hypothesis non directional.\n",
    "3.Region of rejection both left and right\n",
    "4.greater or less than certain  range of value.\n",
    "\n"
   ]
  },
  {
   "attachments": {},
   "cell_type": "markdown",
   "metadata": {},
   "source": [
    "Q3. Explain the concept of Type 1 and Type 2 errors in hypothesis testing. Provide an example scenario for\n",
    "each type of error.\n",
    "ANS:Type 1 errors(False Postive):we reject the null  hypothesis when the reality it is True.Our null hypothesis is the hypothesis for our expected outcome. If our null hypothesis is that dogs live longer than cats it would be like saying dogs don't live longer than cats when in fact, they do.\n",
    "examle:the test result says you have coronavirus, but you actually don’t.\n",
    "Type 2 errors(False Nagative): we retain the null hypothesis when the reality it is False. our null hypothesis that dogs live longer than cats it would be like saying that dogs do live longer than cats when in fact they don't.\n",
    "example:the test result says you don’t have coronavirus, but you actually do."
   ]
  },
  {
   "attachments": {},
   "cell_type": "markdown",
   "metadata": {},
   "source": [
    " Q4.Explain Bayes's theorem with an example.\n",
    " ANS:Bayes Theorem states that the conditional probability of an event based on the occurrence of another event, is equal to the likelihood of the second event given the first event multiplied by the probability of the first event.It gives the probablity of an event with the given information on tests."
   ]
  },
  {
   "attachments": {},
   "cell_type": "markdown",
   "metadata": {},
   "source": [
    " Q5.What is a confidence interval? How to calculate the confidence interval, explain with an example.\n",
    " ANS:A confidence interval, in statistics, refers to the probability that a population parameter will fall between a set of values for a certain proportion of times.Confidence intervals measure the degree of uncertainty or certainty in a sampling method.\n",
    " example: In a tree, there are hundreds of apples. You are randomly choosing 46 apples with a mean of 86 and a standard deviation of 6.2. Determine that the apples are big enough.\n",
    " Given: Mean, X̄ = 86\n",
    "Standard deviation, σ = 6.2\n",
    "Number of sample, n = 46\n",
    "Take the confidence level as 95%.  the value of z = 1.960 (from the table)\n",
    "The formula to find the confidence interval is\n",
    "CI=X̄ ± Zα/2 × [ σ / √n ]\n",
    "CI=86 ± 1.960 × [ 6.2 / √46 ]\n",
    "CI=86 ± 1.960 × [ 6.2 / 6.78]\n",
    "CI=86 ± 1.960 × 0.914\n",
    "CI=86 ± 1.79\n",
    "Here, the margin of error is 1.79\n",
    "Therefore, all the hundreds of apples are likely to be between in the range of 84. 21 and 87.79.\n",
    "\n",
    " "
   ]
  },
  {
   "attachments": {},
   "cell_type": "markdown",
   "metadata": {},
   "source": [
    "Q6.Use Bayes' Theorem to calculate the probability of an event occurring given prior knowledge of the event's probability and new evidence. Provide a sample problem and solution.\n",
    "ANS:\n",
    "Amy has two bags. Bag I has 7 red and 2 blue balls and bag II has 5 red and 9 blue balls. Amy draws a ball at random and it turns out to be red. Determine the probability that the ball was from the bag I using the Bayes theorem.\n",
    "\n",
    "probability of choosing a bag for drawing a ball is 1/2\n",
    "P(drawing a red ball from the bag I) = P(A|X) = 7/9\n",
    "P(drawing a red ball from bag II) = P(A|Y) = 5/14\n",
    "P(X|A)=P(A|X)P(X) / P(A|X)P(X)+P(A|Y)P(Y)\n",
    "= [((7/9)(1/2))/(7/9)(1/2)+(5/14)(1/2)]\n",
    "=0.68\n",
    " the probability that the ball is drawn is from bag I is 0.68"
   ]
  },
  {
   "attachments": {},
   "cell_type": "markdown",
   "metadata": {},
   "source": [
    "Q7.Calculate the 95% confidence interval for a sample of data with a mean of 50 and a standard deviationof 5. Interpret the results.\n",
    "\n",
    "ANS: Mean, X̄ = 50\n",
    "Standard deviation, σ = 5\n",
    "Number of sample, n = 100\n",
    "Take the confidence level as 95%.  the value of z = 1.960 (from the table)\n",
    "The formula to find the confidence interval is\n",
    "CI=X̄ ± Zα/2 × [ σ / √n ]\n",
    "CI=50 ± 1.960 * [5/10]\n",
    "CI= 50 ± 0.98\n",
    " the margin of error is 0.98\n",
    "CI=(49.02,50.82)"
   ]
  },
  {
   "attachments": {},
   "cell_type": "markdown",
   "metadata": {},
   "source": [
    " Q9.Calculate the z-score for a data point with a value of 75, a population mean of 70, and a population\n",
    "standard deviation of 5. Interpret the results\n",
    "ANS:\n",
    "μ,mean=70\n",
    "σ,standard deviation=5\n",
    "x,data point=75\n",
    "z=(data point - mean)/standard deviation\n",
    "\n",
    "z= x−μ/σ\n",
    "z=(75 - 70)/5\n",
    "z=1\n",
    "x score is 1 .\n",
    "\n",
    "​\n",
    " "
   ]
  },
  {
   "attachments": {},
   "cell_type": "markdown",
   "metadata": {},
   "source": [
    "Q11.In a survey of 500 people, 65% reported being satisfied with their current job. Calculate the 95% confidence interval for the true proportion of people who are satisfied with their job.\n",
    "ANS: \n",
    " sample size(n)=500\n",
    " sample proportion(p)=0.65\n",
    " level of confidence=95%\n",
    " z value for 95% confidence level which is 1.96\n",
    " we can calculate the standard error of the proportion\n",
    " Standard error= sqrt[(p*(1-p))/n]\n",
    "                 sqrt[(0.65 * 0.35)/500]\n",
    "                =0.028\n",
    "\n",
    "confidence interval=0.65 ± (1.96 * 0.028)\n",
    "                   =0.595 to 0.705\n",
    "\n",
    "We can be 95% confident that the true proportion of people who aare satisfied with their job in the population lies between 59.5% to 70.5%."
   ]
  },
  {
   "cell_type": "code",
   "execution_count": null,
   "metadata": {},
   "outputs": [],
   "source": []
  },
  {
   "cell_type": "code",
   "execution_count": null,
   "metadata": {},
   "outputs": [],
   "source": []
  }
 ],
 "metadata": {
  "kernelspec": {
   "display_name": "Python 3",
   "language": "python",
   "name": "python3"
  },
  "language_info": {
   "codemirror_mode": {
    "name": "ipython",
    "version": 3
   },
   "file_extension": ".py",
   "mimetype": "text/x-python",
   "name": "python",
   "nbconvert_exporter": "python",
   "pygments_lexer": "ipython3",
   "version": "3.11.2"
  },
  "orig_nbformat": 4
 },
 "nbformat": 4,
 "nbformat_minor": 2
}
