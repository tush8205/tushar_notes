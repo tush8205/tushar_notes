{
 "cells": [
  {
   "attachments": {},
   "cell_type": "markdown",
   "metadata": {},
   "source": [
    "Q1.What are the Probability Mass Function (PMF) and Probability Density Function (PDF)? Explain with an example."
   ]
  },
  {
   "attachments": {},
   "cell_type": "markdown",
   "metadata": {},
   "source": [
    "ANS:1.Probability mass function denotes the probability that a discrete random variable will take on a particular value.\n",
    "    It is used for discrete random variables.\n",
    "    evaluated at an exact point.\n",
    "\n",
    "2.Probability density function gives the probability that a continuous random variable will lie between a certain specified interval.\n",
    "  It is used for continuous random variables.\n",
    "   evaluated between  a range of values.\n",
    "\n"
   ]
  },
  {
   "attachments": {},
   "cell_type": "markdown",
   "metadata": {},
   "source": [
    "Q2. What is Cumulative Density Function (CDF)? Explain with an example. Why CDF is used?"
   ]
  },
  {
   "attachments": {},
   "cell_type": "markdown",
   "metadata": {},
   "source": [
    "ANS:The cumulative distribution function is used to describe the probability distribution of random varibale .It can be used to describe the probability for a discrete,continuous or mixed variable.The range of CDF , from 0 to 1."
   ]
  },
  {
   "attachments": {},
   "cell_type": "markdown",
   "metadata": {},
   "source": [
    "Q10. State the assumptions of the Central Limit Theorem.\n",
    "ANS:1.The final sample should ideally be drawn in a random manner after the condition of randomization.\n",
    "2.The sample that is drawn should also be independent of one other . This means that the sample should not influence ither samples.\n",
    "3.If the sampling is done without any replacement , then the smaple size should not exceed 10% of the total population.\n",
    "4.The sample size should also be quite large "
   ]
  },
  {
   "attachments": {},
   "cell_type": "markdown",
   "metadata": {},
   "source": [
    " Q9.What is Central Limit Theorem? State the significance of the Central Limit Theorem"
   ]
  },
  {
   "attachments": {},
   "cell_type": "markdown",
   "metadata": {},
   "source": [
    "ANS:The cnetral limit theorem says that the sampling distribution of the mean will always be normally distributed, as long as the sample size is large enough.\n",
    "Significance:1. The normal distribution is often used to model real world phenomena and the CLT enables us to use it even when the underlying distribution of the data is not normal.\n",
    "2.The CLT is the basis for the popular t-test and z-test which are commonly used in statistical analysis to test hypotheses about population means and variances.\n",
    "3.The CLT allows us to make prediction about the behaviour of large samples."
   ]
  },
  {
   "attachments": {},
   "cell_type": "markdown",
   "metadata": {},
   "source": [
    "Q8.What is the z score? State the importance of the z score.\n",
    "ANS:A numerical measurement that describes a value's relationship to the mean of a group of values and is measured in terms of standard deviation from the mean.\n",
    "Importance:1.Normalization\n",
    "           2.Outlier detection\n",
    "           3.Hypothesis testing\n",
    "           4.Confidence intervals\n",
    "           5.Quality control"
   ]
  },
  {
   "attachments": {},
   "cell_type": "markdown",
   "metadata": {},
   "source": [
    "Q7.Explain uniform Distribution with an example.\n",
    "ANS:A uniform distribution is a probability distribution where every possible outcomes of an event has an equal chance of occurring.This is also known as a rectangular distribution because the graph of the probability distribution is rectangle.\n",
    "EX:Rolling a fair die . die has six possible outcomes and each outcomes has an equal chance of occurring.therfore the porbability of rolling a 1,2,3,4,5,6 is 1/6 or approx.0.1667\n",
    "\n"
   ]
  },
  {
   "attachments": {},
   "cell_type": "markdown",
   "metadata": {},
   "source": [
    " Q5.What is Bernaulli Distribution? Give an Example. What is the difference between Bernoulli Distribution and Binomial Distribution?"
   ]
  },
  {
   "attachments": {},
   "cell_type": "markdown",
   "metadata": {},
   "source": [
    "ANS:In probability theory and statistics, the bernoulli distribution , named after swiss mathematician Jacob Bernoulli is the discrete probability distribution of an random variable which takes the value 1 with probability p and the value 0 with probability q=1-p. \n",
    "Bernoulli distribution is a discrete probability distribution.\n",
    "A Bernilli trial is an event that has only two possible outcmes(success or failure)\n",
    "example:toss a coin (heads or tails) or (success or Failure)\n",
    "\n",
    "Difference:\n",
    "Bernoulli deals with the outcome of the single trial of the event \n",
    "Binomial deals with the outcome of the multiple trials of the single event.\n",
    "Bernoulli is used when the outcome of an event is requires for only  one time, Binomial is used when the outcome of an event is required multiple times.\n",
    "\n"
   ]
  },
  {
   "attachments": {},
   "cell_type": "markdown",
   "metadata": {},
   "source": [
    "Q4.Explain the importance of Normal Distribution. Give a few real-life examples of Normal Distribution. \n",
    "ANS:It also known as Gaussian distribution or bell curve, is a statisical concept that is widely used in data analysis and modeling.The importance of normal distribution stems from the fact that many natural phenomena follow this distribution.In fact it is often consideerd the most important probability distribution in statistics. \n",
    "Example:\n",
    "1.Heights of people: the height of people in population typically follow a normal distribution.this means that most people  will fall around the average height with fewer people being either very tall or very shot."
   ]
  },
  {
   "attachments": {},
   "cell_type": "markdown",
   "metadata": {},
   "source": [
    "Q3.What are some examples of situations where the normal distribution might be used as a model? Explain how the parameters of the normal distribution relate to the shape of the distribution."
   ]
  },
  {
   "attachments": {},
   "cell_type": "markdown",
   "metadata": {},
   "source": [
    "ANS:Example of Normal Distribution.\n",
    " 1.The height of people \n",
    " 2.Rolling a dice\n",
    " 3.Tossing A coin\n",
    " 4.Blood Pressure\n",
    " 5.Shoe Size\n",
    "\n",
    " A normal distribution is symmetric from the peak of the curve ,where the mean is. This means that most of the obderved data is clustered near the mean, while the data become less frequent when farther away from the mean.\n",
    " Two main parameters of normal Distribution are mean  and standard deviation.The parameters determine the shape and probabilities of the distribution.The shape of the distibution changes as the paramenter value change.\n",
    "  1.Mean:In a normal Distribution graph, the mean define the location of the peak, most of the data points are clustered around the mean.\n",
    "  2.Standard Deviation:The standard deviation measures the dispersion of the data points relative to the mean. It determines how far away from the mean the data  points are positined  and represents the distance between the mean and the observation."
   ]
  }
 ],
 "metadata": {
  "kernelspec": {
   "display_name": "Python 3",
   "language": "python",
   "name": "python3"
  },
  "language_info": {
   "codemirror_mode": {
    "name": "ipython",
    "version": 3
   },
   "file_extension": ".py",
   "mimetype": "text/x-python",
   "name": "python",
   "nbconvert_exporter": "python",
   "pygments_lexer": "ipython3",
   "version": "3.11.1"
  },
  "orig_nbformat": 4
 },
 "nbformat": 4,
 "nbformat_minor": 2
}
